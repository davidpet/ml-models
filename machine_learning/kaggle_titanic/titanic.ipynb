{
 "cells": [
  {
   "cell_type": "code",
   "execution_count": 2,
   "id": "26a04282",
   "metadata": {},
   "outputs": [],
   "source": [
    "import pandas as pd\n",
    "import matplotlib.pyplot as plt\n",
    "import math\n",
    "import tensorflow as tf\n",
    "import numpy as np\n",
    "import os\n",
    "import importlib\n",
    "import sys\n",
    "\n",
    "from machine_learning.common import checks\n",
    "from machine_learning.common import visualization\n",
    "from machine_learning.common import datasets\n",
    "from machine_learning.common import models\n",
    "from machine_learning.common import error_analysis\n",
    "\n",
    "import preprocessing"
   ]
  },
  {
   "cell_type": "code",
   "execution_count": 100,
   "id": "1c8f8e2d",
   "metadata": {},
   "outputs": [
    {
     "data": {
      "text/plain": [
       "<module 'preprocessing' from '/mnt/d/LinuxHome/repos/projects/machine_learning/kaggle_titanic/preprocessing.py'>"
      ]
     },
     "execution_count": 100,
     "metadata": {},
     "output_type": "execute_result"
    }
   ],
   "source": [
    "importlib.reload(checks)\n",
    "importlib.reload(visualization)\n",
    "importlib.reload(datasets)\n",
    "importlib.reload(models)\n",
    "importlib.reload(error_analysis)\n",
    "\n",
    "importlib.reload(preprocessing)"
   ]
  },
  {
   "attachments": {},
   "cell_type": "markdown",
   "id": "da0e8e65",
   "metadata": {},
   "source": [
    "## Machine-Specific Configuration\n",
    "\n",
    "The defaults are meant for my Windows WSL machine where I store datasets on my P drive and do not commit model checkpoints to GitHub.\n"
   ]
  },
  {
   "cell_type": "code",
   "execution_count": 5,
   "id": "9fdd6df8",
   "metadata": {},
   "outputs": [],
   "source": [
    "INPUT_FOLDER = '/mnt/p/Datasets/titanic'  # This will be different on kaggle\n",
    "\n",
    "TRAINING_DATA = os.path.join(INPUT_FOLDER, 'train.csv')\n",
    "TEST_DATA = os.path.join(INPUT_FOLDER, 'test.csv')\n",
    "\n",
    "MODEL_FOLDER = '/mnt/p/Models/kaggle-titanic'"
   ]
  },
  {
   "attachments": {},
   "cell_type": "markdown",
   "id": "708d7452",
   "metadata": {},
   "source": [
    "## Sanity Checks\n",
    "\n",
    "If any of these fail, you need to manually copy the files or fix a path above.\n"
   ]
  },
  {
   "cell_type": "code",
   "execution_count": 6,
   "id": "c472340a",
   "metadata": {},
   "outputs": [
    {
     "name": "stdout",
     "output_type": "stream",
     "text": [
      "\u001b[2m\u001b[34mTraining file exists\u001b[0m: \u001b[32mPass\u001b[0m\n",
      "\u001b[2m\u001b[34mTest file exists\u001b[0m: \u001b[32mPass\u001b[0m\n"
     ]
    }
   ],
   "source": [
    "checks.check_condition(os.path.exists(TRAINING_DATA), 'Training file exists')\n",
    "checks.check_condition(os.path.exists(TEST_DATA), 'Test file exists')"
   ]
  },
  {
   "attachments": {},
   "cell_type": "markdown",
   "id": "902f4e1c",
   "metadata": {},
   "source": [
    "# Data Analysis\n"
   ]
  },
  {
   "attachments": {},
   "cell_type": "markdown",
   "id": "f2dfaf78",
   "metadata": {},
   "source": [
    "## Load Data\n"
   ]
  },
  {
   "cell_type": "code",
   "execution_count": 7,
   "id": "f9e6f015",
   "metadata": {},
   "outputs": [],
   "source": [
    "full_df = pd.read_csv(TRAINING_DATA, index_col=\"PassengerId\")"
   ]
  },
  {
   "attachments": {},
   "cell_type": "markdown",
   "id": "6381e4f1",
   "metadata": {},
   "source": [
    "## Examine Data\n"
   ]
  },
  {
   "cell_type": "code",
   "execution_count": 8,
   "id": "09e0754b",
   "metadata": {},
   "outputs": [
    {
     "data": {
      "text/html": [
       "<div>\n",
       "<style scoped>\n",
       "    .dataframe tbody tr th:only-of-type {\n",
       "        vertical-align: middle;\n",
       "    }\n",
       "\n",
       "    .dataframe tbody tr th {\n",
       "        vertical-align: top;\n",
       "    }\n",
       "\n",
       "    .dataframe thead th {\n",
       "        text-align: right;\n",
       "    }\n",
       "</style>\n",
       "<table border=\"1\" class=\"dataframe\">\n",
       "  <thead>\n",
       "    <tr style=\"text-align: right;\">\n",
       "      <th></th>\n",
       "      <th>Survived</th>\n",
       "      <th>Pclass</th>\n",
       "      <th>Name</th>\n",
       "      <th>Sex</th>\n",
       "      <th>Age</th>\n",
       "      <th>SibSp</th>\n",
       "      <th>Parch</th>\n",
       "      <th>Ticket</th>\n",
       "      <th>Fare</th>\n",
       "      <th>Cabin</th>\n",
       "      <th>Embarked</th>\n",
       "    </tr>\n",
       "    <tr>\n",
       "      <th>PassengerId</th>\n",
       "      <th></th>\n",
       "      <th></th>\n",
       "      <th></th>\n",
       "      <th></th>\n",
       "      <th></th>\n",
       "      <th></th>\n",
       "      <th></th>\n",
       "      <th></th>\n",
       "      <th></th>\n",
       "      <th></th>\n",
       "      <th></th>\n",
       "    </tr>\n",
       "  </thead>\n",
       "  <tbody>\n",
       "    <tr>\n",
       "      <th>1</th>\n",
       "      <td>0</td>\n",
       "      <td>3</td>\n",
       "      <td>Braund, Mr. Owen Harris</td>\n",
       "      <td>male</td>\n",
       "      <td>22.0</td>\n",
       "      <td>1</td>\n",
       "      <td>0</td>\n",
       "      <td>A/5 21171</td>\n",
       "      <td>7.2500</td>\n",
       "      <td>NaN</td>\n",
       "      <td>S</td>\n",
       "    </tr>\n",
       "    <tr>\n",
       "      <th>2</th>\n",
       "      <td>1</td>\n",
       "      <td>1</td>\n",
       "      <td>Cumings, Mrs. John Bradley (Florence Briggs Th...</td>\n",
       "      <td>female</td>\n",
       "      <td>38.0</td>\n",
       "      <td>1</td>\n",
       "      <td>0</td>\n",
       "      <td>PC 17599</td>\n",
       "      <td>71.2833</td>\n",
       "      <td>C85</td>\n",
       "      <td>C</td>\n",
       "    </tr>\n",
       "    <tr>\n",
       "      <th>3</th>\n",
       "      <td>1</td>\n",
       "      <td>3</td>\n",
       "      <td>Heikkinen, Miss. Laina</td>\n",
       "      <td>female</td>\n",
       "      <td>26.0</td>\n",
       "      <td>0</td>\n",
       "      <td>0</td>\n",
       "      <td>STON/O2. 3101282</td>\n",
       "      <td>7.9250</td>\n",
       "      <td>NaN</td>\n",
       "      <td>S</td>\n",
       "    </tr>\n",
       "    <tr>\n",
       "      <th>4</th>\n",
       "      <td>1</td>\n",
       "      <td>1</td>\n",
       "      <td>Futrelle, Mrs. Jacques Heath (Lily May Peel)</td>\n",
       "      <td>female</td>\n",
       "      <td>35.0</td>\n",
       "      <td>1</td>\n",
       "      <td>0</td>\n",
       "      <td>113803</td>\n",
       "      <td>53.1000</td>\n",
       "      <td>C123</td>\n",
       "      <td>S</td>\n",
       "    </tr>\n",
       "    <tr>\n",
       "      <th>5</th>\n",
       "      <td>0</td>\n",
       "      <td>3</td>\n",
       "      <td>Allen, Mr. William Henry</td>\n",
       "      <td>male</td>\n",
       "      <td>35.0</td>\n",
       "      <td>0</td>\n",
       "      <td>0</td>\n",
       "      <td>373450</td>\n",
       "      <td>8.0500</td>\n",
       "      <td>NaN</td>\n",
       "      <td>S</td>\n",
       "    </tr>\n",
       "    <tr>\n",
       "      <th>...</th>\n",
       "      <td>...</td>\n",
       "      <td>...</td>\n",
       "      <td>...</td>\n",
       "      <td>...</td>\n",
       "      <td>...</td>\n",
       "      <td>...</td>\n",
       "      <td>...</td>\n",
       "      <td>...</td>\n",
       "      <td>...</td>\n",
       "      <td>...</td>\n",
       "      <td>...</td>\n",
       "    </tr>\n",
       "    <tr>\n",
       "      <th>887</th>\n",
       "      <td>0</td>\n",
       "      <td>2</td>\n",
       "      <td>Montvila, Rev. Juozas</td>\n",
       "      <td>male</td>\n",
       "      <td>27.0</td>\n",
       "      <td>0</td>\n",
       "      <td>0</td>\n",
       "      <td>211536</td>\n",
       "      <td>13.0000</td>\n",
       "      <td>NaN</td>\n",
       "      <td>S</td>\n",
       "    </tr>\n",
       "    <tr>\n",
       "      <th>888</th>\n",
       "      <td>1</td>\n",
       "      <td>1</td>\n",
       "      <td>Graham, Miss. Margaret Edith</td>\n",
       "      <td>female</td>\n",
       "      <td>19.0</td>\n",
       "      <td>0</td>\n",
       "      <td>0</td>\n",
       "      <td>112053</td>\n",
       "      <td>30.0000</td>\n",
       "      <td>B42</td>\n",
       "      <td>S</td>\n",
       "    </tr>\n",
       "    <tr>\n",
       "      <th>889</th>\n",
       "      <td>0</td>\n",
       "      <td>3</td>\n",
       "      <td>Johnston, Miss. Catherine Helen \"Carrie\"</td>\n",
       "      <td>female</td>\n",
       "      <td>NaN</td>\n",
       "      <td>1</td>\n",
       "      <td>2</td>\n",
       "      <td>W./C. 6607</td>\n",
       "      <td>23.4500</td>\n",
       "      <td>NaN</td>\n",
       "      <td>S</td>\n",
       "    </tr>\n",
       "    <tr>\n",
       "      <th>890</th>\n",
       "      <td>1</td>\n",
       "      <td>1</td>\n",
       "      <td>Behr, Mr. Karl Howell</td>\n",
       "      <td>male</td>\n",
       "      <td>26.0</td>\n",
       "      <td>0</td>\n",
       "      <td>0</td>\n",
       "      <td>111369</td>\n",
       "      <td>30.0000</td>\n",
       "      <td>C148</td>\n",
       "      <td>C</td>\n",
       "    </tr>\n",
       "    <tr>\n",
       "      <th>891</th>\n",
       "      <td>0</td>\n",
       "      <td>3</td>\n",
       "      <td>Dooley, Mr. Patrick</td>\n",
       "      <td>male</td>\n",
       "      <td>32.0</td>\n",
       "      <td>0</td>\n",
       "      <td>0</td>\n",
       "      <td>370376</td>\n",
       "      <td>7.7500</td>\n",
       "      <td>NaN</td>\n",
       "      <td>Q</td>\n",
       "    </tr>\n",
       "  </tbody>\n",
       "</table>\n",
       "<p>891 rows × 11 columns</p>\n",
       "</div>"
      ],
      "text/plain": [
       "             Survived  Pclass  \\\n",
       "PassengerId                     \n",
       "1                   0       3   \n",
       "2                   1       1   \n",
       "3                   1       3   \n",
       "4                   1       1   \n",
       "5                   0       3   \n",
       "...               ...     ...   \n",
       "887                 0       2   \n",
       "888                 1       1   \n",
       "889                 0       3   \n",
       "890                 1       1   \n",
       "891                 0       3   \n",
       "\n",
       "                                                          Name     Sex   Age  \\\n",
       "PassengerId                                                                    \n",
       "1                                      Braund, Mr. Owen Harris    male  22.0   \n",
       "2            Cumings, Mrs. John Bradley (Florence Briggs Th...  female  38.0   \n",
       "3                                       Heikkinen, Miss. Laina  female  26.0   \n",
       "4                 Futrelle, Mrs. Jacques Heath (Lily May Peel)  female  35.0   \n",
       "5                                     Allen, Mr. William Henry    male  35.0   \n",
       "...                                                        ...     ...   ...   \n",
       "887                                      Montvila, Rev. Juozas    male  27.0   \n",
       "888                               Graham, Miss. Margaret Edith  female  19.0   \n",
       "889                   Johnston, Miss. Catherine Helen \"Carrie\"  female   NaN   \n",
       "890                                      Behr, Mr. Karl Howell    male  26.0   \n",
       "891                                        Dooley, Mr. Patrick    male  32.0   \n",
       "\n",
       "             SibSp  Parch            Ticket     Fare Cabin Embarked  \n",
       "PassengerId                                                          \n",
       "1                1      0         A/5 21171   7.2500   NaN        S  \n",
       "2                1      0          PC 17599  71.2833   C85        C  \n",
       "3                0      0  STON/O2. 3101282   7.9250   NaN        S  \n",
       "4                1      0            113803  53.1000  C123        S  \n",
       "5                0      0            373450   8.0500   NaN        S  \n",
       "...            ...    ...               ...      ...   ...      ...  \n",
       "887              0      0            211536  13.0000   NaN        S  \n",
       "888              0      0            112053  30.0000   B42        S  \n",
       "889              1      2        W./C. 6607  23.4500   NaN        S  \n",
       "890              0      0            111369  30.0000  C148        C  \n",
       "891              0      0            370376   7.7500   NaN        Q  \n",
       "\n",
       "[891 rows x 11 columns]"
      ]
     },
     "execution_count": 8,
     "metadata": {},
     "output_type": "execute_result"
    }
   ],
   "source": [
    "full_df"
   ]
  },
  {
   "cell_type": "code",
   "execution_count": 9,
   "id": "fe1b48dd",
   "metadata": {},
   "outputs": [
    {
     "data": {
      "text/plain": [
       "Survived      int64\n",
       "Pclass        int64\n",
       "Name         object\n",
       "Sex          object\n",
       "Age         float64\n",
       "SibSp         int64\n",
       "Parch         int64\n",
       "Ticket       object\n",
       "Fare        float64\n",
       "Cabin        object\n",
       "Embarked     object\n",
       "dtype: object"
      ]
     },
     "execution_count": 9,
     "metadata": {},
     "output_type": "execute_result"
    }
   ],
   "source": [
    "full_df.dtypes"
   ]
  },
  {
   "attachments": {},
   "cell_type": "markdown",
   "id": "b560604b",
   "metadata": {},
   "source": [
    "The dataset does have some **skew** to it.\n"
   ]
  },
  {
   "cell_type": "code",
   "execution_count": 10,
   "id": "38dde575",
   "metadata": {},
   "outputs": [
    {
     "name": "stdout",
     "output_type": "stream",
     "text": [
      "38.38% survived\n"
     ]
    }
   ],
   "source": [
    "print(\n",
    "    f'{100 * visualization.compute_truth_ratio(full_df, \"Survived\"):.2f}% survived'\n",
    ")\n"
   ]
  },
  {
   "attachments": {},
   "cell_type": "markdown",
   "id": "9088d801",
   "metadata": {},
   "source": [
    "## Visualize Data\n",
    "\n",
    "Because we have only a few columns, we can examine them individually to see which seem to help predict the survival rate.\n"
   ]
  },
  {
   "cell_type": "code",
   "execution_count": 11,
   "id": "c9b1ac81",
   "metadata": {
    "scrolled": false
   },
   "outputs": [
    {
     "data": {
      "image/png": "[encoded data removed]",
      "text/plain": [
       "<Figure size 640x480 with 1 Axes>"
      ]
     },
     "metadata": {},
     "output_type": "display_data"
    },
    {
     "data": {
      "image/png": "[encoded data removed]",
      "text/plain": [
       "<Figure size 640x480 with 1 Axes>"
      ]
     },
     "metadata": {},
     "output_type": "display_data"
    },
    {
     "data": {
      "image/png": "[encoded data removed]",
      "text/plain": [
       "<Figure size 640x480 with 1 Axes>"
      ]
     },
     "metadata": {},
     "output_type": "display_data"
    },
    {
     "data": {
      "image/png": "[encoded data removed]",
      "text/plain": [
       "<Figure size 640x480 with 1 Axes>"
      ]
     },
     "metadata": {},
     "output_type": "display_data"
    },
    {
     "data": {
      "image/png": "[encoded data removed]",
      "text/plain": [
       "<Figure size 640x480 with 1 Axes>"
      ]
     },
     "metadata": {},
     "output_type": "display_data"
    },
    {
     "data": {
      "image/png": "[encoded data removed]",
      "text/plain": [
       "<Figure size 640x480 with 1 Axes>"
      ]
     },
     "metadata": {},
     "output_type": "display_data"
    },
    {
     "data": {
      "image/png": "[encoded data removed]",
      "text/plain": [
       "<Figure size 640x480 with 1 Axes>"
      ]
     },
     "metadata": {},
     "output_type": "display_data"
    },
    {
     "data": {
      "image/png": "[encoded data removed]",
      "text/plain": [
       "<Figure size 640x480 with 1 Axes>"
      ]
     },
     "metadata": {},
     "output_type": "display_data"
    }
   ],
   "source": [
    "visualization.examine_candidate_column(full_df, 'Pclass', \"Passenger Class\",\n",
    "                                       \"Survived\",\n",
    "                                       \"Survived\")  # Looks very linear\n",
    "visualization.examine_candidate_column(full_df, 'Sex', 'Sex', \"Survived\",\n",
    "                                       \"Survived\")  # Looks very predictive\n",
    "visualization.examine_candidate_column(\n",
    "    full_df, 'Age', 'Age', \"Survived\",\n",
    "    \"Survived\")  # Looks possibly useful but need to BUCKET\n",
    "visualization.examine_candidate_column(\n",
    "    full_df, 'SibSp', \"Siblings and Spouses\", \"Survived\",\n",
    "    \"Survived\")  # It does look like 1-2 is a boost in survival rate\n",
    "visualization.examine_candidate_column(\n",
    "    full_df, 'Parch', \"Parents and Children\", \"Survived\",\n",
    "    \"Survived\")  # Not clear that this is helpful\n",
    "visualization.examine_candidate_column(\n",
    "    full_df, 'Fare', 'Fare', \"Survived\",\n",
    "    \"Survived\")  # Surprisingly unhelpful but maybe we can BUCKET it\n",
    "visualization.examine_candidate_column(\n",
    "    full_df, 'Cabin', 'Cabin', \"Survived\",\n",
    "    \"Survived\")  # Surprisingly unhelpful but maybe we can BUCKET it\n",
    "visualization.examine_candidate_column(\n",
    "    full_df, 'Embarked', 'Embarked', \"Survived\", \"Survived\"\n",
    ")  # Looks possibly helpful (exponential decay but with low resolution)\n"
   ]
  },
  {
   "attachments": {},
   "cell_type": "markdown",
   "id": "0dbcc17f",
   "metadata": {},
   "source": [
    "## Feature Engineering\n"
   ]
  },
  {
   "attachments": {},
   "cell_type": "markdown",
   "id": "42528aa8",
   "metadata": {},
   "source": [
    "Let's try age groups.\n"
   ]
  },
  {
   "cell_type": "code",
   "execution_count": 13,
   "id": "1fa691a2",
   "metadata": {},
   "outputs": [
    {
     "data": {
      "image/png": "[encoded data removed]",
      "text/plain": [
       "<Figure size 640x480 with 1 Axes>"
      ]
     },
     "metadata": {},
     "output_type": "display_data"
    }
   ],
   "source": [
    "full_df['age_groups'] = pd.cut(full_df['Age'],\n",
    "                               bins=range(\n",
    "                                   0, int(math.floor(full_df['Age'].max() + 1)),\n",
    "                                   10))\n",
    "visualization.examine_candidate_column(full_df, 'age_groups', 'Age Group',\n",
    "                                       \"Survived\", \"Survived\")\n"
   ]
  },
  {
   "attachments": {},
   "cell_type": "markdown",
   "id": "7967bf2d",
   "metadata": {},
   "source": [
    "It makes a big difference how the fare groups are divided, but it seems like very high and very low fares may have been a disadvantage.\n"
   ]
  },
  {
   "cell_type": "code",
   "execution_count": 14,
   "id": "577bd715",
   "metadata": {},
   "outputs": [
    {
     "data": {
      "image/png": "[encoded data removed]",
      "text/plain": [
       "<Figure size 640x480 with 1 Axes>"
      ]
     },
     "metadata": {},
     "output_type": "display_data"
    }
   ],
   "source": [
    "full_df['fare_groups'] = pd.cut(\n",
    "    full_df['Fare'],\n",
    "    bins=range(0, int(math.floor(full_df['Fare'].max() + 1)), 50))\n",
    "visualization.examine_candidate_column(full_df, 'fare_groups', 'Fare Group',\n",
    "                                       \"Survived\", \"Survived\")\n"
   ]
  },
  {
   "attachments": {},
   "cell_type": "markdown",
   "id": "a509eb16",
   "metadata": {},
   "source": [
    "## Column Selection\n"
   ]
  },
  {
   "cell_type": "code",
   "execution_count": 15,
   "id": "6960e6db",
   "metadata": {},
   "outputs": [
    {
     "data": {
      "text/html": [
       "<div>\n",
       "<style scoped>\n",
       "    .dataframe tbody tr th:only-of-type {\n",
       "        vertical-align: middle;\n",
       "    }\n",
       "\n",
       "    .dataframe tbody tr th {\n",
       "        vertical-align: top;\n",
       "    }\n",
       "\n",
       "    .dataframe thead th {\n",
       "        text-align: right;\n",
       "    }\n",
       "</style>\n",
       "<table border=\"1\" class=\"dataframe\">\n",
       "  <thead>\n",
       "    <tr style=\"text-align: right;\">\n",
       "      <th></th>\n",
       "      <th>Pclass</th>\n",
       "      <th>Sex</th>\n",
       "      <th>age_groups</th>\n",
       "      <th>fare_groups</th>\n",
       "      <th>SibSp</th>\n",
       "      <th>Embarked</th>\n",
       "    </tr>\n",
       "    <tr>\n",
       "      <th>PassengerId</th>\n",
       "      <th></th>\n",
       "      <th></th>\n",
       "      <th></th>\n",
       "      <th></th>\n",
       "      <th></th>\n",
       "      <th></th>\n",
       "    </tr>\n",
       "  </thead>\n",
       "  <tbody>\n",
       "    <tr>\n",
       "      <th>1</th>\n",
       "      <td>3</td>\n",
       "      <td>male</td>\n",
       "      <td>(20.0, 30.0]</td>\n",
       "      <td>(0, 50]</td>\n",
       "      <td>1</td>\n",
       "      <td>S</td>\n",
       "    </tr>\n",
       "    <tr>\n",
       "      <th>2</th>\n",
       "      <td>1</td>\n",
       "      <td>female</td>\n",
       "      <td>(30.0, 40.0]</td>\n",
       "      <td>(50, 100]</td>\n",
       "      <td>1</td>\n",
       "      <td>C</td>\n",
       "    </tr>\n",
       "    <tr>\n",
       "      <th>3</th>\n",
       "      <td>3</td>\n",
       "      <td>female</td>\n",
       "      <td>(20.0, 30.0]</td>\n",
       "      <td>(0, 50]</td>\n",
       "      <td>0</td>\n",
       "      <td>S</td>\n",
       "    </tr>\n",
       "    <tr>\n",
       "      <th>4</th>\n",
       "      <td>1</td>\n",
       "      <td>female</td>\n",
       "      <td>(30.0, 40.0]</td>\n",
       "      <td>(50, 100]</td>\n",
       "      <td>1</td>\n",
       "      <td>S</td>\n",
       "    </tr>\n",
       "    <tr>\n",
       "      <th>5</th>\n",
       "      <td>3</td>\n",
       "      <td>male</td>\n",
       "      <td>(30.0, 40.0]</td>\n",
       "      <td>(0, 50]</td>\n",
       "      <td>0</td>\n",
       "      <td>S</td>\n",
       "    </tr>\n",
       "    <tr>\n",
       "      <th>...</th>\n",
       "      <td>...</td>\n",
       "      <td>...</td>\n",
       "      <td>...</td>\n",
       "      <td>...</td>\n",
       "      <td>...</td>\n",
       "      <td>...</td>\n",
       "    </tr>\n",
       "    <tr>\n",
       "      <th>887</th>\n",
       "      <td>2</td>\n",
       "      <td>male</td>\n",
       "      <td>(20.0, 30.0]</td>\n",
       "      <td>(0, 50]</td>\n",
       "      <td>0</td>\n",
       "      <td>S</td>\n",
       "    </tr>\n",
       "    <tr>\n",
       "      <th>888</th>\n",
       "      <td>1</td>\n",
       "      <td>female</td>\n",
       "      <td>(10.0, 20.0]</td>\n",
       "      <td>(0, 50]</td>\n",
       "      <td>0</td>\n",
       "      <td>S</td>\n",
       "    </tr>\n",
       "    <tr>\n",
       "      <th>889</th>\n",
       "      <td>3</td>\n",
       "      <td>female</td>\n",
       "      <td>NaN</td>\n",
       "      <td>(0, 50]</td>\n",
       "      <td>1</td>\n",
       "      <td>S</td>\n",
       "    </tr>\n",
       "    <tr>\n",
       "      <th>890</th>\n",
       "      <td>1</td>\n",
       "      <td>male</td>\n",
       "      <td>(20.0, 30.0]</td>\n",
       "      <td>(0, 50]</td>\n",
       "      <td>0</td>\n",
       "      <td>C</td>\n",
       "    </tr>\n",
       "    <tr>\n",
       "      <th>891</th>\n",
       "      <td>3</td>\n",
       "      <td>male</td>\n",
       "      <td>(30.0, 40.0]</td>\n",
       "      <td>(0, 50]</td>\n",
       "      <td>0</td>\n",
       "      <td>Q</td>\n",
       "    </tr>\n",
       "  </tbody>\n",
       "</table>\n",
       "<p>891 rows × 6 columns</p>\n",
       "</div>"
      ],
      "text/plain": [
       "             Pclass     Sex    age_groups fare_groups  SibSp Embarked\n",
       "PassengerId                                                          \n",
       "1                 3    male  (20.0, 30.0]     (0, 50]      1        S\n",
       "2                 1  female  (30.0, 40.0]   (50, 100]      1        C\n",
       "3                 3  female  (20.0, 30.0]     (0, 50]      0        S\n",
       "4                 1  female  (30.0, 40.0]   (50, 100]      1        S\n",
       "5                 3    male  (30.0, 40.0]     (0, 50]      0        S\n",
       "...             ...     ...           ...         ...    ...      ...\n",
       "887               2    male  (20.0, 30.0]     (0, 50]      0        S\n",
       "888               1  female  (10.0, 20.0]     (0, 50]      0        S\n",
       "889               3  female           NaN     (0, 50]      1        S\n",
       "890               1    male  (20.0, 30.0]     (0, 50]      0        C\n",
       "891               3    male  (30.0, 40.0]     (0, 50]      0        Q\n",
       "\n",
       "[891 rows x 6 columns]"
      ]
     },
     "execution_count": 15,
     "metadata": {},
     "output_type": "execute_result"
    }
   ],
   "source": [
    "columns_to_use = [\n",
    "    'Pclass', 'Sex', 'age_groups', 'fare_groups', 'SibSp', 'Embarked'\n",
    "]\n",
    "filtered_df = full_df[columns_to_use]\n",
    "filtered_df"
   ]
  },
  {
   "cell_type": "code",
   "execution_count": 16,
   "id": "1f9a91bc",
   "metadata": {},
   "outputs": [
    {
     "data": {
      "text/plain": [
       "Pclass            int64\n",
       "Sex              object\n",
       "age_groups     category\n",
       "fare_groups    category\n",
       "SibSp             int64\n",
       "Embarked         object\n",
       "dtype: object"
      ]
     },
     "execution_count": 16,
     "metadata": {},
     "output_type": "execute_result"
    }
   ],
   "source": [
    "filtered_df.dtypes"
   ]
  },
  {
   "cell_type": "code",
   "execution_count": 17,
   "id": "5e3396b4",
   "metadata": {},
   "outputs": [
    {
     "data": {
      "text/plain": [
       "array(['S', 'C', 'Q', nan], dtype=object)"
      ]
     },
     "execution_count": 17,
     "metadata": {},
     "output_type": "execute_result"
    }
   ],
   "source": [
    "full_df['Embarked'].unique()"
   ]
  },
  {
   "attachments": {},
   "cell_type": "markdown",
   "id": "958b12c2",
   "metadata": {},
   "source": [
    "## Column Formatting\n"
   ]
  },
  {
   "cell_type": "code",
   "execution_count": 18,
   "id": "df163953",
   "metadata": {},
   "outputs": [
    {
     "name": "stderr",
     "output_type": "stream",
     "text": [
      "\n",
      "A value is trying to be set on a copy of a slice from a DataFrame.\n",
      "Try using .loc[row_indexer,col_indexer] = value instead\n",
      "\n",
      "See the caveats in the documentation: https://pandas.pydata.org/pandas-docs/stable/user_guide/indexing.html#returning-a-view-versus-a-copy\n",
      "\n",
      "A value is trying to be set on a copy of a slice from a DataFrame.\n",
      "Try using .loc[row_indexer,col_indexer] = value instead\n",
      "\n",
      "See the caveats in the documentation: https://pandas.pydata.org/pandas-docs/stable/user_guide/indexing.html#returning-a-view-versus-a-copy\n",
      "\n",
      "A value is trying to be set on a copy of a slice from a DataFrame.\n",
      "Try using .loc[row_indexer,col_indexer] = value instead\n",
      "\n",
      "See the caveats in the documentation: https://pandas.pydata.org/pandas-docs/stable/user_guide/indexing.html#returning-a-view-versus-a-copy\n",
      "\n",
      "A value is trying to be set on a copy of a slice from a DataFrame.\n",
      "Try using .loc[row_indexer,col_indexer] = value instead\n",
      "\n",
      "See the caveats in the documentation: https://pandas.pydata.org/pandas-docs/stable/user_guide/indexing.html#returning-a-view-versus-a-copy\n"
     ]
    },
    {
     "data": {
      "text/html": [
       "<div>\n",
       "<style scoped>\n",
       "    .dataframe tbody tr th:only-of-type {\n",
       "        vertical-align: middle;\n",
       "    }\n",
       "\n",
       "    .dataframe tbody tr th {\n",
       "        vertical-align: top;\n",
       "    }\n",
       "\n",
       "    .dataframe thead th {\n",
       "        text-align: right;\n",
       "    }\n",
       "</style>\n",
       "<table border=\"1\" class=\"dataframe\">\n",
       "  <thead>\n",
       "    <tr style=\"text-align: right;\">\n",
       "      <th></th>\n",
       "      <th>Pclass</th>\n",
       "      <th>Sex</th>\n",
       "      <th>age_groups</th>\n",
       "      <th>fare_groups</th>\n",
       "      <th>SibSp</th>\n",
       "      <th>Embarked</th>\n",
       "    </tr>\n",
       "    <tr>\n",
       "      <th>PassengerId</th>\n",
       "      <th></th>\n",
       "      <th></th>\n",
       "      <th></th>\n",
       "      <th></th>\n",
       "      <th></th>\n",
       "      <th></th>\n",
       "    </tr>\n",
       "  </thead>\n",
       "  <tbody>\n",
       "    <tr>\n",
       "      <th>1</th>\n",
       "      <td>3</td>\n",
       "      <td>1</td>\n",
       "      <td>2</td>\n",
       "      <td>0</td>\n",
       "      <td>1</td>\n",
       "      <td>0</td>\n",
       "    </tr>\n",
       "    <tr>\n",
       "      <th>2</th>\n",
       "      <td>1</td>\n",
       "      <td>0</td>\n",
       "      <td>3</td>\n",
       "      <td>1</td>\n",
       "      <td>1</td>\n",
       "      <td>1</td>\n",
       "    </tr>\n",
       "    <tr>\n",
       "      <th>3</th>\n",
       "      <td>3</td>\n",
       "      <td>0</td>\n",
       "      <td>2</td>\n",
       "      <td>0</td>\n",
       "      <td>0</td>\n",
       "      <td>0</td>\n",
       "    </tr>\n",
       "    <tr>\n",
       "      <th>4</th>\n",
       "      <td>1</td>\n",
       "      <td>0</td>\n",
       "      <td>3</td>\n",
       "      <td>1</td>\n",
       "      <td>1</td>\n",
       "      <td>0</td>\n",
       "    </tr>\n",
       "    <tr>\n",
       "      <th>5</th>\n",
       "      <td>3</td>\n",
       "      <td>1</td>\n",
       "      <td>3</td>\n",
       "      <td>0</td>\n",
       "      <td>0</td>\n",
       "      <td>0</td>\n",
       "    </tr>\n",
       "    <tr>\n",
       "      <th>...</th>\n",
       "      <td>...</td>\n",
       "      <td>...</td>\n",
       "      <td>...</td>\n",
       "      <td>...</td>\n",
       "      <td>...</td>\n",
       "      <td>...</td>\n",
       "    </tr>\n",
       "    <tr>\n",
       "      <th>887</th>\n",
       "      <td>2</td>\n",
       "      <td>1</td>\n",
       "      <td>2</td>\n",
       "      <td>0</td>\n",
       "      <td>0</td>\n",
       "      <td>0</td>\n",
       "    </tr>\n",
       "    <tr>\n",
       "      <th>888</th>\n",
       "      <td>1</td>\n",
       "      <td>0</td>\n",
       "      <td>1</td>\n",
       "      <td>0</td>\n",
       "      <td>0</td>\n",
       "      <td>0</td>\n",
       "    </tr>\n",
       "    <tr>\n",
       "      <th>889</th>\n",
       "      <td>3</td>\n",
       "      <td>0</td>\n",
       "      <td>-1</td>\n",
       "      <td>0</td>\n",
       "      <td>1</td>\n",
       "      <td>0</td>\n",
       "    </tr>\n",
       "    <tr>\n",
       "      <th>890</th>\n",
       "      <td>1</td>\n",
       "      <td>1</td>\n",
       "      <td>2</td>\n",
       "      <td>0</td>\n",
       "      <td>0</td>\n",
       "      <td>1</td>\n",
       "    </tr>\n",
       "    <tr>\n",
       "      <th>891</th>\n",
       "      <td>3</td>\n",
       "      <td>1</td>\n",
       "      <td>3</td>\n",
       "      <td>0</td>\n",
       "      <td>0</td>\n",
       "      <td>2</td>\n",
       "    </tr>\n",
       "  </tbody>\n",
       "</table>\n",
       "<p>891 rows × 6 columns</p>\n",
       "</div>"
      ],
      "text/plain": [
       "             Pclass  Sex  age_groups  fare_groups  SibSp  Embarked\n",
       "PassengerId                                                       \n",
       "1                 3    1           2            0      1         0\n",
       "2                 1    0           3            1      1         1\n",
       "3                 3    0           2            0      0         0\n",
       "4                 1    0           3            1      1         0\n",
       "5                 3    1           3            0      0         0\n",
       "...             ...  ...         ...          ...    ...       ...\n",
       "887               2    1           2            0      0         0\n",
       "888               1    0           1            0      0         0\n",
       "889               3    0          -1            0      1         0\n",
       "890               1    1           2            0      0         1\n",
       "891               3    1           3            0      0         2\n",
       "\n",
       "[891 rows x 6 columns]"
      ]
     },
     "execution_count": 18,
     "metadata": {},
     "output_type": "execute_result"
    }
   ],
   "source": [
    "filtered_df['Sex'] = (full_df['Sex'] == 'male').astype(int)\n",
    "filtered_df['age_groups'] = full_df['age_groups'].cat.codes\n",
    "filtered_df['fare_groups'] = full_df['fare_groups'].cat.codes\n",
    "filtered_df['Embarked'] = pd.Categorical(\n",
    "    full_df['Embarked'].fillna('NaN'),\n",
    "    categories=full_df['Embarked'].fillna('NaN').unique()).codes\n",
    "filtered_df"
   ]
  },
  {
   "cell_type": "code",
   "execution_count": 19,
   "id": "e9d3d034",
   "metadata": {},
   "outputs": [
    {
     "data": {
      "text/plain": [
       "Pclass         int64\n",
       "Sex            int64\n",
       "age_groups      int8\n",
       "fare_groups     int8\n",
       "SibSp          int64\n",
       "Embarked        int8\n",
       "dtype: object"
      ]
     },
     "execution_count": 19,
     "metadata": {},
     "output_type": "execute_result"
    }
   ],
   "source": [
    "filtered_df.dtypes"
   ]
  },
  {
   "attachments": {},
   "cell_type": "markdown",
   "id": "2903459d",
   "metadata": {},
   "source": [
    "# Input Pipeline\n",
    "\n",
    "Having experimented with the data above, we can now set up the pipeline for our model based on what we found. Even though this dataset is small and I could just use the sklearn and pandas stuff above, I decided to do a full TF streamed pipeline for practice :-)\n",
    "\n",
    "The file **preprocessing.py** was developed after doing the above analysis. Some of it duplicates what's up there, but it is meant to represent more of a production-ization of this project.\n"
   ]
  },
  {
   "attachments": {},
   "cell_type": "markdown",
   "id": "ac9a6973",
   "metadata": {},
   "source": [
    "## Demonstration\n"
   ]
  },
  {
   "cell_type": "code",
   "execution_count": 20,
   "id": "e8d91d80",
   "metadata": {},
   "outputs": [
    {
     "name": "stderr",
     "output_type": "stream",
     "text": [
      "2023-05-14 21:27:48.393317: I tensorflow/compiler/xla/stream_executor/cuda/cuda_gpu_executor.cc:982] could not open file to read NUMA node: /sys/bus/pci/devices/0000:01:00.0/numa_node\n",
      "Your kernel may have been built without NUMA support.\n",
      "2023-05-14 21:27:48.415632: I tensorflow/compiler/xla/stream_executor/cuda/cuda_gpu_executor.cc:982] could not open file to read NUMA node: /sys/bus/pci/devices/0000:01:00.0/numa_node\n",
      "Your kernel may have been built without NUMA support.\n",
      "2023-05-14 21:27:48.415697: I tensorflow/compiler/xla/stream_executor/cuda/cuda_gpu_executor.cc:982] could not open file to read NUMA node: /sys/bus/pci/devices/0000:01:00.0/numa_node\n",
      "Your kernel may have been built without NUMA support.\n",
      "2023-05-14 21:27:48.422163: I tensorflow/compiler/xla/stream_executor/cuda/cuda_gpu_executor.cc:982] could not open file to read NUMA node: /sys/bus/pci/devices/0000:01:00.0/numa_node\n",
      "Your kernel may have been built without NUMA support.\n",
      "2023-05-14 21:27:48.422237: I tensorflow/compiler/xla/stream_executor/cuda/cuda_gpu_executor.cc:982] could not open file to read NUMA node: /sys/bus/pci/devices/0000:01:00.0/numa_node\n",
      "Your kernel may have been built without NUMA support.\n",
      "2023-05-14 21:27:48.422275: I tensorflow/compiler/xla/stream_executor/cuda/cuda_gpu_executor.cc:982] could not open file to read NUMA node: /sys/bus/pci/devices/0000:01:00.0/numa_node\n",
      "Your kernel may have been built without NUMA support.\n",
      "2023-05-14 21:27:49.020789: I tensorflow/compiler/xla/stream_executor/cuda/cuda_gpu_executor.cc:982] could not open file to read NUMA node: /sys/bus/pci/devices/0000:01:00.0/numa_node\n",
      "Your kernel may have been built without NUMA support.\n",
      "2023-05-14 21:27:49.020871: I tensorflow/compiler/xla/stream_executor/cuda/cuda_gpu_executor.cc:982] could not open file to read NUMA node: /sys/bus/pci/devices/0000:01:00.0/numa_node\n",
      "Your kernel may have been built without NUMA support.\n",
      "2023-05-14 21:27:49.020880: I tensorflow/core/common_runtime/gpu/gpu_device.cc:1722] Could not identify NUMA node of platform GPU id 0, defaulting to 0.  Your kernel may not have been built with NUMA support.\n",
      "2023-05-14 21:27:49.020923: I tensorflow/compiler/xla/stream_executor/cuda/cuda_gpu_executor.cc:982] could not open file to read NUMA node: /sys/bus/pci/devices/0000:01:00.0/numa_node\n",
      "Your kernel may have been built without NUMA support.\n",
      "2023-05-14 21:27:49.021056: I tensorflow/core/common_runtime/gpu/gpu_device.cc:1635] Created device /job:localhost/replica:0/task:0/device:GPU:0 with 8298 MB memory:  -> device: 0, name: NVIDIA GeForce RTX 2080 Ti, pci bus id: 0000:01:00.0, compute capability: 7.5\n"
     ]
    },
    {
     "name": "stdout",
     "output_type": "stream",
     "text": [
      "---Features---\n",
      "{'PassengerId': array([833, 843, 428, 194, 328, 335, 156, 148, 269, 737], dtype=int32), 'Pclass': array([3, 1, 2, 2, 2, 1, 1, 3, 1, 3], dtype=int32), 'Name': array([b'Saad, Mr. Amin', b'Serepeca, Miss. Augusta',\n",
      "       b'Phillips, Miss. Kate Florence (\"Mrs Kate Louise Phillips Marshall\")',\n",
      "       b'Navratil, Master. Michel M', b'Ball, Mrs. (Ada E Hall)',\n",
      "       b'Frauenthal, Mrs. Henry William (Clara Heinsheimer)',\n",
      "       b'Williams, Mr. Charles Duane',\n",
      "       b'Ford, Miss. Robina Maggie \"Ruby\"',\n",
      "       b'Graham, Mrs. William Thompson (Edith Junkins)',\n",
      "       b'Ford, Mrs. Edward (Margaret Ann Watson)'], dtype=object), 'Sex': array([b'male', b'female', b'female', b'male', b'female', b'female',\n",
      "       b'male', b'female', b'female', b'female'], dtype=object), 'Age': array([ 0., 30., 19.,  3., 36.,  0., 51.,  9., 58., 48.], dtype=float32), 'SibSp': array([0, 0, 0, 1, 0, 1, 0, 2, 0, 1], dtype=int32), 'Parch': array([0, 0, 0, 1, 0, 0, 1, 2, 1, 3], dtype=int32), 'Ticket': array([b'2671', b'113798', b'250655', b'230080', b'28551', b'PC 17611',\n",
      "       b'PC 17597', b'W./C. 6608', b'PC 17582', b'W./C. 6608'],\n",
      "      dtype=object), 'Fare': array([  7.2292,  31.    ,  26.    ,  26.    ,  13.    , 133.65  ,\n",
      "        61.3792,  34.375 , 153.4625,  34.375 ], dtype=float32), 'Cabin': array([b'', b'', b'', b'F2', b'D', b'', b'', b'', b'C125', b''],\n",
      "      dtype=object), 'Embarked': array([b'C', b'C', b'S', b'S', b'S', b'S', b'C', b'S', b'S', b'S'],\n",
      "      dtype=object)}\n",
      "---Labels---\n",
      "[0 1 1 1 1 1 0 0 1 0]\n"
     ]
    },
    {
     "name": "stderr",
     "output_type": "stream",
     "text": [
      "2023-05-14 21:27:51.008169: I tensorflow/core/common_runtime/executor.cc:1197] [/device:CPU:0] (DEBUG INFO) Executor start aborting (this does not indicate an error and you can ignore this message): INVALID_ARGUMENT: You must feed a value for placeholder tensor 'Placeholder/_0' with dtype string and shape [1]\n",
      "\t [[{{node Placeholder/_0}}]]\n",
      "2023-05-14 21:27:51.008669: I tensorflow/core/common_runtime/executor.cc:1197] [/device:CPU:0] (DEBUG INFO) Executor start aborting (this does not indicate an error and you can ignore this message): INVALID_ARGUMENT: You must feed a value for placeholder tensor 'Placeholder/_11' with dtype string and shape [1]\n",
      "\t [[{{node Placeholder/_11}}]]\n"
     ]
    }
   ],
   "source": [
    "datasets.show_first_batch(preprocessing.load_data())"
   ]
  },
  {
   "cell_type": "code",
   "execution_count": 21,
   "id": "e53cfa35",
   "metadata": {},
   "outputs": [
    {
     "name": "stdout",
     "output_type": "stream",
     "text": [
      "---Features---\n",
      "{'Class': array([3, 1, 2, 2, 2, 1, 1, 3, 1, 3], dtype=int32), 'Sex': array([1, 0, 0, 1, 0, 0, 1, 0, 0, 0], dtype=int32), 'Siblings': array([0, 0, 0, 1, 0, 1, 0, 2, 0, 1], dtype=int32), 'Origin': array([1, 1, 0, 0, 0, 0, 1, 0, 0, 0], dtype=int32), 'AgeGroup': array([0, 3, 1, 0, 3, 0, 5, 0, 5, 4], dtype=int32), 'FareGroup': array([0, 0, 0, 0, 0, 2, 1, 0, 3, 0], dtype=int32)}\n",
      "---Labels---\n",
      "[0 1 1 1 1 1 0 0 1 0]\n"
     ]
    },
    {
     "name": "stderr",
     "output_type": "stream",
     "text": [
      "2023-05-14 21:28:00.163620: I tensorflow/core/common_runtime/executor.cc:1197] [/device:CPU:0] (DEBUG INFO) Executor start aborting (this does not indicate an error and you can ignore this message): INVALID_ARGUMENT: You must feed a value for placeholder tensor 'Placeholder/_11' with dtype string and shape [1]\n",
      "\t [[{{node Placeholder/_11}}]]\n",
      "2023-05-14 21:28:00.164189: I tensorflow/core/common_runtime/executor.cc:1197] [/device:CPU:0] (DEBUG INFO) Executor start aborting (this does not indicate an error and you can ignore this message): INVALID_ARGUMENT: You must feed a value for placeholder tensor 'Placeholder/_15' with dtype string and shape [1]\n",
      "\t [[{{node Placeholder/_15}}]]\n"
     ]
    }
   ],
   "source": [
    "datasets.show_first_batch(preprocessing.load_data().map(\n",
    "    preprocessing.transform_columns))\n"
   ]
  },
  {
   "cell_type": "code",
   "execution_count": 22,
   "id": "f2e24435",
   "metadata": {},
   "outputs": [
    {
     "name": "stdout",
     "output_type": "stream",
     "text": [
      "---Features---\n",
      "{'Class': array([3, 1, 2, 2, 2, 1, 1, 3, 1, 3], dtype=int32), 'Sex': array([[0., 1.],\n",
      "       [1., 0.],\n",
      "       [1., 0.],\n",
      "       [0., 1.],\n",
      "       [1., 0.],\n",
      "       [1., 0.],\n",
      "       [0., 1.],\n",
      "       [1., 0.],\n",
      "       [1., 0.],\n",
      "       [1., 0.]], dtype=float32), 'Siblings': array([0, 0, 0, 1, 0, 1, 0, 2, 0, 1], dtype=int32), 'Origin': array([[0., 1., 0., 0.],\n",
      "       [0., 1., 0., 0.],\n",
      "       [1., 0., 0., 0.],\n",
      "       [1., 0., 0., 0.],\n",
      "       [1., 0., 0., 0.],\n",
      "       [1., 0., 0., 0.],\n",
      "       [0., 1., 0., 0.],\n",
      "       [1., 0., 0., 0.],\n",
      "       [1., 0., 0., 0.],\n",
      "       [1., 0., 0., 0.]], dtype=float32), 'AgeGroup': array([0, 3, 1, 0, 3, 0, 5, 0, 5, 4], dtype=int32), 'FareGroup': array([0, 0, 0, 0, 0, 2, 1, 0, 3, 0], dtype=int32)}\n",
      "---Labels---\n",
      "[0 1 1 1 1 1 0 0 1 0]\n"
     ]
    },
    {
     "name": "stderr",
     "output_type": "stream",
     "text": [
      "2023-05-14 21:28:07.150469: I tensorflow/core/common_runtime/executor.cc:1197] [/device:CPU:0] (DEBUG INFO) Executor start aborting (this does not indicate an error and you can ignore this message): INVALID_ARGUMENT: You must feed a value for placeholder tensor 'Placeholder/_14' with dtype int32 and shape [1]\n",
      "\t [[{{node Placeholder/_14}}]]\n",
      "2023-05-14 21:28:07.151015: I tensorflow/core/common_runtime/executor.cc:1197] [/device:CPU:0] (DEBUG INFO) Executor start aborting (this does not indicate an error and you can ignore this message): INVALID_ARGUMENT: You must feed a value for placeholder tensor 'Placeholder/_10' with dtype string and shape [1]\n",
      "\t [[{{node Placeholder/_10}}]]\n"
     ]
    }
   ],
   "source": [
    "datasets.show_first_batch(preprocessing.load_data()\\\n",
    "                              .map(preprocessing.transform_columns)\\\n",
    "                              .map(datasets.named_column_oh_expander(preprocessing.ONE_HOT_SPECS)))"
   ]
  },
  {
   "cell_type": "code",
   "execution_count": 23,
   "id": "ecb8638a",
   "metadata": {},
   "outputs": [
    {
     "name": "stdout",
     "output_type": "stream",
     "text": [
      "---Features---\n",
      "[[3. 0. 1. 0. 0. 1. 0. 0. 0. 0.]\n",
      " [1. 1. 0. 0. 0. 1. 0. 0. 3. 0.]\n",
      " [2. 1. 0. 0. 1. 0. 0. 0. 1. 0.]\n",
      " [2. 0. 1. 1. 1. 0. 0. 0. 0. 0.]\n",
      " [2. 1. 0. 0. 1. 0. 0. 0. 3. 0.]\n",
      " [1. 1. 0. 1. 1. 0. 0. 0. 0. 2.]\n",
      " [1. 0. 1. 0. 0. 1. 0. 0. 5. 1.]\n",
      " [3. 1. 0. 2. 1. 0. 0. 0. 0. 0.]\n",
      " [1. 1. 0. 0. 1. 0. 0. 0. 5. 3.]\n",
      " [3. 1. 0. 1. 1. 0. 0. 0. 4. 0.]]\n",
      "---Labels---\n",
      "[0 1 1 1 1 1 0 0 1 0]\n"
     ]
    },
    {
     "name": "stderr",
     "output_type": "stream",
     "text": [
      "2023-05-14 21:28:07.883956: I tensorflow/core/common_runtime/executor.cc:1197] [/device:CPU:0] (DEBUG INFO) Executor start aborting (this does not indicate an error and you can ignore this message): INVALID_ARGUMENT: You must feed a value for placeholder tensor 'Placeholder/_12' with dtype float and shape [1]\n",
      "\t [[{{node Placeholder/_12}}]]\n",
      "2023-05-14 21:28:07.884466: I tensorflow/core/common_runtime/executor.cc:1197] [/device:CPU:0] (DEBUG INFO) Executor start aborting (this does not indicate an error and you can ignore this message): INVALID_ARGUMENT: You must feed a value for placeholder tensor 'Placeholder/_11' with dtype string and shape [1]\n",
      "\t [[{{node Placeholder/_11}}]]\n"
     ]
    }
   ],
   "source": [
    "dataset = preprocessing.load_data()\\\n",
    "                .map(preprocessing.transform_columns)\\\n",
    "                .map(datasets.named_column_oh_expander(preprocessing.ONE_HOT_SPECS))\\\n",
    "                .map(datasets.to_matrix())\n",
    "datasets.show_first_batch(dataset)"
   ]
  },
  {
   "cell_type": "code",
   "execution_count": 24,
   "id": "8a5564a4",
   "metadata": {},
   "outputs": [
    {
     "name": "stderr",
     "output_type": "stream",
     "text": [
      "2023-05-14 21:28:08.424117: I tensorflow/core/common_runtime/executor.cc:1197] [/device:CPU:0] (DEBUG INFO) Executor start aborting (this does not indicate an error and you can ignore this message): INVALID_ARGUMENT: You must feed a value for placeholder tensor 'Placeholder/_0' with dtype string and shape [1]\n",
      "\t [[{{node Placeholder/_0}}]]\n",
      "2023-05-14 21:28:08.424678: I tensorflow/core/common_runtime/executor.cc:1197] [/device:CPU:0] (DEBUG INFO) Executor start aborting (this does not indicate an error and you can ignore this message): INVALID_ARGUMENT: You must feed a value for placeholder tensor 'Placeholder/_12' with dtype float and shape [1]\n",
      "\t [[{{node Placeholder/_12}}]]\n",
      "2023-05-14 21:28:08.497586: I tensorflow/core/common_runtime/executor.cc:1197] [/device:CPU:0] (DEBUG INFO) Executor start aborting (this does not indicate an error and you can ignore this message): INVALID_ARGUMENT: You must feed a value for placeholder tensor 'Placeholder/_0' with dtype string and shape [1]\n",
      "\t [[{{node Placeholder/_0}}]]\n",
      "2023-05-14 21:28:08.498268: I tensorflow/core/common_runtime/executor.cc:1197] [/device:CPU:0] (DEBUG INFO) Executor start aborting (this does not indicate an error and you can ignore this message): INVALID_ARGUMENT: You must feed a value for placeholder tensor 'Placeholder/_13' with dtype int32 and shape [1]\n",
      "\t [[{{node Placeholder/_13}}]]\n",
      "2023-05-14 21:28:08.573891: I tensorflow/core/common_runtime/executor.cc:1197] [/device:CPU:0] (DEBUG INFO) Executor start aborting (this does not indicate an error and you can ignore this message): INVALID_ARGUMENT: You must feed a value for placeholder tensor 'Placeholder/_12' with dtype float and shape [1]\n",
      "\t [[{{node Placeholder/_12}}]]\n",
      "2023-05-14 21:28:08.574435: I tensorflow/core/common_runtime/executor.cc:1197] [/device:CPU:0] (DEBUG INFO) Executor start aborting (this does not indicate an error and you can ignore this message): INVALID_ARGUMENT: You must feed a value for placeholder tensor 'Placeholder/_11' with dtype string and shape [1]\n",
      "\t [[{{node Placeholder/_11}}]]\n"
     ]
    },
    {
     "name": "stdout",
     "output_type": "stream",
     "text": [
      "---Features---\n",
      "{'Class': array([3, 1, 2, 2, 2, 1, 1, 3, 1, 3], dtype=int32), 'Sex': array([1, 0, 0, 1, 0, 0, 1, 0, 0, 0], dtype=int32), 'Siblings': array([0, 0, 0, 1, 0, 1, 0, 2, 0, 1], dtype=int32), 'Origin': array([1, 1, 0, 0, 0, 0, 1, 0, 0, 0], dtype=int32), 'AgeGroup': array([0, 3, 1, 0, 3, 0, 5, 0, 5, 4], dtype=int32), 'FareGroup': array([0, 0, 0, 0, 0, 2, 1, 0, 3, 0], dtype=int32)}\n",
      "---Labels---\n",
      "[0 1 1 1 1 1 0 0 1 0]\n",
      "Training Batches: 71\n",
      "\n",
      "---Features---\n",
      "{'Class': array([1, 2, 3, 1, 1, 2, 3, 3, 2, 3], dtype=int32), 'Sex': array([1, 0, 1, 1, 1, 1, 1, 1, 0, 0], dtype=int32), 'Siblings': array([0, 1, 1, 1, 0, 0, 0, 0, 0, 0], dtype=int32), 'Origin': array([0, 0, 1, 1, 1, 0, 0, 0, 0, 2], dtype=int32), 'AgeGroup': array([8, 4, 0, 4, 5, 0, 1, 2, 5, 0], dtype=int32), 'FareGroup': array([0, 0, 0, 1, 2, 0, 0, 0, 0, 0], dtype=int32)}\n",
      "---Labels---\n",
      "[1 0 1 1 0 0 1 0 1 1]\n",
      "Validation Batches: 19\n"
     ]
    },
    {
     "name": "stderr",
     "output_type": "stream",
     "text": [
      "2023-05-14 21:28:08.663583: I tensorflow/core/common_runtime/executor.cc:1197] [/device:CPU:0] (DEBUG INFO) Executor start aborting (this does not indicate an error and you can ignore this message): INVALID_ARGUMENT: You must feed a value for placeholder tensor 'Placeholder/_17' with dtype string and shape [1]\n",
      "\t [[{{node Placeholder/_17}}]]\n",
      "2023-05-14 21:28:08.664177: I tensorflow/core/common_runtime/executor.cc:1197] [/device:CPU:0] (DEBUG INFO) Executor start aborting (this does not indicate an error and you can ignore this message): INVALID_ARGUMENT: You must feed a value for placeholder tensor 'Placeholder/_0' with dtype string and shape [1]\n",
      "\t [[{{node Placeholder/_0}}]]\n"
     ]
    }
   ],
   "source": [
    "temp_train, temp_val = (datasets.split(\n",
    "    preprocessing.load_data(batch_size=10).map(preprocessing.transform_columns),\n",
    "    num_batches=preprocessing.DATASET_SIZE / 10))\n",
    "\n",
    "datasets.show_first_batch(temp_train)\n",
    "print(f'Training Batches: {datasets.count_batches(temp_train)}')\n",
    "print()\n",
    "datasets.show_first_batch(temp_val)\n",
    "print(f'Validation Batches: {datasets.count_batches(temp_val)}')"
   ]
  },
  {
   "attachments": {},
   "cell_type": "markdown",
   "id": "268882b5",
   "metadata": {},
   "source": [
    "## Training: Feature Scalers\n",
    "\n",
    "Run this cell to create the scalers file on disk to be used for feature scaling in the actual model.\n",
    "\n",
    "Used default training/validation split and only trained based on the train part because using the validation seems like cheating.\n"
   ]
  },
  {
   "cell_type": "code",
   "execution_count": 25,
   "id": "e50f2956",
   "metadata": {},
   "outputs": [
    {
     "name": "stderr",
     "output_type": "stream",
     "text": [
      "2023-05-14 21:28:12.926466: I tensorflow/core/common_runtime/executor.cc:1197] [/device:CPU:0] (DEBUG INFO) Executor start aborting (this does not indicate an error and you can ignore this message): INVALID_ARGUMENT: You must feed a value for placeholder tensor 'Placeholder/_13' with dtype int32 and shape [1]\n",
      "\t [[{{node Placeholder/_13}}]]\n",
      "2023-05-14 21:28:12.927034: I tensorflow/core/common_runtime/executor.cc:1197] [/device:CPU:0] (DEBUG INFO) Executor start aborting (this does not indicate an error and you can ignore this message): INVALID_ARGUMENT: You must feed a value for placeholder tensor 'Placeholder/_18' with dtype string and shape [1]\n",
      "\t [[{{node Placeholder/_18}}]]\n"
     ]
    },
    {
     "name": "stdout",
     "output_type": "stream",
     "text": [
      "Class: mean=[2.31], std=0.834719799008711\n",
      "Siblings: mean=[0.52428571], std=1.1430455201891523\n",
      "AgeGroup: mean=[2.01571429], std=1.689812814171669\n",
      "FareGroup: mean=[0.28285714], std=0.8783054184981813\n",
      "\n",
      "---Features---\n",
      "{'Class': array([ 0.8266247 , -1.56938892, -0.37138211, -0.37138211, -0.37138211,\n",
      "       -1.56938892, -1.56938892,  0.8266247 , -1.56938892,  0.8266247 ]), 'Sex': array([1, 0, 0, 1, 0, 0, 1, 0, 0, 0], dtype=int32), 'Siblings': array([-0.4586744, -0.4586744, -0.4586744,  0.4161814, -0.4586744,\n",
      "        0.4161814, -0.4586744,  1.2910372, -0.4586744,  0.4161814]), 'Origin': array([1, 1, 0, 0, 0, 0, 1, 0, 0, 0], dtype=int32), 'AgeGroup': array([-1.19286247,  0.5824821 , -0.60108095, -1.19286247,  0.5824821 ,\n",
      "       -1.19286247,  1.76604514, -1.19286247,  1.76604514,  1.17426362]), 'FareGroup': array([-0.32204873, -0.32204873, -0.32204873, -0.32204873, -0.32204873,\n",
      "        1.95506349,  0.81650738, -0.32204873,  3.0936196 , -0.32204873])}\n",
      "---Labels---\n",
      "[0 1 1 1 1 1 0 0 1 0]\n"
     ]
    },
    {
     "name": "stderr",
     "output_type": "stream",
     "text": [
      "2023-05-14 21:28:13.145084: I tensorflow/core/common_runtime/executor.cc:1197] [/device:CPU:0] (DEBUG INFO) Executor start aborting (this does not indicate an error and you can ignore this message): INVALID_ARGUMENT: You must feed a value for placeholder tensor 'Placeholder/_18' with dtype string and shape [1]\n",
      "\t [[{{node Placeholder/_18}}]]\n",
      "2023-05-14 21:28:13.145680: I tensorflow/core/common_runtime/executor.cc:1197] [/device:CPU:0] (DEBUG INFO) Executor start aborting (this does not indicate an error and you can ignore this message): INVALID_ARGUMENT: You must feed a value for placeholder tensor 'Placeholder/_0' with dtype string and shape [1]\n",
      "\t [[{{node Placeholder/_0}}]]\n"
     ]
    }
   ],
   "source": [
    "scalers = datasets.create_named_scalers(preprocessing.SCALED_COLUMNS)\n",
    "datasets.train_named_scalers(scalers,\n",
    "                             datasets.split(preprocessing.load_data(batch_size=preprocessing.BIGGER_BATCH_SIZE)\\\n",
    "                                                         .map(preprocessing.transform_columns),\n",
    "                                            num_batches=preprocessing.DATASET_SIZE / preprocessing.BIGGER_BATCH_SIZE)[0])\n",
    "preprocessing.save_scalers(scalers)\n",
    "scalers = preprocessing.load_scalers()  # Pretend this is a different session\n",
    "\n",
    "for column in scalers:\n",
    "    print(\n",
    "        f'{column}: mean={scalers[column].mean_}, std={math.sqrt(scalers[column].var_)}'\n",
    "    )\n",
    "\n",
    "print()\n",
    "datasets.show_first_batch(preprocessing.load_data().map(\n",
    "    preprocessing.transform_columns).map(datasets.named_column_scaler(scalers)))\n"
   ]
  },
  {
   "attachments": {},
   "cell_type": "markdown",
   "id": "5236b770",
   "metadata": {},
   "source": [
    "# Deep Learning\n"
   ]
  },
  {
   "attachments": {},
   "cell_type": "markdown",
   "id": "aafd430d",
   "metadata": {},
   "source": [
    "Unlike the general approach above, the cells in this section are meant to all be run in order instead of cherrypicked.\n"
   ]
  },
  {
   "attachments": {},
   "cell_type": "markdown",
   "id": "0c2753f4",
   "metadata": {},
   "source": [
    "## Hyperparameters\n"
   ]
  },
  {
   "cell_type": "code",
   "execution_count": 109,
   "id": "49495c51",
   "metadata": {},
   "outputs": [],
   "source": [
    "LAYER_UNITS = [100] * 14 + [1]\n",
    "LEARNING_RATE = 0.00005\n",
    "EPOCHS = 70\n",
    "BATCH_SIZE = 64\n",
    "FILE_MODS = ''"
   ]
  },
  {
   "attachments": {},
   "cell_type": "markdown",
   "id": "665788d5",
   "metadata": {},
   "source": [
    "## Load the datasets for real.\n"
   ]
  },
  {
   "cell_type": "code",
   "execution_count": 110,
   "id": "df6a0261",
   "metadata": {},
   "outputs": [
    {
     "name": "stderr",
     "output_type": "stream",
     "text": [
      "2023-05-18 23:42:14.157766: I tensorflow/core/common_runtime/executor.cc:1197] [/device:CPU:0] (DEBUG INFO) Executor start aborting (this does not indicate an error and you can ignore this message): INVALID_ARGUMENT: You must feed a value for placeholder tensor 'Placeholder/_0' with dtype string and shape [1]\n",
      "\t [[{{node Placeholder/_0}}]]\n",
      "2023-05-18 23:42:14.158569: I tensorflow/core/common_runtime/executor.cc:1197] [/device:CPU:0] (DEBUG INFO) Executor start aborting (this does not indicate an error and you can ignore this message): INVALID_ARGUMENT: You must feed a value for placeholder tensor 'Placeholder/_12' with dtype float and shape [1]\n",
      "\t [[{{node Placeholder/_12}}]]\n",
      "2023-05-18 23:42:14.299645: I tensorflow/core/common_runtime/executor.cc:1197] [/device:CPU:0] (DEBUG INFO) Executor start aborting (this does not indicate an error and you can ignore this message): INVALID_ARGUMENT: You must feed a value for placeholder tensor 'Placeholder/_11' with dtype string and shape [1]\n",
      "\t [[{{node Placeholder/_11}}]]\n",
      "2023-05-18 23:42:14.300373: I tensorflow/core/common_runtime/executor.cc:1197] [/device:CPU:0] (DEBUG INFO) Executor start aborting (this does not indicate an error and you can ignore this message): INVALID_ARGUMENT: You must feed a value for placeholder tensor 'Placeholder/_8' with dtype int32 and shape [1]\n",
      "\t [[{{node Placeholder/_8}}]]\n"
     ]
    },
    {
     "name": "stdout",
     "output_type": "stream",
     "text": [
      "Training Batches: 11\n",
      "Validation Bathces: 3\n"
     ]
    }
   ],
   "source": [
    "training_data, validation_data = preprocessing.prepare_training_data_for_model(\n",
    "    batch_size=BATCH_SIZE)\n",
    "print('Training Batches: ' + str(datasets.count_batches(training_data).numpy()))\n",
    "print('Validation Bathces: ' +\n",
    "      str(datasets.count_batches(validation_data).numpy()))\n"
   ]
  },
  {
   "attachments": {},
   "cell_type": "markdown",
   "id": "60ed84f6",
   "metadata": {},
   "source": [
    "## Create the Model\n",
    "\n",
    "It might be beneficial to check **F1 score** as well, but since the competition uses accuracy, I won't bother here. It's a little bit skewed (67% death rate), but not too horrible.\n"
   ]
  },
  {
   "cell_type": "code",
   "execution_count": 111,
   "id": "b4438a7d",
   "metadata": {},
   "outputs": [],
   "source": [
    "model = models.create_basic_ffn(LAYER_UNITS)\n",
    "model.compile(optimizer=tf.keras.optimizers.Adam(learning_rate=LEARNING_RATE),\n",
    "              loss='binary_crossentropy',\n",
    "              metrics=['accuracy'])\n"
   ]
  },
  {
   "attachments": {},
   "cell_type": "markdown",
   "id": "99d5533b",
   "metadata": {},
   "source": [
    "## Train the Model\n"
   ]
  },
  {
   "cell_type": "code",
   "execution_count": 112,
   "id": "cda3c9ce",
   "metadata": {},
   "outputs": [
    {
     "name": "stdout",
     "output_type": "stream",
     "text": [
      "Epoch 1/70\n"
     ]
    },
    {
     "name": "stderr",
     "output_type": "stream",
     "text": [
      "2023-05-18 23:42:21.181303: I tensorflow/core/common_runtime/executor.cc:1197] [/device:CPU:0] (DEBUG INFO) Executor start aborting (this does not indicate an error and you can ignore this message): INVALID_ARGUMENT: You must feed a value for placeholder tensor 'Placeholder/_12' with dtype float and shape [1]\n",
      "\t [[{{node Placeholder/_12}}]]\n",
      "2023-05-18 23:42:21.182204: I tensorflow/core/common_runtime/executor.cc:1197] [/device:CPU:0] (DEBUG INFO) Executor start aborting (this does not indicate an error and you can ignore this message): INVALID_ARGUMENT: You must feed a value for placeholder tensor 'Placeholder/_13' with dtype int32 and shape [1]\n",
      "\t [[{{node Placeholder/_13}}]]\n"
     ]
    },
    {
     "name": "stdout",
     "output_type": "stream",
     "text": [
      "      9/Unknown - 4s 25ms/step - loss: 0.6929 - accuracy: 0.5434"
     ]
    },
    {
     "name": "stderr",
     "output_type": "stream",
     "text": [
      "2023-05-18 23:42:25.079899: I tensorflow/core/common_runtime/executor.cc:1197] [/device:CPU:0] (DEBUG INFO) Executor start aborting (this does not indicate an error and you can ignore this message): INVALID_ARGUMENT: You must feed a value for placeholder tensor 'Placeholder/_17' with dtype string and shape [1]\n",
      "\t [[{{node Placeholder/_17}}]]\n",
      "2023-05-18 23:42:25.080496: I tensorflow/core/common_runtime/executor.cc:1197] [/device:CPU:0] (DEBUG INFO) Executor start aborting (this does not indicate an error and you can ignore this message): INVALID_ARGUMENT: You must feed a value for placeholder tensor 'Placeholder/_15' with dtype string and shape [1]\n",
      "\t [[{{node Placeholder/_15}}]]\n"
     ]
    },
    {
     "name": "stdout",
     "output_type": "stream",
     "text": [
      "11/11 [==============================] - 4s 57ms/step - loss: 0.6928 - accuracy: 0.5625 - val_loss: 0.6924 - val_accuracy: 0.5936\n",
      "Epoch 2/70\n",
      "11/11 [==============================] - 0s 39ms/step - loss: 0.6916 - accuracy: 0.6321 - val_loss: 0.6909 - val_accuracy: 0.6417\n",
      "Epoch 3/70\n",
      "11/11 [==============================] - 0s 29ms/step - loss: 0.6903 - accuracy: 0.6321 - val_loss: 0.6891 - val_accuracy: 0.6524\n",
      "Epoch 4/70\n",
      "11/11 [==============================] - 0s 29ms/step - loss: 0.6887 - accuracy: 0.6321 - val_loss: 0.6864 - val_accuracy: 0.6684\n",
      "Epoch 5/70\n",
      "11/11 [==============================] - 0s 31ms/step - loss: 0.6864 - accuracy: 0.6321 - val_loss: 0.6837 - val_accuracy: 0.6631\n",
      "Epoch 6/70\n",
      "11/11 [==============================] - 0s 30ms/step - loss: 0.6817 - accuracy: 0.6719 - val_loss: 0.6769 - val_accuracy: 0.7112\n",
      "Epoch 7/70\n",
      "11/11 [==============================] - 0s 35ms/step - loss: 0.6771 - accuracy: 0.6804 - val_loss: 0.6716 - val_accuracy: 0.6952\n",
      "Epoch 8/70\n",
      "11/11 [==============================] - 0s 29ms/step - loss: 0.6683 - accuracy: 0.6903 - val_loss: 0.6608 - val_accuracy: 0.7594\n",
      "Epoch 9/70\n",
      "11/11 [==============================] - 0s 28ms/step - loss: 0.6527 - accuracy: 0.7528 - val_loss: 0.6386 - val_accuracy: 0.7754\n",
      "Epoch 10/70\n",
      "11/11 [==============================] - 0s 29ms/step - loss: 0.6283 - accuracy: 0.7756 - val_loss: 0.6274 - val_accuracy: 0.7005\n",
      "Epoch 11/70\n",
      "11/11 [==============================] - 0s 29ms/step - loss: 0.5905 - accuracy: 0.7770 - val_loss: 0.5871 - val_accuracy: 0.7433\n",
      "Epoch 12/70\n",
      "11/11 [==============================] - 0s 30ms/step - loss: 0.5520 - accuracy: 0.7869 - val_loss: 0.5234 - val_accuracy: 0.7807\n",
      "Epoch 13/70\n",
      "11/11 [==============================] - 0s 30ms/step - loss: 0.5183 - accuracy: 0.8040 - val_loss: 0.4710 - val_accuracy: 0.8128\n",
      "Epoch 14/70\n",
      "11/11 [==============================] - 0s 29ms/step - loss: 0.4763 - accuracy: 0.8210 - val_loss: 0.5062 - val_accuracy: 0.7861\n",
      "Epoch 15/70\n",
      "11/11 [==============================] - 0s 35ms/step - loss: 0.4732 - accuracy: 0.8097 - val_loss: 0.4628 - val_accuracy: 0.8075\n",
      "Epoch 16/70\n",
      "11/11 [==============================] - 0s 28ms/step - loss: 0.4440 - accuracy: 0.8153 - val_loss: 0.4655 - val_accuracy: 0.8342\n",
      "Epoch 17/70\n",
      "11/11 [==============================] - 0s 28ms/step - loss: 0.4450 - accuracy: 0.8125 - val_loss: 0.3631 - val_accuracy: 0.8503\n",
      "Epoch 18/70\n",
      "11/11 [==============================] - 0s 30ms/step - loss: 0.4261 - accuracy: 0.8224 - val_loss: 0.4224 - val_accuracy: 0.8342\n",
      "Epoch 19/70\n",
      "11/11 [==============================] - 0s 28ms/step - loss: 0.4398 - accuracy: 0.8196 - val_loss: 0.4995 - val_accuracy: 0.7647\n",
      "Epoch 20/70\n",
      "11/11 [==============================] - 0s 31ms/step - loss: 0.4418 - accuracy: 0.8082 - val_loss: 0.3887 - val_accuracy: 0.8396\n",
      "Epoch 21/70\n",
      "11/11 [==============================] - 0s 37ms/step - loss: 0.4188 - accuracy: 0.8239 - val_loss: 0.3980 - val_accuracy: 0.8342\n",
      "Epoch 22/70\n",
      "11/11 [==============================] - 0s 28ms/step - loss: 0.4122 - accuracy: 0.8267 - val_loss: 0.4276 - val_accuracy: 0.8449\n",
      "Epoch 23/70\n",
      "11/11 [==============================] - 0s 26ms/step - loss: 0.4051 - accuracy: 0.8310 - val_loss: 0.3906 - val_accuracy: 0.8235\n",
      "Epoch 24/70\n",
      "11/11 [==============================] - 0s 26ms/step - loss: 0.4052 - accuracy: 0.8310 - val_loss: 0.4005 - val_accuracy: 0.8396\n",
      "Epoch 25/70\n",
      "11/11 [==============================] - 0s 26ms/step - loss: 0.4123 - accuracy: 0.8253 - val_loss: 0.3686 - val_accuracy: 0.8449\n",
      "Epoch 26/70\n",
      "11/11 [==============================] - 0s 28ms/step - loss: 0.4205 - accuracy: 0.8267 - val_loss: 0.3545 - val_accuracy: 0.8663\n",
      "Epoch 27/70\n",
      "11/11 [==============================] - 0s 29ms/step - loss: 0.4060 - accuracy: 0.8338 - val_loss: 0.4140 - val_accuracy: 0.8396\n",
      "Epoch 28/70\n",
      "11/11 [==============================] - 0s 31ms/step - loss: 0.3978 - accuracy: 0.8381 - val_loss: 0.3948 - val_accuracy: 0.8556\n",
      "Epoch 29/70\n",
      "11/11 [==============================] - 0s 30ms/step - loss: 0.3906 - accuracy: 0.8466 - val_loss: 0.3934 - val_accuracy: 0.8556\n",
      "Epoch 30/70\n",
      "11/11 [==============================] - 0s 30ms/step - loss: 0.4039 - accuracy: 0.8324 - val_loss: 0.3831 - val_accuracy: 0.8503\n",
      "Epoch 31/70\n",
      "11/11 [==============================] - 0s 30ms/step - loss: 0.4082 - accuracy: 0.8366 - val_loss: 0.4086 - val_accuracy: 0.8396\n",
      "Epoch 32/70\n",
      "11/11 [==============================] - 0s 34ms/step - loss: 0.4008 - accuracy: 0.8267 - val_loss: 0.4320 - val_accuracy: 0.8021\n",
      "Epoch 33/70\n",
      "11/11 [==============================] - 0s 31ms/step - loss: 0.4212 - accuracy: 0.8281 - val_loss: 0.3818 - val_accuracy: 0.8396\n",
      "Epoch 34/70\n",
      "11/11 [==============================] - 0s 34ms/step - loss: 0.3965 - accuracy: 0.8352 - val_loss: 0.3470 - val_accuracy: 0.8717\n",
      "Epoch 35/70\n",
      "11/11 [==============================] - 0s 28ms/step - loss: 0.3923 - accuracy: 0.8395 - val_loss: 0.4092 - val_accuracy: 0.8342\n",
      "Epoch 36/70\n",
      "11/11 [==============================] - 0s 28ms/step - loss: 0.3853 - accuracy: 0.8381 - val_loss: 0.4135 - val_accuracy: 0.8396\n",
      "Epoch 37/70\n",
      "11/11 [==============================] - 0s 31ms/step - loss: 0.4025 - accuracy: 0.8310 - val_loss: 0.3377 - val_accuracy: 0.8717\n",
      "Epoch 38/70\n",
      "11/11 [==============================] - 0s 32ms/step - loss: 0.3884 - accuracy: 0.8352 - val_loss: 0.3741 - val_accuracy: 0.8449\n",
      "Epoch 39/70\n",
      "11/11 [==============================] - 0s 30ms/step - loss: 0.3959 - accuracy: 0.8310 - val_loss: 0.3948 - val_accuracy: 0.8503\n",
      "Epoch 40/70\n",
      "11/11 [==============================] - 0s 31ms/step - loss: 0.3914 - accuracy: 0.8395 - val_loss: 0.3426 - val_accuracy: 0.8503\n",
      "Epoch 41/70\n",
      "11/11 [==============================] - 0s 27ms/step - loss: 0.4016 - accuracy: 0.8310 - val_loss: 0.4045 - val_accuracy: 0.8021\n",
      "Epoch 42/70\n",
      "11/11 [==============================] - 0s 28ms/step - loss: 0.4002 - accuracy: 0.8267 - val_loss: 0.4269 - val_accuracy: 0.8235\n",
      "Epoch 43/70\n",
      "11/11 [==============================] - 0s 26ms/step - loss: 0.3802 - accuracy: 0.8423 - val_loss: 0.3979 - val_accuracy: 0.8396\n",
      "Epoch 44/70\n",
      "11/11 [==============================] - 0s 28ms/step - loss: 0.3936 - accuracy: 0.8409 - val_loss: 0.4352 - val_accuracy: 0.8182\n",
      "Epoch 45/70\n",
      "11/11 [==============================] - 0s 28ms/step - loss: 0.3622 - accuracy: 0.8480 - val_loss: 0.2970 - val_accuracy: 0.8877\n",
      "Epoch 46/70\n",
      "11/11 [==============================] - 0s 29ms/step - loss: 0.3875 - accuracy: 0.8480 - val_loss: 0.3667 - val_accuracy: 0.8556\n",
      "Epoch 47/70\n",
      "11/11 [==============================] - 0s 33ms/step - loss: 0.4056 - accuracy: 0.8239 - val_loss: 0.3905 - val_accuracy: 0.8663\n",
      "Epoch 48/70\n",
      "11/11 [==============================] - 0s 31ms/step - loss: 0.3915 - accuracy: 0.8409 - val_loss: 0.3509 - val_accuracy: 0.8503\n",
      "Epoch 49/70\n",
      "11/11 [==============================] - 0s 29ms/step - loss: 0.3955 - accuracy: 0.8338 - val_loss: 0.3694 - val_accuracy: 0.8449\n",
      "Epoch 50/70\n",
      "11/11 [==============================] - 0s 31ms/step - loss: 0.3970 - accuracy: 0.8295 - val_loss: 0.4095 - val_accuracy: 0.8449\n",
      "Epoch 51/70\n",
      "11/11 [==============================] - 0s 30ms/step - loss: 0.3806 - accuracy: 0.8352 - val_loss: 0.3777 - val_accuracy: 0.8449\n",
      "Epoch 52/70\n",
      "11/11 [==============================] - 0s 31ms/step - loss: 0.3739 - accuracy: 0.8409 - val_loss: 0.3622 - val_accuracy: 0.8556\n",
      "Epoch 53/70\n",
      "11/11 [==============================] - 0s 30ms/step - loss: 0.3714 - accuracy: 0.8438 - val_loss: 0.4702 - val_accuracy: 0.7594\n",
      "Epoch 54/70\n",
      "11/11 [==============================] - 0s 30ms/step - loss: 0.3840 - accuracy: 0.8310 - val_loss: 0.3596 - val_accuracy: 0.8503\n",
      "Epoch 55/70\n",
      "11/11 [==============================] - 0s 31ms/step - loss: 0.3783 - accuracy: 0.8438 - val_loss: 0.3789 - val_accuracy: 0.8503\n",
      "Epoch 56/70\n",
      "11/11 [==============================] - 0s 32ms/step - loss: 0.3795 - accuracy: 0.8381 - val_loss: 0.3995 - val_accuracy: 0.8235\n",
      "Epoch 57/70\n",
      "11/11 [==============================] - 0s 33ms/step - loss: 0.3942 - accuracy: 0.8366 - val_loss: 0.4599 - val_accuracy: 0.7914\n",
      "Epoch 58/70\n",
      "11/11 [==============================] - 0s 28ms/step - loss: 0.3841 - accuracy: 0.8295 - val_loss: 0.2844 - val_accuracy: 0.8877\n"
     ]
    },
    {
     "name": "stdout",
     "output_type": "stream",
     "text": [
      "Epoch 59/70\n",
      "11/11 [==============================] - 0s 31ms/step - loss: 0.3766 - accuracy: 0.8381 - val_loss: 0.3648 - val_accuracy: 0.8396\n",
      "Epoch 60/70\n",
      "11/11 [==============================] - 0s 33ms/step - loss: 0.3634 - accuracy: 0.8423 - val_loss: 0.3666 - val_accuracy: 0.8396\n",
      "Epoch 61/70\n",
      "11/11 [==============================] - 0s 32ms/step - loss: 0.3641 - accuracy: 0.8452 - val_loss: 0.3633 - val_accuracy: 0.8396\n",
      "Epoch 62/70\n",
      "11/11 [==============================] - 0s 33ms/step - loss: 0.3682 - accuracy: 0.8438 - val_loss: 0.4232 - val_accuracy: 0.8289\n",
      "Epoch 63/70\n",
      "11/11 [==============================] - 0s 30ms/step - loss: 0.3737 - accuracy: 0.8409 - val_loss: 0.3902 - val_accuracy: 0.8449\n",
      "Epoch 64/70\n",
      "11/11 [==============================] - 0s 30ms/step - loss: 0.3614 - accuracy: 0.8537 - val_loss: 0.3332 - val_accuracy: 0.8663\n",
      "Epoch 65/70\n",
      "11/11 [==============================] - 0s 30ms/step - loss: 0.3836 - accuracy: 0.8409 - val_loss: 0.3973 - val_accuracy: 0.8289\n",
      "Epoch 66/70\n",
      "11/11 [==============================] - 0s 29ms/step - loss: 0.3517 - accuracy: 0.8509 - val_loss: 0.4392 - val_accuracy: 0.7914\n",
      "Epoch 67/70\n",
      "11/11 [==============================] - 0s 30ms/step - loss: 0.3700 - accuracy: 0.8480 - val_loss: 0.3742 - val_accuracy: 0.8289\n",
      "Epoch 68/70\n",
      "11/11 [==============================] - 0s 30ms/step - loss: 0.3740 - accuracy: 0.8409 - val_loss: 0.3124 - val_accuracy: 0.8770\n",
      "Epoch 69/70\n",
      "11/11 [==============================] - 0s 30ms/step - loss: 0.3599 - accuracy: 0.8423 - val_loss: 0.3162 - val_accuracy: 0.8824\n",
      "Epoch 70/70\n",
      "11/11 [==============================] - 0s 30ms/step - loss: 0.3848 - accuracy: 0.8423 - val_loss: 0.2968 - val_accuracy: 0.8824\n",
      "CPU times: user 31.3 s, sys: 8.56 s, total: 39.9 s\n",
      "Wall time: 32.1 s\n"
     ]
    }
   ],
   "source": [
    "%time history = model.fit(training_data, epochs=EPOCHS, validation_data=validation_data)"
   ]
  },
  {
   "attachments": {},
   "cell_type": "markdown",
   "id": "97a2081c",
   "metadata": {},
   "source": [
    "## Save the checkpoint\n",
    "\n",
    "For now I will just be saving the final training result (instead of using a callback) and using the SavedModel format so that the model can be loaded without rebuilding the architecture.\n"
   ]
  },
  {
   "cell_type": "code",
   "execution_count": 113,
   "id": "84d18895",
   "metadata": {},
   "outputs": [
    {
     "name": "stdout",
     "output_type": "stream",
     "text": [
      "INFO:tensorflow:Unsupported signature for serialization: ((TensorSpec(shape=(10, 100), dtype=tf.float32, name='gradient'), <tensorflow.python.framework.func_graph.UnknownArgument object at 0x7fc29c47a4d0>, 140470535167056), {}).\n"
     ]
    },
    {
     "name": "stderr",
     "output_type": "stream",
     "text": [
      "INFO:tensorflow:Unsupported signature for serialization: ((TensorSpec(shape=(10, 100), dtype=tf.float32, name='gradient'), <tensorflow.python.framework.func_graph.UnknownArgument object at 0x7fc29c47a4d0>, 140470535167056), {}).\n"
     ]
    },
    {
     "name": "stdout",
     "output_type": "stream",
     "text": [
      "INFO:tensorflow:Unsupported signature for serialization: ((TensorSpec(shape=(100,), dtype=tf.float32, name='gradient'), <tensorflow.python.framework.func_graph.UnknownArgument object at 0x7fc1d85711d0>, 140470535174176), {}).\n"
     ]
    },
    {
     "name": "stderr",
     "output_type": "stream",
     "text": [
      "INFO:tensorflow:Unsupported signature for serialization: ((TensorSpec(shape=(100,), dtype=tf.float32, name='gradient'), <tensorflow.python.framework.func_graph.UnknownArgument object at 0x7fc1d85711d0>, 140470535174176), {}).\n"
     ]
    },
    {
     "name": "stdout",
     "output_type": "stream",
     "text": [
      "INFO:tensorflow:Unsupported signature for serialization: ((TensorSpec(shape=(100, 100), dtype=tf.float32, name='gradient'), <tensorflow.python.framework.func_graph.UnknownArgument object at 0x7fc34695f510>, 140470535243136), {}).\n"
     ]
    },
    {
     "name": "stderr",
     "output_type": "stream",
     "text": [
      "INFO:tensorflow:Unsupported signature for serialization: ((TensorSpec(shape=(100, 100), dtype=tf.float32, name='gradient'), <tensorflow.python.framework.func_graph.UnknownArgument object at 0x7fc34695f510>, 140470535243136), {}).\n"
     ]
    },
    {
     "name": "stdout",
     "output_type": "stream",
     "text": [
      "INFO:tensorflow:Unsupported signature for serialization: ((TensorSpec(shape=(100,), dtype=tf.float32, name='gradient'), <tensorflow.python.framework.func_graph.UnknownArgument object at 0x7fc2e07de9d0>, 140470535242016), {}).\n"
     ]
    },
    {
     "name": "stderr",
     "output_type": "stream",
     "text": [
      "INFO:tensorflow:Unsupported signature for serialization: ((TensorSpec(shape=(100,), dtype=tf.float32, name='gradient'), <tensorflow.python.framework.func_graph.UnknownArgument object at 0x7fc2e07de9d0>, 140470535242016), {}).\n"
     ]
    },
    {
     "name": "stdout",
     "output_type": "stream",
     "text": [
      "INFO:tensorflow:Unsupported signature for serialization: ((TensorSpec(shape=(100, 100), dtype=tf.float32, name='gradient'), <tensorflow.python.framework.func_graph.UnknownArgument object at 0x7fc1d8287050>, 140470535249456), {}).\n"
     ]
    },
    {
     "name": "stderr",
     "output_type": "stream",
     "text": [
      "INFO:tensorflow:Unsupported signature for serialization: ((TensorSpec(shape=(100, 100), dtype=tf.float32, name='gradient'), <tensorflow.python.framework.func_graph.UnknownArgument object at 0x7fc1d8287050>, 140470535249456), {}).\n"
     ]
    },
    {
     "name": "stdout",
     "output_type": "stream",
     "text": [
      "INFO:tensorflow:Unsupported signature for serialization: ((TensorSpec(shape=(100,), dtype=tf.float32, name='gradient'), <tensorflow.python.framework.func_graph.UnknownArgument object at 0x7fc2187e6c50>, 140470535244016), {}).\n"
     ]
    },
    {
     "name": "stderr",
     "output_type": "stream",
     "text": [
      "INFO:tensorflow:Unsupported signature for serialization: ((TensorSpec(shape=(100,), dtype=tf.float32, name='gradient'), <tensorflow.python.framework.func_graph.UnknownArgument object at 0x7fc2187e6c50>, 140470535244016), {}).\n"
     ]
    },
    {
     "name": "stdout",
     "output_type": "stream",
     "text": [
      "INFO:tensorflow:Unsupported signature for serialization: ((TensorSpec(shape=(100, 100), dtype=tf.float32, name='gradient'), <tensorflow.python.framework.func_graph.UnknownArgument object at 0x7fc2e07a36d0>, 140474355644208), {}).\n"
     ]
    },
    {
     "name": "stderr",
     "output_type": "stream",
     "text": [
      "INFO:tensorflow:Unsupported signature for serialization: ((TensorSpec(shape=(100, 100), dtype=tf.float32, name='gradient'), <tensorflow.python.framework.func_graph.UnknownArgument object at 0x7fc2e07a36d0>, 140474355644208), {}).\n"
     ]
    },
    {
     "name": "stdout",
     "output_type": "stream",
     "text": [
      "INFO:tensorflow:Unsupported signature for serialization: ((TensorSpec(shape=(100,), dtype=tf.float32, name='gradient'), <tensorflow.python.framework.func_graph.UnknownArgument object at 0x7fc1f815fbd0>, 140474355634688), {}).\n"
     ]
    },
    {
     "name": "stderr",
     "output_type": "stream",
     "text": [
      "INFO:tensorflow:Unsupported signature for serialization: ((TensorSpec(shape=(100,), dtype=tf.float32, name='gradient'), <tensorflow.python.framework.func_graph.UnknownArgument object at 0x7fc1f815fbd0>, 140474355634688), {}).\n"
     ]
    },
    {
     "name": "stdout",
     "output_type": "stream",
     "text": [
      "INFO:tensorflow:Unsupported signature for serialization: ((TensorSpec(shape=(100, 100), dtype=tf.float32, name='gradient'), <tensorflow.python.framework.func_graph.UnknownArgument object at 0x7fc1f839bad0>, 140470535183760), {}).\n"
     ]
    },
    {
     "name": "stderr",
     "output_type": "stream",
     "text": [
      "INFO:tensorflow:Unsupported signature for serialization: ((TensorSpec(shape=(100, 100), dtype=tf.float32, name='gradient'), <tensorflow.python.framework.func_graph.UnknownArgument object at 0x7fc1f839bad0>, 140470535183760), {}).\n"
     ]
    },
    {
     "name": "stdout",
     "output_type": "stream",
     "text": [
      "INFO:tensorflow:Unsupported signature for serialization: ((TensorSpec(shape=(100,), dtype=tf.float32, name='gradient'), <tensorflow.python.framework.func_graph.UnknownArgument object at 0x7fc2181acc10>, 140470535192320), {}).\n"
     ]
    },
    {
     "name": "stderr",
     "output_type": "stream",
     "text": [
      "INFO:tensorflow:Unsupported signature for serialization: ((TensorSpec(shape=(100,), dtype=tf.float32, name='gradient'), <tensorflow.python.framework.func_graph.UnknownArgument object at 0x7fc2181acc10>, 140470535192320), {}).\n"
     ]
    },
    {
     "name": "stdout",
     "output_type": "stream",
     "text": [
      "INFO:tensorflow:Unsupported signature for serialization: ((TensorSpec(shape=(100, 100), dtype=tf.float32, name='gradient'), <tensorflow.python.framework.func_graph.UnknownArgument object at 0x7fc1f840f510>, 140470535251056), {}).\n"
     ]
    },
    {
     "name": "stderr",
     "output_type": "stream",
     "text": [
      "INFO:tensorflow:Unsupported signature for serialization: ((TensorSpec(shape=(100, 100), dtype=tf.float32, name='gradient'), <tensorflow.python.framework.func_graph.UnknownArgument object at 0x7fc1f840f510>, 140470535251056), {}).\n"
     ]
    },
    {
     "name": "stdout",
     "output_type": "stream",
     "text": [
      "INFO:tensorflow:Unsupported signature for serialization: ((TensorSpec(shape=(100,), dtype=tf.float32, name='gradient'), <tensorflow.python.framework.func_graph.UnknownArgument object at 0x7fc2187bf890>, 140470535241856), {}).\n"
     ]
    },
    {
     "name": "stderr",
     "output_type": "stream",
     "text": [
      "INFO:tensorflow:Unsupported signature for serialization: ((TensorSpec(shape=(100,), dtype=tf.float32, name='gradient'), <tensorflow.python.framework.func_graph.UnknownArgument object at 0x7fc2187bf890>, 140470535241856), {}).\n"
     ]
    },
    {
     "name": "stdout",
     "output_type": "stream",
     "text": [
      "INFO:tensorflow:Unsupported signature for serialization: ((TensorSpec(shape=(100, 100), dtype=tf.float32, name='gradient'), <tensorflow.python.framework.func_graph.UnknownArgument object at 0x7fc29c4c25d0>, 140474355826192), {}).\n"
     ]
    },
    {
     "name": "stderr",
     "output_type": "stream",
     "text": [
      "INFO:tensorflow:Unsupported signature for serialization: ((TensorSpec(shape=(100, 100), dtype=tf.float32, name='gradient'), <tensorflow.python.framework.func_graph.UnknownArgument object at 0x7fc29c4c25d0>, 140474355826192), {}).\n"
     ]
    },
    {
     "name": "stdout",
     "output_type": "stream",
     "text": [
      "INFO:tensorflow:Unsupported signature for serialization: ((TensorSpec(shape=(100,), dtype=tf.float32, name='gradient'), <tensorflow.python.framework.func_graph.UnknownArgument object at 0x7fc1d87baf90>, 140474355813072), {}).\n"
     ]
    },
    {
     "name": "stderr",
     "output_type": "stream",
     "text": [
      "INFO:tensorflow:Unsupported signature for serialization: ((TensorSpec(shape=(100,), dtype=tf.float32, name='gradient'), <tensorflow.python.framework.func_graph.UnknownArgument object at 0x7fc1d87baf90>, 140474355813072), {}).\n"
     ]
    },
    {
     "name": "stdout",
     "output_type": "stream",
     "text": [
      "INFO:tensorflow:Unsupported signature for serialization: ((TensorSpec(shape=(100, 100), dtype=tf.float32, name='gradient'), <tensorflow.python.framework.func_graph.UnknownArgument object at 0x7fc1d86ee210>, 140471607537344), {}).\n"
     ]
    },
    {
     "name": "stderr",
     "output_type": "stream",
     "text": [
      "INFO:tensorflow:Unsupported signature for serialization: ((TensorSpec(shape=(100, 100), dtype=tf.float32, name='gradient'), <tensorflow.python.framework.func_graph.UnknownArgument object at 0x7fc1d86ee210>, 140471607537344), {}).\n"
     ]
    },
    {
     "name": "stdout",
     "output_type": "stream",
     "text": [
      "INFO:tensorflow:Unsupported signature for serialization: ((TensorSpec(shape=(100,), dtype=tf.float32, name='gradient'), <tensorflow.python.framework.func_graph.UnknownArgument object at 0x7fc218393090>, 140471607536064), {}).\n"
     ]
    },
    {
     "name": "stderr",
     "output_type": "stream",
     "text": [
      "INFO:tensorflow:Unsupported signature for serialization: ((TensorSpec(shape=(100,), dtype=tf.float32, name='gradient'), <tensorflow.python.framework.func_graph.UnknownArgument object at 0x7fc218393090>, 140471607536064), {}).\n"
     ]
    },
    {
     "name": "stdout",
     "output_type": "stream",
     "text": [
      "INFO:tensorflow:Unsupported signature for serialization: ((TensorSpec(shape=(100, 100), dtype=tf.float32, name='gradient'), <tensorflow.python.framework.func_graph.UnknownArgument object at 0x7fc218343b10>, 140474355826352), {}).\n"
     ]
    },
    {
     "name": "stderr",
     "output_type": "stream",
     "text": [
      "INFO:tensorflow:Unsupported signature for serialization: ((TensorSpec(shape=(100, 100), dtype=tf.float32, name='gradient'), <tensorflow.python.framework.func_graph.UnknownArgument object at 0x7fc218343b10>, 140474355826352), {}).\n"
     ]
    },
    {
     "name": "stdout",
     "output_type": "stream",
     "text": [
      "INFO:tensorflow:Unsupported signature for serialization: ((TensorSpec(shape=(100,), dtype=tf.float32, name='gradient'), <tensorflow.python.framework.func_graph.UnknownArgument object at 0x7fc21878e990>, 140474355826512), {}).\n"
     ]
    },
    {
     "name": "stderr",
     "output_type": "stream",
     "text": [
      "INFO:tensorflow:Unsupported signature for serialization: ((TensorSpec(shape=(100,), dtype=tf.float32, name='gradient'), <tensorflow.python.framework.func_graph.UnknownArgument object at 0x7fc21878e990>, 140474355826512), {}).\n"
     ]
    },
    {
     "name": "stdout",
     "output_type": "stream",
     "text": [
      "INFO:tensorflow:Unsupported signature for serialization: ((TensorSpec(shape=(100, 100), dtype=tf.float32, name='gradient'), <tensorflow.python.framework.func_graph.UnknownArgument object at 0x7fc21878e150>, 140474355634608), {}).\n"
     ]
    },
    {
     "name": "stderr",
     "output_type": "stream",
     "text": [
      "INFO:tensorflow:Unsupported signature for serialization: ((TensorSpec(shape=(100, 100), dtype=tf.float32, name='gradient'), <tensorflow.python.framework.func_graph.UnknownArgument object at 0x7fc21878e150>, 140474355634608), {}).\n"
     ]
    },
    {
     "name": "stdout",
     "output_type": "stream",
     "text": [
      "INFO:tensorflow:Unsupported signature for serialization: ((TensorSpec(shape=(100,), dtype=tf.float32, name='gradient'), <tensorflow.python.framework.func_graph.UnknownArgument object at 0x7fc1d8291c90>, 140474355633888), {}).\n"
     ]
    },
    {
     "name": "stderr",
     "output_type": "stream",
     "text": [
      "INFO:tensorflow:Unsupported signature for serialization: ((TensorSpec(shape=(100,), dtype=tf.float32, name='gradient'), <tensorflow.python.framework.func_graph.UnknownArgument object at 0x7fc1d8291c90>, 140474355633888), {}).\n"
     ]
    },
    {
     "name": "stdout",
     "output_type": "stream",
     "text": [
      "INFO:tensorflow:Unsupported signature for serialization: ((TensorSpec(shape=(100, 100), dtype=tf.float32, name='gradient'), <tensorflow.python.framework.func_graph.UnknownArgument object at 0x7fc1d828c1d0>, 140471607534384), {}).\n"
     ]
    },
    {
     "name": "stderr",
     "output_type": "stream",
     "text": [
      "INFO:tensorflow:Unsupported signature for serialization: ((TensorSpec(shape=(100, 100), dtype=tf.float32, name='gradient'), <tensorflow.python.framework.func_graph.UnknownArgument object at 0x7fc1d828c1d0>, 140471607534384), {}).\n"
     ]
    },
    {
     "name": "stdout",
     "output_type": "stream",
     "text": [
      "INFO:tensorflow:Unsupported signature for serialization: ((TensorSpec(shape=(100,), dtype=tf.float32, name='gradient'), <tensorflow.python.framework.func_graph.UnknownArgument object at 0x7fc1d82719d0>, 140471607537504), {}).\n"
     ]
    },
    {
     "name": "stderr",
     "output_type": "stream",
     "text": [
      "INFO:tensorflow:Unsupported signature for serialization: ((TensorSpec(shape=(100,), dtype=tf.float32, name='gradient'), <tensorflow.python.framework.func_graph.UnknownArgument object at 0x7fc1d82719d0>, 140471607537504), {}).\n"
     ]
    },
    {
     "name": "stdout",
     "output_type": "stream",
     "text": [
      "INFO:tensorflow:Unsupported signature for serialization: ((TensorSpec(shape=(100, 100), dtype=tf.float32, name='gradient'), <tensorflow.python.framework.func_graph.UnknownArgument object at 0x7fc2786dd3d0>, 140471607539984), {}).\n"
     ]
    },
    {
     "name": "stderr",
     "output_type": "stream",
     "text": [
      "INFO:tensorflow:Unsupported signature for serialization: ((TensorSpec(shape=(100, 100), dtype=tf.float32, name='gradient'), <tensorflow.python.framework.func_graph.UnknownArgument object at 0x7fc2786dd3d0>, 140471607539984), {}).\n"
     ]
    },
    {
     "name": "stdout",
     "output_type": "stream",
     "text": [
      "INFO:tensorflow:Unsupported signature for serialization: ((TensorSpec(shape=(100,), dtype=tf.float32, name='gradient'), <tensorflow.python.framework.func_graph.UnknownArgument object at 0x7fc2786de150>, 140471607536304), {}).\n"
     ]
    },
    {
     "name": "stderr",
     "output_type": "stream",
     "text": [
      "INFO:tensorflow:Unsupported signature for serialization: ((TensorSpec(shape=(100,), dtype=tf.float32, name='gradient'), <tensorflow.python.framework.func_graph.UnknownArgument object at 0x7fc2786de150>, 140471607536304), {}).\n"
     ]
    },
    {
     "name": "stdout",
     "output_type": "stream",
     "text": [
      "INFO:tensorflow:Unsupported signature for serialization: ((TensorSpec(shape=(100, 100), dtype=tf.float32, name='gradient'), <tensorflow.python.framework.func_graph.UnknownArgument object at 0x7fc29c5282d0>, 140470535253616), {}).\n"
     ]
    },
    {
     "name": "stderr",
     "output_type": "stream",
     "text": [
      "INFO:tensorflow:Unsupported signature for serialization: ((TensorSpec(shape=(100, 100), dtype=tf.float32, name='gradient'), <tensorflow.python.framework.func_graph.UnknownArgument object at 0x7fc29c5282d0>, 140470535253616), {}).\n"
     ]
    },
    {
     "name": "stdout",
     "output_type": "stream",
     "text": [
      "INFO:tensorflow:Unsupported signature for serialization: ((TensorSpec(shape=(100,), dtype=tf.float32, name='gradient'), <tensorflow.python.framework.func_graph.UnknownArgument object at 0x7fc1f8784250>, 140474355643808), {}).\n"
     ]
    },
    {
     "name": "stderr",
     "output_type": "stream",
     "text": [
      "INFO:tensorflow:Unsupported signature for serialization: ((TensorSpec(shape=(100,), dtype=tf.float32, name='gradient'), <tensorflow.python.framework.func_graph.UnknownArgument object at 0x7fc1f8784250>, 140474355643808), {}).\n"
     ]
    },
    {
     "name": "stdout",
     "output_type": "stream",
     "text": [
      "INFO:tensorflow:Unsupported signature for serialization: ((TensorSpec(shape=(100, 100), dtype=tf.float32, name='gradient'), <tensorflow.python.framework.func_graph.UnknownArgument object at 0x7fc33ff09710>, 140471607529744), {}).\n"
     ]
    },
    {
     "name": "stderr",
     "output_type": "stream",
     "text": [
      "INFO:tensorflow:Unsupported signature for serialization: ((TensorSpec(shape=(100, 100), dtype=tf.float32, name='gradient'), <tensorflow.python.framework.func_graph.UnknownArgument object at 0x7fc33ff09710>, 140471607529744), {}).\n"
     ]
    },
    {
     "name": "stdout",
     "output_type": "stream",
     "text": [
      "INFO:tensorflow:Unsupported signature for serialization: ((TensorSpec(shape=(100,), dtype=tf.float32, name='gradient'), <tensorflow.python.framework.func_graph.UnknownArgument object at 0x7fc29c576f50>, 140471607533424), {}).\n"
     ]
    },
    {
     "name": "stderr",
     "output_type": "stream",
     "text": [
      "INFO:tensorflow:Unsupported signature for serialization: ((TensorSpec(shape=(100,), dtype=tf.float32, name='gradient'), <tensorflow.python.framework.func_graph.UnknownArgument object at 0x7fc29c576f50>, 140471607533424), {}).\n"
     ]
    },
    {
     "name": "stdout",
     "output_type": "stream",
     "text": [
      "INFO:tensorflow:Unsupported signature for serialization: ((TensorSpec(shape=(100, 1), dtype=tf.float32, name='gradient'), <tensorflow.python.framework.func_graph.UnknownArgument object at 0x7fc21830cb10>, 140471607537664), {}).\n"
     ]
    },
    {
     "name": "stderr",
     "output_type": "stream",
     "text": [
      "INFO:tensorflow:Unsupported signature for serialization: ((TensorSpec(shape=(100, 1), dtype=tf.float32, name='gradient'), <tensorflow.python.framework.func_graph.UnknownArgument object at 0x7fc21830cb10>, 140471607537664), {}).\n"
     ]
    },
    {
     "name": "stdout",
     "output_type": "stream",
     "text": [
      "INFO:tensorflow:Unsupported signature for serialization: ((TensorSpec(shape=(1,), dtype=tf.float32, name='gradient'), <tensorflow.python.framework.func_graph.UnknownArgument object at 0x7fc1d84fc550>, 140471607535984), {}).\n"
     ]
    },
    {
     "name": "stderr",
     "output_type": "stream",
     "text": [
      "INFO:tensorflow:Unsupported signature for serialization: ((TensorSpec(shape=(1,), dtype=tf.float32, name='gradient'), <tensorflow.python.framework.func_graph.UnknownArgument object at 0x7fc1d84fc550>, 140471607535984), {}).\n"
     ]
    },
    {
     "name": "stdout",
     "output_type": "stream",
     "text": [
      "INFO:tensorflow:Unsupported signature for serialization: ((TensorSpec(shape=(10, 100), dtype=tf.float32, name='gradient'), <tensorflow.python.framework.func_graph.UnknownArgument object at 0x7fc29c47a4d0>, 140470535167056), {}).\n"
     ]
    },
    {
     "name": "stderr",
     "output_type": "stream",
     "text": [
      "INFO:tensorflow:Unsupported signature for serialization: ((TensorSpec(shape=(10, 100), dtype=tf.float32, name='gradient'), <tensorflow.python.framework.func_graph.UnknownArgument object at 0x7fc29c47a4d0>, 140470535167056), {}).\n"
     ]
    },
    {
     "name": "stdout",
     "output_type": "stream",
     "text": [
      "INFO:tensorflow:Unsupported signature for serialization: ((TensorSpec(shape=(100,), dtype=tf.float32, name='gradient'), <tensorflow.python.framework.func_graph.UnknownArgument object at 0x7fc1d85711d0>, 140470535174176), {}).\n"
     ]
    },
    {
     "name": "stderr",
     "output_type": "stream",
     "text": [
      "INFO:tensorflow:Unsupported signature for serialization: ((TensorSpec(shape=(100,), dtype=tf.float32, name='gradient'), <tensorflow.python.framework.func_graph.UnknownArgument object at 0x7fc1d85711d0>, 140470535174176), {}).\n"
     ]
    },
    {
     "name": "stdout",
     "output_type": "stream",
     "text": [
      "INFO:tensorflow:Unsupported signature for serialization: ((TensorSpec(shape=(100, 100), dtype=tf.float32, name='gradient'), <tensorflow.python.framework.func_graph.UnknownArgument object at 0x7fc34695f510>, 140470535243136), {}).\n"
     ]
    },
    {
     "name": "stderr",
     "output_type": "stream",
     "text": [
      "INFO:tensorflow:Unsupported signature for serialization: ((TensorSpec(shape=(100, 100), dtype=tf.float32, name='gradient'), <tensorflow.python.framework.func_graph.UnknownArgument object at 0x7fc34695f510>, 140470535243136), {}).\n"
     ]
    },
    {
     "name": "stdout",
     "output_type": "stream",
     "text": [
      "INFO:tensorflow:Unsupported signature for serialization: ((TensorSpec(shape=(100,), dtype=tf.float32, name='gradient'), <tensorflow.python.framework.func_graph.UnknownArgument object at 0x7fc2e07de9d0>, 140470535242016), {}).\n"
     ]
    },
    {
     "name": "stderr",
     "output_type": "stream",
     "text": [
      "INFO:tensorflow:Unsupported signature for serialization: ((TensorSpec(shape=(100,), dtype=tf.float32, name='gradient'), <tensorflow.python.framework.func_graph.UnknownArgument object at 0x7fc2e07de9d0>, 140470535242016), {}).\n"
     ]
    },
    {
     "name": "stdout",
     "output_type": "stream",
     "text": [
      "INFO:tensorflow:Unsupported signature for serialization: ((TensorSpec(shape=(100, 100), dtype=tf.float32, name='gradient'), <tensorflow.python.framework.func_graph.UnknownArgument object at 0x7fc1d8287050>, 140470535249456), {}).\n"
     ]
    },
    {
     "name": "stderr",
     "output_type": "stream",
     "text": [
      "INFO:tensorflow:Unsupported signature for serialization: ((TensorSpec(shape=(100, 100), dtype=tf.float32, name='gradient'), <tensorflow.python.framework.func_graph.UnknownArgument object at 0x7fc1d8287050>, 140470535249456), {}).\n"
     ]
    },
    {
     "name": "stdout",
     "output_type": "stream",
     "text": [
      "INFO:tensorflow:Unsupported signature for serialization: ((TensorSpec(shape=(100,), dtype=tf.float32, name='gradient'), <tensorflow.python.framework.func_graph.UnknownArgument object at 0x7fc2187e6c50>, 140470535244016), {}).\n"
     ]
    },
    {
     "name": "stderr",
     "output_type": "stream",
     "text": [
      "INFO:tensorflow:Unsupported signature for serialization: ((TensorSpec(shape=(100,), dtype=tf.float32, name='gradient'), <tensorflow.python.framework.func_graph.UnknownArgument object at 0x7fc2187e6c50>, 140470535244016), {}).\n"
     ]
    },
    {
     "name": "stdout",
     "output_type": "stream",
     "text": [
      "INFO:tensorflow:Unsupported signature for serialization: ((TensorSpec(shape=(100, 100), dtype=tf.float32, name='gradient'), <tensorflow.python.framework.func_graph.UnknownArgument object at 0x7fc2e07a36d0>, 140474355644208), {}).\n"
     ]
    },
    {
     "name": "stderr",
     "output_type": "stream",
     "text": [
      "INFO:tensorflow:Unsupported signature for serialization: ((TensorSpec(shape=(100, 100), dtype=tf.float32, name='gradient'), <tensorflow.python.framework.func_graph.UnknownArgument object at 0x7fc2e07a36d0>, 140474355644208), {}).\n"
     ]
    },
    {
     "name": "stdout",
     "output_type": "stream",
     "text": [
      "INFO:tensorflow:Unsupported signature for serialization: ((TensorSpec(shape=(100,), dtype=tf.float32, name='gradient'), <tensorflow.python.framework.func_graph.UnknownArgument object at 0x7fc1f815fbd0>, 140474355634688), {}).\n"
     ]
    },
    {
     "name": "stderr",
     "output_type": "stream",
     "text": [
      "INFO:tensorflow:Unsupported signature for serialization: ((TensorSpec(shape=(100,), dtype=tf.float32, name='gradient'), <tensorflow.python.framework.func_graph.UnknownArgument object at 0x7fc1f815fbd0>, 140474355634688), {}).\n"
     ]
    },
    {
     "name": "stdout",
     "output_type": "stream",
     "text": [
      "INFO:tensorflow:Unsupported signature for serialization: ((TensorSpec(shape=(100, 100), dtype=tf.float32, name='gradient'), <tensorflow.python.framework.func_graph.UnknownArgument object at 0x7fc1f839bad0>, 140470535183760), {}).\n"
     ]
    },
    {
     "name": "stderr",
     "output_type": "stream",
     "text": [
      "INFO:tensorflow:Unsupported signature for serialization: ((TensorSpec(shape=(100, 100), dtype=tf.float32, name='gradient'), <tensorflow.python.framework.func_graph.UnknownArgument object at 0x7fc1f839bad0>, 140470535183760), {}).\n"
     ]
    },
    {
     "name": "stdout",
     "output_type": "stream",
     "text": [
      "INFO:tensorflow:Unsupported signature for serialization: ((TensorSpec(shape=(100,), dtype=tf.float32, name='gradient'), <tensorflow.python.framework.func_graph.UnknownArgument object at 0x7fc2181acc10>, 140470535192320), {}).\n"
     ]
    },
    {
     "name": "stderr",
     "output_type": "stream",
     "text": [
      "INFO:tensorflow:Unsupported signature for serialization: ((TensorSpec(shape=(100,), dtype=tf.float32, name='gradient'), <tensorflow.python.framework.func_graph.UnknownArgument object at 0x7fc2181acc10>, 140470535192320), {}).\n"
     ]
    },
    {
     "name": "stdout",
     "output_type": "stream",
     "text": [
      "INFO:tensorflow:Unsupported signature for serialization: ((TensorSpec(shape=(100, 100), dtype=tf.float32, name='gradient'), <tensorflow.python.framework.func_graph.UnknownArgument object at 0x7fc1f840f510>, 140470535251056), {}).\n"
     ]
    },
    {
     "name": "stderr",
     "output_type": "stream",
     "text": [
      "INFO:tensorflow:Unsupported signature for serialization: ((TensorSpec(shape=(100, 100), dtype=tf.float32, name='gradient'), <tensorflow.python.framework.func_graph.UnknownArgument object at 0x7fc1f840f510>, 140470535251056), {}).\n"
     ]
    },
    {
     "name": "stdout",
     "output_type": "stream",
     "text": [
      "INFO:tensorflow:Unsupported signature for serialization: ((TensorSpec(shape=(100,), dtype=tf.float32, name='gradient'), <tensorflow.python.framework.func_graph.UnknownArgument object at 0x7fc2187bf890>, 140470535241856), {}).\n"
     ]
    },
    {
     "name": "stderr",
     "output_type": "stream",
     "text": [
      "INFO:tensorflow:Unsupported signature for serialization: ((TensorSpec(shape=(100,), dtype=tf.float32, name='gradient'), <tensorflow.python.framework.func_graph.UnknownArgument object at 0x7fc2187bf890>, 140470535241856), {}).\n"
     ]
    },
    {
     "name": "stdout",
     "output_type": "stream",
     "text": [
      "INFO:tensorflow:Unsupported signature for serialization: ((TensorSpec(shape=(100, 100), dtype=tf.float32, name='gradient'), <tensorflow.python.framework.func_graph.UnknownArgument object at 0x7fc29c4c25d0>, 140474355826192), {}).\n"
     ]
    },
    {
     "name": "stderr",
     "output_type": "stream",
     "text": [
      "INFO:tensorflow:Unsupported signature for serialization: ((TensorSpec(shape=(100, 100), dtype=tf.float32, name='gradient'), <tensorflow.python.framework.func_graph.UnknownArgument object at 0x7fc29c4c25d0>, 140474355826192), {}).\n"
     ]
    },
    {
     "name": "stdout",
     "output_type": "stream",
     "text": [
      "INFO:tensorflow:Unsupported signature for serialization: ((TensorSpec(shape=(100,), dtype=tf.float32, name='gradient'), <tensorflow.python.framework.func_graph.UnknownArgument object at 0x7fc1d87baf90>, 140474355813072), {}).\n"
     ]
    },
    {
     "name": "stderr",
     "output_type": "stream",
     "text": [
      "INFO:tensorflow:Unsupported signature for serialization: ((TensorSpec(shape=(100,), dtype=tf.float32, name='gradient'), <tensorflow.python.framework.func_graph.UnknownArgument object at 0x7fc1d87baf90>, 140474355813072), {}).\n"
     ]
    },
    {
     "name": "stdout",
     "output_type": "stream",
     "text": [
      "INFO:tensorflow:Unsupported signature for serialization: ((TensorSpec(shape=(100, 100), dtype=tf.float32, name='gradient'), <tensorflow.python.framework.func_graph.UnknownArgument object at 0x7fc1d86ee210>, 140471607537344), {}).\n"
     ]
    },
    {
     "name": "stderr",
     "output_type": "stream",
     "text": [
      "INFO:tensorflow:Unsupported signature for serialization: ((TensorSpec(shape=(100, 100), dtype=tf.float32, name='gradient'), <tensorflow.python.framework.func_graph.UnknownArgument object at 0x7fc1d86ee210>, 140471607537344), {}).\n"
     ]
    },
    {
     "name": "stdout",
     "output_type": "stream",
     "text": [
      "INFO:tensorflow:Unsupported signature for serialization: ((TensorSpec(shape=(100,), dtype=tf.float32, name='gradient'), <tensorflow.python.framework.func_graph.UnknownArgument object at 0x7fc218393090>, 140471607536064), {}).\n"
     ]
    },
    {
     "name": "stderr",
     "output_type": "stream",
     "text": [
      "INFO:tensorflow:Unsupported signature for serialization: ((TensorSpec(shape=(100,), dtype=tf.float32, name='gradient'), <tensorflow.python.framework.func_graph.UnknownArgument object at 0x7fc218393090>, 140471607536064), {}).\n"
     ]
    },
    {
     "name": "stdout",
     "output_type": "stream",
     "text": [
      "INFO:tensorflow:Unsupported signature for serialization: ((TensorSpec(shape=(100, 100), dtype=tf.float32, name='gradient'), <tensorflow.python.framework.func_graph.UnknownArgument object at 0x7fc218343b10>, 140474355826352), {}).\n"
     ]
    },
    {
     "name": "stderr",
     "output_type": "stream",
     "text": [
      "INFO:tensorflow:Unsupported signature for serialization: ((TensorSpec(shape=(100, 100), dtype=tf.float32, name='gradient'), <tensorflow.python.framework.func_graph.UnknownArgument object at 0x7fc218343b10>, 140474355826352), {}).\n"
     ]
    },
    {
     "name": "stdout",
     "output_type": "stream",
     "text": [
      "INFO:tensorflow:Unsupported signature for serialization: ((TensorSpec(shape=(100,), dtype=tf.float32, name='gradient'), <tensorflow.python.framework.func_graph.UnknownArgument object at 0x7fc21878e990>, 140474355826512), {}).\n"
     ]
    },
    {
     "name": "stderr",
     "output_type": "stream",
     "text": [
      "INFO:tensorflow:Unsupported signature for serialization: ((TensorSpec(shape=(100,), dtype=tf.float32, name='gradient'), <tensorflow.python.framework.func_graph.UnknownArgument object at 0x7fc21878e990>, 140474355826512), {}).\n"
     ]
    },
    {
     "name": "stdout",
     "output_type": "stream",
     "text": [
      "INFO:tensorflow:Unsupported signature for serialization: ((TensorSpec(shape=(100, 100), dtype=tf.float32, name='gradient'), <tensorflow.python.framework.func_graph.UnknownArgument object at 0x7fc21878e150>, 140474355634608), {}).\n"
     ]
    },
    {
     "name": "stderr",
     "output_type": "stream",
     "text": [
      "INFO:tensorflow:Unsupported signature for serialization: ((TensorSpec(shape=(100, 100), dtype=tf.float32, name='gradient'), <tensorflow.python.framework.func_graph.UnknownArgument object at 0x7fc21878e150>, 140474355634608), {}).\n"
     ]
    },
    {
     "name": "stdout",
     "output_type": "stream",
     "text": [
      "INFO:tensorflow:Unsupported signature for serialization: ((TensorSpec(shape=(100,), dtype=tf.float32, name='gradient'), <tensorflow.python.framework.func_graph.UnknownArgument object at 0x7fc1d8291c90>, 140474355633888), {}).\n"
     ]
    },
    {
     "name": "stderr",
     "output_type": "stream",
     "text": [
      "INFO:tensorflow:Unsupported signature for serialization: ((TensorSpec(shape=(100,), dtype=tf.float32, name='gradient'), <tensorflow.python.framework.func_graph.UnknownArgument object at 0x7fc1d8291c90>, 140474355633888), {}).\n"
     ]
    },
    {
     "name": "stdout",
     "output_type": "stream",
     "text": [
      "INFO:tensorflow:Unsupported signature for serialization: ((TensorSpec(shape=(100, 100), dtype=tf.float32, name='gradient'), <tensorflow.python.framework.func_graph.UnknownArgument object at 0x7fc1d828c1d0>, 140471607534384), {}).\n"
     ]
    },
    {
     "name": "stderr",
     "output_type": "stream",
     "text": [
      "INFO:tensorflow:Unsupported signature for serialization: ((TensorSpec(shape=(100, 100), dtype=tf.float32, name='gradient'), <tensorflow.python.framework.func_graph.UnknownArgument object at 0x7fc1d828c1d0>, 140471607534384), {}).\n"
     ]
    },
    {
     "name": "stdout",
     "output_type": "stream",
     "text": [
      "INFO:tensorflow:Unsupported signature for serialization: ((TensorSpec(shape=(100,), dtype=tf.float32, name='gradient'), <tensorflow.python.framework.func_graph.UnknownArgument object at 0x7fc1d82719d0>, 140471607537504), {}).\n"
     ]
    },
    {
     "name": "stderr",
     "output_type": "stream",
     "text": [
      "INFO:tensorflow:Unsupported signature for serialization: ((TensorSpec(shape=(100,), dtype=tf.float32, name='gradient'), <tensorflow.python.framework.func_graph.UnknownArgument object at 0x7fc1d82719d0>, 140471607537504), {}).\n"
     ]
    },
    {
     "name": "stdout",
     "output_type": "stream",
     "text": [
      "INFO:tensorflow:Unsupported signature for serialization: ((TensorSpec(shape=(100, 100), dtype=tf.float32, name='gradient'), <tensorflow.python.framework.func_graph.UnknownArgument object at 0x7fc2786dd3d0>, 140471607539984), {}).\n"
     ]
    },
    {
     "name": "stderr",
     "output_type": "stream",
     "text": [
      "INFO:tensorflow:Unsupported signature for serialization: ((TensorSpec(shape=(100, 100), dtype=tf.float32, name='gradient'), <tensorflow.python.framework.func_graph.UnknownArgument object at 0x7fc2786dd3d0>, 140471607539984), {}).\n"
     ]
    },
    {
     "name": "stdout",
     "output_type": "stream",
     "text": [
      "INFO:tensorflow:Unsupported signature for serialization: ((TensorSpec(shape=(100,), dtype=tf.float32, name='gradient'), <tensorflow.python.framework.func_graph.UnknownArgument object at 0x7fc2786de150>, 140471607536304), {}).\n"
     ]
    },
    {
     "name": "stderr",
     "output_type": "stream",
     "text": [
      "INFO:tensorflow:Unsupported signature for serialization: ((TensorSpec(shape=(100,), dtype=tf.float32, name='gradient'), <tensorflow.python.framework.func_graph.UnknownArgument object at 0x7fc2786de150>, 140471607536304), {}).\n"
     ]
    },
    {
     "name": "stdout",
     "output_type": "stream",
     "text": [
      "INFO:tensorflow:Unsupported signature for serialization: ((TensorSpec(shape=(100, 100), dtype=tf.float32, name='gradient'), <tensorflow.python.framework.func_graph.UnknownArgument object at 0x7fc29c5282d0>, 140470535253616), {}).\n"
     ]
    },
    {
     "name": "stderr",
     "output_type": "stream",
     "text": [
      "INFO:tensorflow:Unsupported signature for serialization: ((TensorSpec(shape=(100, 100), dtype=tf.float32, name='gradient'), <tensorflow.python.framework.func_graph.UnknownArgument object at 0x7fc29c5282d0>, 140470535253616), {}).\n"
     ]
    },
    {
     "name": "stdout",
     "output_type": "stream",
     "text": [
      "INFO:tensorflow:Unsupported signature for serialization: ((TensorSpec(shape=(100,), dtype=tf.float32, name='gradient'), <tensorflow.python.framework.func_graph.UnknownArgument object at 0x7fc1f8784250>, 140474355643808), {}).\n"
     ]
    },
    {
     "name": "stderr",
     "output_type": "stream",
     "text": [
      "INFO:tensorflow:Unsupported signature for serialization: ((TensorSpec(shape=(100,), dtype=tf.float32, name='gradient'), <tensorflow.python.framework.func_graph.UnknownArgument object at 0x7fc1f8784250>, 140474355643808), {}).\n"
     ]
    },
    {
     "name": "stdout",
     "output_type": "stream",
     "text": [
      "INFO:tensorflow:Unsupported signature for serialization: ((TensorSpec(shape=(100, 100), dtype=tf.float32, name='gradient'), <tensorflow.python.framework.func_graph.UnknownArgument object at 0x7fc33ff09710>, 140471607529744), {}).\n"
     ]
    },
    {
     "name": "stderr",
     "output_type": "stream",
     "text": [
      "INFO:tensorflow:Unsupported signature for serialization: ((TensorSpec(shape=(100, 100), dtype=tf.float32, name='gradient'), <tensorflow.python.framework.func_graph.UnknownArgument object at 0x7fc33ff09710>, 140471607529744), {}).\n"
     ]
    },
    {
     "name": "stdout",
     "output_type": "stream",
     "text": [
      "INFO:tensorflow:Unsupported signature for serialization: ((TensorSpec(shape=(100,), dtype=tf.float32, name='gradient'), <tensorflow.python.framework.func_graph.UnknownArgument object at 0x7fc29c576f50>, 140471607533424), {}).\n"
     ]
    },
    {
     "name": "stderr",
     "output_type": "stream",
     "text": [
      "INFO:tensorflow:Unsupported signature for serialization: ((TensorSpec(shape=(100,), dtype=tf.float32, name='gradient'), <tensorflow.python.framework.func_graph.UnknownArgument object at 0x7fc29c576f50>, 140471607533424), {}).\n"
     ]
    },
    {
     "name": "stdout",
     "output_type": "stream",
     "text": [
      "INFO:tensorflow:Unsupported signature for serialization: ((TensorSpec(shape=(100, 1), dtype=tf.float32, name='gradient'), <tensorflow.python.framework.func_graph.UnknownArgument object at 0x7fc21830cb10>, 140471607537664), {}).\n"
     ]
    },
    {
     "name": "stderr",
     "output_type": "stream",
     "text": [
      "INFO:tensorflow:Unsupported signature for serialization: ((TensorSpec(shape=(100, 1), dtype=tf.float32, name='gradient'), <tensorflow.python.framework.func_graph.UnknownArgument object at 0x7fc21830cb10>, 140471607537664), {}).\n"
     ]
    },
    {
     "name": "stdout",
     "output_type": "stream",
     "text": [
      "INFO:tensorflow:Unsupported signature for serialization: ((TensorSpec(shape=(1,), dtype=tf.float32, name='gradient'), <tensorflow.python.framework.func_graph.UnknownArgument object at 0x7fc1d84fc550>, 140471607535984), {}).\n"
     ]
    },
    {
     "name": "stderr",
     "output_type": "stream",
     "text": [
      "INFO:tensorflow:Unsupported signature for serialization: ((TensorSpec(shape=(1,), dtype=tf.float32, name='gradient'), <tensorflow.python.framework.func_graph.UnknownArgument object at 0x7fc1d84fc550>, 140471607535984), {}).\n",
      "WARNING:absl:Found untraced functions such as _update_step_xla while saving (showing 1 of 1). These functions will not be directly callable after loading.\n"
     ]
    },
    {
     "name": "stdout",
     "output_type": "stream",
     "text": [
      "INFO:tensorflow:Assets written to: /mnt/p/Models/kaggle-titanic/100,100,100,100,100,100,100,100,100,100,100,100,100,100,1_5e-05_70_64_/assets\n"
     ]
    },
    {
     "name": "stderr",
     "output_type": "stream",
     "text": [
      "INFO:tensorflow:Assets written to: /mnt/p/Models/kaggle-titanic/100,100,100,100,100,100,100,100,100,100,100,100,100,100,1_5e-05_70_64_/assets\n"
     ]
    },
    {
     "data": {
      "text/plain": [
       "True"
      ]
     },
     "execution_count": 113,
     "metadata": {},
     "output_type": "execute_result"
    }
   ],
   "source": [
    "layer_units_chunk = ','.join([str(unit) for unit in LAYER_UNITS])\n",
    "hyperparameters = [\n",
    "    layer_units_chunk, LEARNING_RATE, EPOCHS, BATCH_SIZE, FILE_MODS\n",
    "]\n",
    "checkpoint_chunks = [str(hyperparameter) for hyperparameter in hyperparameters]\n",
    "checkpoint_name = '_'.join(checkpoint_chunks)\n",
    "checkpoint_path = os.path.join(MODEL_FOLDER, checkpoint_name)\n",
    "\n",
    "model.save(checkpoint_path\n",
    "          )  # automatically overwrites and uses SavedModel format w/ optimizer\n",
    "\n",
    "os.path.exists(\n",
    "    checkpoint_path\n",
    ")  # This is a folder containing a bunch of stuff inside (not a single file)\n"
   ]
  },
  {
   "attachments": {},
   "cell_type": "markdown",
   "id": "a11938f1",
   "metadata": {},
   "source": [
    "## Analyze the Learning Curve\n"
   ]
  },
  {
   "cell_type": "code",
   "execution_count": 114,
   "id": "d6fc59db",
   "metadata": {},
   "outputs": [
    {
     "data": {
      "image/png": "[encoded data removed]",
      "text/plain": [
       "<Figure size 1000x1200 with 3 Axes>"
      ]
     },
     "metadata": {},
     "output_type": "display_data"
    },
    {
     "name": "stdout",
     "output_type": "stream",
     "text": [
      "Model: \"sequential_14\"\n",
      "_________________________________________________________________\n",
      " Layer (type)                Output Shape              Param #   \n",
      "=================================================================\n",
      " dense_216 (Dense)           (None, 100)               1100      \n",
      "                                                                 \n",
      " dense_217 (Dense)           (None, 100)               10100     \n",
      "                                                                 \n",
      " dense_218 (Dense)           (None, 100)               10100     \n",
      "                                                                 \n",
      " dense_219 (Dense)           (None, 100)               10100     \n",
      "                                                                 \n",
      " dense_220 (Dense)           (None, 100)               10100     \n",
      "                                                                 \n",
      " dense_221 (Dense)           (None, 100)               10100     \n",
      "                                                                 \n",
      " dense_222 (Dense)           (None, 100)               10100     \n",
      "                                                                 \n",
      " dense_223 (Dense)           (None, 100)               10100     \n",
      "                                                                 \n",
      " dense_224 (Dense)           (None, 100)               10100     \n",
      "                                                                 \n",
      " dense_225 (Dense)           (None, 100)               10100     \n",
      "                                                                 \n",
      " dense_226 (Dense)           (None, 100)               10100     \n",
      "                                                                 \n",
      " dense_227 (Dense)           (None, 100)               10100     \n",
      "                                                                 \n",
      " dense_228 (Dense)           (None, 100)               10100     \n",
      "                                                                 \n",
      " dense_229 (Dense)           (None, 100)               10100     \n",
      "                                                                 \n",
      " dense_230 (Dense)           (None, 1)                 101       \n",
      "                                                                 \n",
      "=================================================================\n",
      "Total params: 132,501\n",
      "Trainable params: 132,501\n",
      "Non-trainable params: 0\n",
      "_________________________________________________________________\n"
     ]
    }
   ],
   "source": [
    "visualization.graph_training_stats(history)\n",
    "model.summary()"
   ]
  },
  {
   "attachments": {},
   "cell_type": "markdown",
   "id": "8eb889d9",
   "metadata": {},
   "source": [
    "## Aggregate Stats for Model Selection\n",
    "\n",
    "Rather than show all the plots and stats in this notebook for all the models I tried, I'm just going to hardcode a table. Also, if I go in one direction (eg. try changing the batch size) and it performs worse than the best, I will tend to try other things to fix it or make it better than the best so far - I don't spend the time to document all the combinations here.\n",
    "\n",
    "Note that the first row is entirely equivalent to **logistic regression**.\n",
    "\n",
    "Also, only training runs that looked to be leveling off at the end are included. If not, then I added epochs and tried again. If the graph shows I included too many epochs, I do it again with just enough so that things are better comparable.\n",
    "\n",
    "With the larger batch sizes, validation accuracy became extremely noisy, so even though the larger batch sizes appear to have much larger validation accuracies, it's not gauranteed this will generalize well to the test set.\n",
    "\n",
    "Removing origin and fare group seemed to slightly hurt all architectures.\n"
   ]
  },
  {
   "attachments": {},
   "cell_type": "markdown",
   "id": "03bad339",
   "metadata": {},
   "source": [
    "| Architecture  | Learning Rate | Batch Size | Epochs |     | Training Accuracy (%) | Validation Accuracy (%) | Wall Time (s) |\n",
    "| :-----------: | :-----------: | :--------: | :----: | :-: | :-------------------: | :---------------------: | :-----------: |\n",
    "|     _[1]_     |    _0.001_    |    _32_    | _120_  |  -  |         81.8%         |          82.9%          |     43.4      |\n",
    "|    _[5,1]_    |    _0.001_    |    _32_    |  _50_  |  -  |         80.0%         |          76.5%          |     19.8      |\n",
    "|   _[5,5,1]_   |    _0.001_    |    _32_    |  _40_  |  -  |         83.4%         |          77.5%          |     17.1      |\n",
    "|  _[10,5,1]_   |    _0.001_    |    _32_    |  _40_  |  -  |         82.5%         |          78.6%          |     17.0      |\n",
    "| _[100,100,1]_ |    _0.001_    |    _32_    |  _40_  |  -  |         85.5%         |          78.6%          |     16.3      |\n",
    "|     _[1]_     |    _0.010_    |   _100_    |  _25_  |  -  |         80.0%         |          85.9%          |      7.4      |\n",
    "|   _[5,5,1]_   |    _0.010_    |   _100_    |  _20_  |  -  |         83.1%         |          85.9%          |      6.6      |\n",
    "|  _[100x9,1]_  |   _0.0001_    |    _32_    |  _50_  |  -  |         84.1%         |          81.3%          |     27.0      |\n",
    "| _[100x14,1]_  |   _0.00005_   |    _64_    |  _70_  |  -  |         84.1%         |          90.4%          |     27.0      |\n",
    "\n",
    "I tried models with more layers than listed here and the results were about the same and then eventually got worse.\n"
   ]
  },
  {
   "attachments": {},
   "cell_type": "markdown",
   "id": "38cb4703",
   "metadata": {},
   "source": [
    "## Trying Dropout and BatchNorm\n",
    "\n",
    "This does not appear to have helped in this case.\n"
   ]
  },
  {
   "cell_type": "code",
   "execution_count": 265,
   "id": "699e082a",
   "metadata": {},
   "outputs": [
    {
     "name": "stdout",
     "output_type": "stream",
     "text": [
      "Epoch 1/100\n",
      "22/22 [==============================] - 2s 28ms/step - loss: 0.7703 - accuracy: 0.5142 - val_loss: 0.6437 - val_accuracy: 0.6043\n",
      "Epoch 2/100\n",
      "22/22 [==============================] - 1s 25ms/step - loss: 0.6862 - accuracy: 0.5966 - val_loss: 0.6170 - val_accuracy: 0.6471\n",
      "Epoch 3/100\n",
      "22/22 [==============================] - 0s 17ms/step - loss: 0.6474 - accuracy: 0.6307 - val_loss: 0.6365 - val_accuracy: 0.5936\n",
      "Epoch 4/100\n",
      "22/22 [==============================] - 0s 17ms/step - loss: 0.6488 - accuracy: 0.6278 - val_loss: 0.5966 - val_accuracy: 0.6310\n",
      "Epoch 5/100\n",
      "22/22 [==============================] - 0s 17ms/step - loss: 0.6419 - accuracy: 0.6307 - val_loss: 0.6041 - val_accuracy: 0.6096\n",
      "Epoch 6/100\n",
      "22/22 [==============================] - 0s 18ms/step - loss: 0.6053 - accuracy: 0.6960 - val_loss: 0.5788 - val_accuracy: 0.7807\n",
      "Epoch 7/100\n",
      "22/22 [==============================] - 0s 20ms/step - loss: 0.6050 - accuracy: 0.6946 - val_loss: 0.5423 - val_accuracy: 0.7807\n",
      "Epoch 8/100\n",
      "22/22 [==============================] - 0s 21ms/step - loss: 0.6372 - accuracy: 0.6591 - val_loss: 0.5704 - val_accuracy: 0.7594\n",
      "Epoch 9/100\n",
      "22/22 [==============================] - 0s 20ms/step - loss: 0.6086 - accuracy: 0.6832 - val_loss: 0.5469 - val_accuracy: 0.7807\n",
      "Epoch 10/100\n",
      "22/22 [==============================] - 0s 21ms/step - loss: 0.6136 - accuracy: 0.6761 - val_loss: 0.5373 - val_accuracy: 0.7968\n",
      "Epoch 11/100\n",
      "22/22 [==============================] - 0s 18ms/step - loss: 0.5946 - accuracy: 0.6861 - val_loss: 0.5498 - val_accuracy: 0.7914\n",
      "Epoch 12/100\n",
      "22/22 [==============================] - 0s 18ms/step - loss: 0.5705 - accuracy: 0.7159 - val_loss: 0.5042 - val_accuracy: 0.8235\n",
      "Epoch 13/100\n",
      "22/22 [==============================] - 0s 18ms/step - loss: 0.5903 - accuracy: 0.7074 - val_loss: 0.5297 - val_accuracy: 0.7861\n",
      "Epoch 14/100\n",
      "22/22 [==============================] - 0s 20ms/step - loss: 0.5640 - accuracy: 0.7230 - val_loss: 0.4922 - val_accuracy: 0.8235\n",
      "Epoch 15/100\n",
      "22/22 [==============================] - 1s 22ms/step - loss: 0.5631 - accuracy: 0.7259 - val_loss: 0.4766 - val_accuracy: 0.8396\n",
      "Epoch 16/100\n",
      "22/22 [==============================] - 0s 21ms/step - loss: 0.5624 - accuracy: 0.7358 - val_loss: 0.5165 - val_accuracy: 0.7754\n",
      "Epoch 17/100\n",
      "22/22 [==============================] - 0s 21ms/step - loss: 0.5547 - accuracy: 0.7358 - val_loss: 0.4797 - val_accuracy: 0.8075\n",
      "Epoch 18/100\n",
      "22/22 [==============================] - 0s 21ms/step - loss: 0.5359 - accuracy: 0.7401 - val_loss: 0.5096 - val_accuracy: 0.7861\n",
      "Epoch 19/100\n",
      "22/22 [==============================] - 0s 21ms/step - loss: 0.5598 - accuracy: 0.7415 - val_loss: 0.5344 - val_accuracy: 0.7487\n",
      "Epoch 20/100\n",
      "22/22 [==============================] - 0s 21ms/step - loss: 0.5729 - accuracy: 0.7230 - val_loss: 0.4940 - val_accuracy: 0.7914\n",
      "Epoch 21/100\n",
      "22/22 [==============================] - 0s 20ms/step - loss: 0.5638 - accuracy: 0.7344 - val_loss: 0.4609 - val_accuracy: 0.8342\n",
      "Epoch 22/100\n",
      "22/22 [==============================] - 0s 19ms/step - loss: 0.5592 - accuracy: 0.7344 - val_loss: 0.5129 - val_accuracy: 0.7701\n",
      "Epoch 23/100\n",
      "22/22 [==============================] - 0s 20ms/step - loss: 0.5281 - accuracy: 0.7429 - val_loss: 0.4607 - val_accuracy: 0.8289\n",
      "Epoch 24/100\n",
      "22/22 [==============================] - 0s 20ms/step - loss: 0.5411 - accuracy: 0.7472 - val_loss: 0.4895 - val_accuracy: 0.8075\n",
      "Epoch 25/100\n",
      "22/22 [==============================] - 1s 22ms/step - loss: 0.5480 - accuracy: 0.7599 - val_loss: 0.4763 - val_accuracy: 0.7914\n",
      "Epoch 26/100\n",
      "22/22 [==============================] - 0s 19ms/step - loss: 0.5817 - accuracy: 0.7088 - val_loss: 0.4941 - val_accuracy: 0.7968\n",
      "Epoch 27/100\n",
      "22/22 [==============================] - 0s 17ms/step - loss: 0.5756 - accuracy: 0.7259 - val_loss: 0.4935 - val_accuracy: 0.7807\n",
      "Epoch 28/100\n",
      "22/22 [==============================] - 0s 18ms/step - loss: 0.5753 - accuracy: 0.7259 - val_loss: 0.4810 - val_accuracy: 0.8128\n",
      "Epoch 29/100\n",
      "22/22 [==============================] - 0s 19ms/step - loss: 0.5562 - accuracy: 0.7330 - val_loss: 0.4705 - val_accuracy: 0.8235\n",
      "Epoch 30/100\n",
      "22/22 [==============================] - 0s 21ms/step - loss: 0.5245 - accuracy: 0.7685 - val_loss: 0.4708 - val_accuracy: 0.8021\n",
      "Epoch 31/100\n",
      "22/22 [==============================] - 0s 20ms/step - loss: 0.5469 - accuracy: 0.7443 - val_loss: 0.4746 - val_accuracy: 0.8021\n",
      "Epoch 32/100\n",
      "22/22 [==============================] - 0s 17ms/step - loss: 0.5262 - accuracy: 0.7685 - val_loss: 0.4693 - val_accuracy: 0.8289\n",
      "Epoch 33/100\n",
      "22/22 [==============================] - 0s 18ms/step - loss: 0.5535 - accuracy: 0.7571 - val_loss: 0.4996 - val_accuracy: 0.7754\n",
      "Epoch 34/100\n",
      "22/22 [==============================] - 0s 17ms/step - loss: 0.5638 - accuracy: 0.7429 - val_loss: 0.4723 - val_accuracy: 0.8182\n",
      "Epoch 35/100\n",
      "22/22 [==============================] - 0s 18ms/step - loss: 0.5534 - accuracy: 0.7486 - val_loss: 0.4814 - val_accuracy: 0.8021\n",
      "Epoch 36/100\n",
      "22/22 [==============================] - 0s 20ms/step - loss: 0.5444 - accuracy: 0.7486 - val_loss: 0.4666 - val_accuracy: 0.7968\n",
      "Epoch 37/100\n",
      "22/22 [==============================] - 0s 20ms/step - loss: 0.5392 - accuracy: 0.7415 - val_loss: 0.4690 - val_accuracy: 0.8182\n",
      "Epoch 38/100\n",
      "22/22 [==============================] - 0s 21ms/step - loss: 0.5472 - accuracy: 0.7457 - val_loss: 0.4328 - val_accuracy: 0.8396\n",
      "Epoch 39/100\n",
      "22/22 [==============================] - 0s 20ms/step - loss: 0.5474 - accuracy: 0.7486 - val_loss: 0.4560 - val_accuracy: 0.8289\n",
      "Epoch 40/100\n",
      "22/22 [==============================] - 0s 19ms/step - loss: 0.5550 - accuracy: 0.7330 - val_loss: 0.4922 - val_accuracy: 0.7807\n",
      "Epoch 41/100\n",
      "22/22 [==============================] - 0s 21ms/step - loss: 0.5389 - accuracy: 0.7415 - val_loss: 0.4373 - val_accuracy: 0.8128\n",
      "Epoch 42/100\n",
      "22/22 [==============================] - 0s 21ms/step - loss: 0.5434 - accuracy: 0.7415 - val_loss: 0.4869 - val_accuracy: 0.7754\n",
      "Epoch 43/100\n",
      "22/22 [==============================] - 0s 17ms/step - loss: 0.5259 - accuracy: 0.7528 - val_loss: 0.3830 - val_accuracy: 0.8717\n",
      "Epoch 44/100\n",
      "22/22 [==============================] - 0s 17ms/step - loss: 0.5460 - accuracy: 0.7571 - val_loss: 0.4697 - val_accuracy: 0.8182\n",
      "Epoch 45/100\n",
      "22/22 [==============================] - 0s 18ms/step - loss: 0.5222 - accuracy: 0.7642 - val_loss: 0.4292 - val_accuracy: 0.8182\n",
      "Epoch 46/100\n",
      "22/22 [==============================] - 0s 20ms/step - loss: 0.5651 - accuracy: 0.7244 - val_loss: 0.4490 - val_accuracy: 0.8289\n",
      "Epoch 47/100\n",
      "22/22 [==============================] - 0s 21ms/step - loss: 0.5336 - accuracy: 0.7642 - val_loss: 0.4432 - val_accuracy: 0.8128\n",
      "Epoch 48/100\n",
      "22/22 [==============================] - 0s 15ms/step - loss: 0.5328 - accuracy: 0.7500 - val_loss: 0.4759 - val_accuracy: 0.8075\n",
      "Epoch 49/100\n",
      "22/22 [==============================] - 0s 15ms/step - loss: 0.5114 - accuracy: 0.7585 - val_loss: 0.4313 - val_accuracy: 0.8342\n",
      "Epoch 50/100\n",
      "22/22 [==============================] - 0s 15ms/step - loss: 0.5296 - accuracy: 0.7713 - val_loss: 0.4215 - val_accuracy: 0.8503\n",
      "Epoch 51/100\n",
      "22/22 [==============================] - 0s 15ms/step - loss: 0.5212 - accuracy: 0.7841 - val_loss: 0.4896 - val_accuracy: 0.7807\n",
      "Epoch 52/100\n",
      "22/22 [==============================] - 0s 18ms/step - loss: 0.5266 - accuracy: 0.7472 - val_loss: 0.4167 - val_accuracy: 0.8289\n",
      "Epoch 53/100\n",
      "22/22 [==============================] - 0s 19ms/step - loss: 0.5268 - accuracy: 0.7514 - val_loss: 0.4667 - val_accuracy: 0.7914\n",
      "Epoch 54/100\n",
      "22/22 [==============================] - 0s 19ms/step - loss: 0.5254 - accuracy: 0.7741 - val_loss: 0.4582 - val_accuracy: 0.7861\n",
      "Epoch 55/100\n",
      "22/22 [==============================] - 0s 19ms/step - loss: 0.5188 - accuracy: 0.7614 - val_loss: 0.4506 - val_accuracy: 0.8128\n",
      "Epoch 56/100\n",
      "22/22 [==============================] - 0s 21ms/step - loss: 0.5178 - accuracy: 0.7642 - val_loss: 0.4239 - val_accuracy: 0.8235\n",
      "Epoch 57/100\n",
      "22/22 [==============================] - 0s 19ms/step - loss: 0.5353 - accuracy: 0.7528 - val_loss: 0.4851 - val_accuracy: 0.7754\n",
      "Epoch 58/100\n",
      "22/22 [==============================] - 0s 19ms/step - loss: 0.4816 - accuracy: 0.7798 - val_loss: 0.3854 - val_accuracy: 0.8717\n",
      "Epoch 59/100\n",
      "22/22 [==============================] - 0s 19ms/step - loss: 0.5259 - accuracy: 0.7486 - val_loss: 0.5087 - val_accuracy: 0.7594\n",
      "Epoch 60/100\n",
      "22/22 [==============================] - 0s 19ms/step - loss: 0.5500 - accuracy: 0.7273 - val_loss: 0.4298 - val_accuracy: 0.8235\n",
      "Epoch 61/100\n",
      "22/22 [==============================] - 0s 19ms/step - loss: 0.5310 - accuracy: 0.7543 - val_loss: 0.4541 - val_accuracy: 0.8182\n",
      "Epoch 62/100\n",
      "22/22 [==============================] - 0s 22ms/step - loss: 0.5178 - accuracy: 0.7486 - val_loss: 0.4804 - val_accuracy: 0.7807\n",
      "Epoch 63/100\n",
      "22/22 [==============================] - 0s 19ms/step - loss: 0.5374 - accuracy: 0.7656 - val_loss: 0.4532 - val_accuracy: 0.7968\n",
      "Epoch 64/100\n",
      "22/22 [==============================] - 0s 19ms/step - loss: 0.5560 - accuracy: 0.7443 - val_loss: 0.4306 - val_accuracy: 0.8235\n",
      "Epoch 65/100\n",
      "22/22 [==============================] - 0s 20ms/step - loss: 0.5477 - accuracy: 0.7557 - val_loss: 0.4220 - val_accuracy: 0.8342\n",
      "Epoch 66/100\n",
      "22/22 [==============================] - 0s 21ms/step - loss: 0.5175 - accuracy: 0.7614 - val_loss: 0.4402 - val_accuracy: 0.8021\n",
      "Epoch 67/100\n",
      "22/22 [==============================] - 0s 19ms/step - loss: 0.5543 - accuracy: 0.7614 - val_loss: 0.4571 - val_accuracy: 0.8021\n",
      "Epoch 68/100\n",
      "22/22 [==============================] - 0s 19ms/step - loss: 0.5274 - accuracy: 0.7528 - val_loss: 0.4457 - val_accuracy: 0.8182\n",
      "Epoch 69/100\n",
      "22/22 [==============================] - 0s 20ms/step - loss: 0.5474 - accuracy: 0.7500 - val_loss: 0.4421 - val_accuracy: 0.8235\n",
      "Epoch 70/100\n",
      "22/22 [==============================] - 0s 21ms/step - loss: 0.5479 - accuracy: 0.7543 - val_loss: 0.4770 - val_accuracy: 0.7861\n",
      "Epoch 71/100\n",
      "22/22 [==============================] - 0s 20ms/step - loss: 0.5340 - accuracy: 0.7557 - val_loss: 0.4294 - val_accuracy: 0.8182\n",
      "Epoch 72/100\n",
      "22/22 [==============================] - 0s 22ms/step - loss: 0.5408 - accuracy: 0.7514 - val_loss: 0.4770 - val_accuracy: 0.7807\n",
      "Epoch 73/100\n",
      "22/22 [==============================] - 0s 17ms/step - loss: 0.5229 - accuracy: 0.7557 - val_loss: 0.4355 - val_accuracy: 0.8075\n",
      "Epoch 74/100\n",
      "22/22 [==============================] - 0s 17ms/step - loss: 0.5252 - accuracy: 0.7656 - val_loss: 0.4950 - val_accuracy: 0.7861\n",
      "Epoch 75/100\n",
      "22/22 [==============================] - 0s 18ms/step - loss: 0.5068 - accuracy: 0.7642 - val_loss: 0.4461 - val_accuracy: 0.8021\n",
      "Epoch 76/100\n",
      "22/22 [==============================] - 0s 18ms/step - loss: 0.5604 - accuracy: 0.7429 - val_loss: 0.4222 - val_accuracy: 0.7968\n",
      "Epoch 77/100\n",
      "22/22 [==============================] - 1s 24ms/step - loss: 0.5395 - accuracy: 0.7401 - val_loss: 0.4260 - val_accuracy: 0.8396\n",
      "Epoch 78/100\n",
      "22/22 [==============================] - 0s 18ms/step - loss: 0.5224 - accuracy: 0.7628 - val_loss: 0.4234 - val_accuracy: 0.8396\n",
      "Epoch 79/100\n",
      "22/22 [==============================] - 0s 17ms/step - loss: 0.5131 - accuracy: 0.7585 - val_loss: 0.4238 - val_accuracy: 0.8342\n",
      "Epoch 80/100\n",
      "22/22 [==============================] - 0s 17ms/step - loss: 0.5535 - accuracy: 0.7656 - val_loss: 0.4277 - val_accuracy: 0.8289\n",
      "Epoch 81/100\n",
      "22/22 [==============================] - 0s 18ms/step - loss: 0.5322 - accuracy: 0.7557 - val_loss: 0.4897 - val_accuracy: 0.7647\n",
      "Epoch 82/100\n",
      "22/22 [==============================] - 1s 23ms/step - loss: 0.5269 - accuracy: 0.7514 - val_loss: 0.4354 - val_accuracy: 0.8235\n",
      "Epoch 83/100\n",
      "22/22 [==============================] - 0s 18ms/step - loss: 0.5244 - accuracy: 0.7699 - val_loss: 0.4099 - val_accuracy: 0.8396\n",
      "Epoch 84/100\n",
      "22/22 [==============================] - 0s 17ms/step - loss: 0.5363 - accuracy: 0.7685 - val_loss: 0.4583 - val_accuracy: 0.8182\n",
      "Epoch 85/100\n",
      "22/22 [==============================] - 0s 17ms/step - loss: 0.5718 - accuracy: 0.7315 - val_loss: 0.4555 - val_accuracy: 0.8021\n",
      "Epoch 86/100\n",
      "22/22 [==============================] - 0s 19ms/step - loss: 0.5407 - accuracy: 0.7415 - val_loss: 0.4722 - val_accuracy: 0.7914\n",
      "Epoch 87/100\n",
      "22/22 [==============================] - 0s 19ms/step - loss: 0.5175 - accuracy: 0.7656 - val_loss: 0.4411 - val_accuracy: 0.8128\n",
      "Epoch 88/100\n",
      "22/22 [==============================] - 0s 21ms/step - loss: 0.5081 - accuracy: 0.7685 - val_loss: 0.4416 - val_accuracy: 0.7861\n",
      "Epoch 89/100\n",
      "22/22 [==============================] - 1s 24ms/step - loss: 0.5546 - accuracy: 0.7443 - val_loss: 0.4357 - val_accuracy: 0.8182\n",
      "Epoch 90/100\n",
      "22/22 [==============================] - 0s 18ms/step - loss: 0.5547 - accuracy: 0.7358 - val_loss: 0.4442 - val_accuracy: 0.8235\n",
      "Epoch 91/100\n",
      "22/22 [==============================] - 1s 23ms/step - loss: 0.5273 - accuracy: 0.7344 - val_loss: 0.4523 - val_accuracy: 0.8021\n",
      "Epoch 92/100\n",
      "22/22 [==============================] - 0s 15ms/step - loss: 0.5197 - accuracy: 0.7699 - val_loss: 0.4603 - val_accuracy: 0.8182\n",
      "Epoch 93/100\n",
      "22/22 [==============================] - 0s 15ms/step - loss: 0.5510 - accuracy: 0.7401 - val_loss: 0.4567 - val_accuracy: 0.7914\n",
      "Epoch 94/100\n",
      "22/22 [==============================] - 0s 15ms/step - loss: 0.5463 - accuracy: 0.7259 - val_loss: 0.4783 - val_accuracy: 0.8128\n",
      "Epoch 95/100\n",
      "22/22 [==============================] - 0s 15ms/step - loss: 0.5222 - accuracy: 0.7500 - val_loss: 0.4600 - val_accuracy: 0.8235\n",
      "Epoch 96/100\n",
      "22/22 [==============================] - 0s 17ms/step - loss: 0.5513 - accuracy: 0.7571 - val_loss: 0.4272 - val_accuracy: 0.8235\n",
      "Epoch 97/100\n",
      "22/22 [==============================] - 0s 17ms/step - loss: 0.5130 - accuracy: 0.7557 - val_loss: 0.4833 - val_accuracy: 0.7914\n",
      "Epoch 98/100\n",
      "22/22 [==============================] - 0s 17ms/step - loss: 0.5301 - accuracy: 0.7685 - val_loss: 0.4508 - val_accuracy: 0.8075\n",
      "Epoch 99/100\n",
      "22/22 [==============================] - 0s 18ms/step - loss: 0.5215 - accuracy: 0.7713 - val_loss: 0.4564 - val_accuracy: 0.8182\n",
      "Epoch 100/100\n",
      "22/22 [==============================] - 0s 18ms/step - loss: 0.5325 - accuracy: 0.7472 - val_loss: 0.4497 - val_accuracy: 0.8235\n",
      "CPU times: user 52 s, sys: 19.6 s, total: 1min 11s\n",
      "Wall time: 50.6 s\n"
     ]
    },
    {
     "data": {
      "image/png": "[encoded data removed]",
      "text/plain": [
       "<Figure size 1000x1200 with 3 Axes>"
      ]
     },
     "metadata": {},
     "output_type": "display_data"
    }
   ],
   "source": [
    "model = tf.keras.models.Sequential([\n",
    "  tf.keras.layers.Dense(5),\n",
    "  tf.keras.layers.BatchNormalization(),\n",
    "  tf.keras.layers.Activation('relu'),\n",
    "  tf.keras.layers.Dropout(0.5),\n",
    "  tf.keras.layers.Dense(5),\n",
    "  tf.keras.layers.BatchNormalization(),\n",
    "  tf.keras.layers.Activation('relu'),\n",
    "  tf.keras.layers.Dropout(0.5),\n",
    "  tf.keras.layers.Dense(1, activation='sigmoid')\n",
    "])\n",
    "model.compile(optimizer=tf.keras.optimizers.Adam(learning_rate=0.01), loss='binary_crossentropy', metrics=['accuracy'])\n",
    "%time history = model.fit(training_data, epochs=100, validation_data=validation_data)\n",
    "visualization.graph_training_stats(history)"
   ]
  },
  {
   "attachments": {},
   "cell_type": "markdown",
   "id": "9b6d266e",
   "metadata": {},
   "source": [
    "## Error Analysis\n",
    "\n",
    "Before running this cell, you should run the following cells:\n",
    "\n",
    "- hyperparameters (the actual values don't matter)\n",
    "- loading data for real\n",
    "\n",
    "You should also set the checkpoint below.\n",
    "\n",
    "Two weird things I found out while trying to get this to work:\n",
    "\n",
    "- If you use any other load call other than tf.keras.models.load_model, all the keras stuff like model.fit is missing. See https://github.com/tensorflow/models/issues/8990#issuecomment-1069733488\n",
    "- Your checkpoint name cannot have [] in the name - that will cause it to parse wrong and claim the variables/variables folder doesn't exist even though you can plainly see it there.\n",
    "\n",
    "Observations from analyzing some checkpoints:\n",
    "\n",
    "- Logistic Regression\n",
    "  - True positives are almost entirely female and true negatives are almost entirely male while false negatives are almost entirely male and false positives are leaning female but not as hard leaning as the other 3 quadrants. Since my accuracy in the competition data ends up aligning closely with the gender guess results, my model may be overemphasizing the gender aspect.\n",
    "  - Origin doesn't look that different between the 4 quadrants - maybe it's not that important\n",
    "  - Fare Group also doesn't look that different between the 4 quadrants - maybe it's not that important\n",
    "  - Ideas to Improve:\n",
    "\n",
    "    - increase the complexity of the model\n",
    "    - drop fare group\n",
    "    - drop origin\n",
    "    - use full training+validation set since already small and noisy\n",
    "- Deeper Models\n",
    "  - Same overall characteristics described above\n"
   ]
  },
  {
   "cell_type": "code",
   "execution_count": 16,
   "id": "fdc2f87f",
   "metadata": {},
   "outputs": [
    {
     "name": "stdout",
     "output_type": "stream",
     "text": [
      "6/6 [==============================] - 0s 1ms/step\n",
      "[true_positives]\n",
      "Shape: (52, 10)\n",
      "\n",
      "-0.37138212\t1.0\t0.0\t0.41618142\t1.0\t0.0\t0.0\t0.0\t-0.009299424\t-0.32204872\t\n",
      "-0.37138212\t1.0\t0.0\t0.41618142\t0.0\t1.0\t0.0\t0.0\t-1.1928625\t-0.32204872\t\n",
      "-0.37138212\t1.0\t0.0\t-0.4586744\t0.0\t1.0\t0.0\t0.0\t-0.60108095\t-0.32204872\t\n",
      "-1.5693889\t1.0\t0.0\t1.2910372\t1.0\t0.0\t0.0\t0.0\t1.7660451\t0.8165074\t\n",
      "-1.5693889\t1.0\t0.0\t-0.4586744\t0.0\t1.0\t0.0\t0.0\t0.5824821\t1.9550635\t\n",
      "-1.5693889\t1.0\t0.0\t0.41618142\t1.0\t0.0\t0.0\t0.0\t1.7660451\t0.8165074\t\n",
      "-0.37138212\t1.0\t0.0\t0.41618142\t1.0\t0.0\t0.0\t0.0\t-0.009299424\t-0.32204872\t\n",
      "-1.5693889\t1.0\t0.0\t-0.4586744\t0.0\t1.0\t0.0\t0.0\t-1.1928625\t0.8165074\t\n",
      "0.8266247\t1.0\t0.0\t1.2910372\t0.0\t1.0\t0.0\t0.0\t-1.1928625\t-0.32204872\t\n",
      "-1.5693889\t1.0\t0.0\t-0.4586744\t0.0\t1.0\t0.0\t0.0\t1.7660451\t0.8165074\t\n",
      "-1.5693889\t1.0\t0.0\t-0.4586744\t1.0\t0.0\t0.0\t0.0\t0.5824821\t0.8165074\t\n",
      "-0.37138212\t1.0\t0.0\t-0.4586744\t1.0\t0.0\t0.0\t0.0\t-0.60108095\t-0.32204872\t\n",
      "-0.37138212\t1.0\t0.0\t0.41618142\t1.0\t0.0\t0.0\t0.0\t-1.1928625\t-0.32204872\t\n",
      "0.8266247\t1.0\t0.0\t-0.4586744\t1.0\t0.0\t0.0\t0.0\t-0.009299424\t-0.32204872\t\n",
      "-1.5693889\t1.0\t0.0\t0.41618142\t1.0\t0.0\t0.0\t0.0\t0.5824821\t1.9550635\t\n",
      "-1.5693889\t1.0\t0.0\t0.41618142\t1.0\t0.0\t0.0\t0.0\t0.5824821\t0.8165074\t\n",
      "-1.5693889\t1.0\t0.0\t-0.4586744\t0.0\t1.0\t0.0\t0.0\t0.5824821\t0.8165074\t\n",
      "-0.37138212\t1.0\t0.0\t0.41618142\t1.0\t0.0\t0.0\t0.0\t1.1742636\t0.8165074\t\n",
      "-0.37138212\t1.0\t0.0\t0.41618142\t1.0\t0.0\t0.0\t0.0\t0.5824821\t-0.32204872\t\n",
      "-1.5693889\t1.0\t0.0\t-0.4586744\t1.0\t0.0\t0.0\t0.0\t-0.009299424\t3.0936196\t\n",
      "-0.37138212\t1.0\t0.0\t0.41618142\t1.0\t0.0\t0.0\t0.0\t-1.1928625\t-0.32204872\t\n",
      "0.8266247\t1.0\t0.0\t-0.4586744\t0.0\t1.0\t0.0\t0.0\t-0.009299424\t-0.32204872\t\n",
      "-1.5693889\t1.0\t0.0\t0.41618142\t0.0\t1.0\t0.0\t0.0\t-0.60108095\t4.232176\t\n",
      "-1.5693889\t1.0\t0.0\t-0.4586744\t1.0\t0.0\t0.0\t0.0\t-0.60108095\t0.8165074\t\n",
      "-1.5693889\t1.0\t0.0\t-0.4586744\t1.0\t0.0\t0.0\t0.0\t-0.009299424\t0.8165074\t\n",
      "-0.37138212\t1.0\t0.0\t0.41618142\t1.0\t0.0\t0.0\t0.0\t1.1742636\t-0.32204872\t\n",
      "0.8266247\t1.0\t0.0\t-0.4586744\t0.0\t0.0\t1.0\t0.0\t-1.1928625\t-0.32204872\t\n",
      "-1.5693889\t1.0\t0.0\t-0.4586744\t0.0\t1.0\t0.0\t0.0\t0.5824821\t4.232176\t\n",
      "-1.5693889\t0.0\t1.0\t0.41618142\t0.0\t1.0\t0.0\t0.0\t-0.009299424\t0.8165074\t\n",
      "0.8266247\t1.0\t0.0\t-0.4586744\t0.0\t0.0\t1.0\t0.0\t-1.1928625\t-0.32204872\t\n",
      "-1.5693889\t1.0\t0.0\t0.41618142\t0.0\t1.0\t0.0\t0.0\t-1.1928625\t0.8165074\t\n",
      "-0.37138212\t1.0\t0.0\t-0.4586744\t1.0\t0.0\t0.0\t0.0\t0.5824821\t-0.32204872\t\n",
      "0.8266247\t1.0\t0.0\t0.41618142\t0.0\t1.0\t0.0\t0.0\t-0.60108095\t-0.32204872\t\n",
      "0.8266247\t1.0\t0.0\t-0.4586744\t1.0\t0.0\t0.0\t0.0\t-0.009299424\t-0.32204872\t\n",
      "-0.37138212\t1.0\t0.0\t-0.4586744\t1.0\t0.0\t0.0\t0.0\t-0.009299424\t-0.32204872\t\n",
      "0.8266247\t1.0\t0.0\t-0.4586744\t1.0\t0.0\t0.0\t0.0\t-0.009299424\t-0.32204872\t\n",
      "-0.37138212\t1.0\t0.0\t-0.4586744\t1.0\t0.0\t0.0\t0.0\t-0.60108095\t-0.32204872\t\n",
      "-0.37138212\t1.0\t0.0\t-0.4586744\t0.0\t0.0\t1.0\t0.0\t0.5824821\t-0.32204872\t\n",
      "-0.37138212\t1.0\t0.0\t-0.4586744\t0.0\t0.0\t1.0\t0.0\t-1.1928625\t-0.32204872\t\n",
      "-1.5693889\t1.0\t0.0\t-0.4586744\t1.0\t0.0\t0.0\t0.0\t1.1742636\t4.232176\t\n",
      "-0.37138212\t1.0\t0.0\t0.41618142\t0.0\t1.0\t0.0\t0.0\t-0.009299424\t-0.32204872\t\n",
      "-0.37138212\t1.0\t0.0\t-0.4586744\t1.0\t0.0\t0.0\t0.0\t0.5824821\t-0.32204872\t\n",
      "0.8266247\t1.0\t0.0\t1.2910372\t0.0\t1.0\t0.0\t0.0\t-1.1928625\t-0.32204872\t\n",
      "0.8266247\t1.0\t0.0\t-0.4586744\t0.0\t0.0\t1.0\t0.0\t-0.60108095\t-0.32204872\t\n",
      "0.8266247\t1.0\t0.0\t-0.4586744\t1.0\t0.0\t0.0\t0.0\t-0.009299424\t-0.32204872\t\n",
      "-1.5693889\t1.0\t0.0\t0.41618142\t0.0\t1.0\t0.0\t0.0\t0.5824821\t1.9550635\t\n",
      "0.8266247\t1.0\t0.0\t-0.4586744\t1.0\t0.0\t0.0\t0.0\t0.5824821\t-0.32204872\t\n",
      "-1.5693889\t1.0\t0.0\t-0.4586744\t0.0\t1.0\t0.0\t0.0\t1.7660451\t1.9550635\t\n",
      "0.8266247\t1.0\t0.0\t-0.4586744\t0.0\t0.0\t1.0\t0.0\t-1.1928625\t-0.32204872\t\n",
      "-1.5693889\t1.0\t0.0\t2.165893\t1.0\t0.0\t0.0\t0.0\t-0.009299424\t5.370732\t\n",
      "0.8266247\t1.0\t0.0\t-0.4586744\t1.0\t0.0\t0.0\t0.0\t-0.009299424\t-0.32204872\t\n",
      "-1.5693889\t1.0\t0.0\t0.41618142\t1.0\t0.0\t0.0\t0.0\t0.5824821\t0.8165074\t\n",
      "--------------------------\n",
      "\n",
      "[true_negatives]\n",
      "Shape: (93, 10)\n",
      "\n",
      "0.8266247\t1.0\t0.0\t0.41618142\t1.0\t0.0\t0.0\t0.0\t1.1742636\t-0.32204872\t\n",
      "0.8266247\t0.0\t1.0\t-0.4586744\t1.0\t0.0\t0.0\t0.0\t-0.60108095\t-0.32204872\t\n",
      "0.8266247\t0.0\t1.0\t-0.4586744\t1.0\t0.0\t0.0\t0.0\t-1.1928625\t-0.32204872\t\n",
      "0.8266247\t0.0\t1.0\t-0.4586744\t1.0\t0.0\t0.0\t0.0\t-0.009299424\t-0.32204872\t\n",
      "-0.37138212\t0.0\t1.0\t-0.4586744\t1.0\t0.0\t0.0\t0.0\t-0.60108095\t-0.32204872\t\n",
      "0.8266247\t0.0\t1.0\t2.165893\t1.0\t0.0\t0.0\t0.0\t-1.1928625\t-0.32204872\t\n",
      "0.8266247\t0.0\t1.0\t-0.4586744\t0.0\t1.0\t0.0\t0.0\t-1.1928625\t-0.32204872\t\n",
      "-0.37138212\t0.0\t1.0\t-0.4586744\t1.0\t0.0\t0.0\t0.0\t1.1742636\t-0.32204872\t\n",
      "-1.5693889\t0.0\t1.0\t0.41618142\t1.0\t0.0\t0.0\t0.0\t1.7660451\t0.8165074\t\n",
      "-0.37138212\t0.0\t1.0\t-0.4586744\t1.0\t0.0\t0.0\t0.0\t0.5824821\t-0.32204872\t\n",
      "-0.37138212\t0.0\t1.0\t-0.4586744\t1.0\t0.0\t0.0\t0.0\t0.5824821\t-0.32204872\t\n",
      "0.8266247\t0.0\t1.0\t0.41618142\t1.0\t0.0\t0.0\t0.0\t-0.60108095\t-0.32204872\t\n",
      "0.8266247\t0.0\t1.0\t-0.4586744\t1.0\t0.0\t0.0\t0.0\t-1.1928625\t-0.32204872\t\n",
      "0.8266247\t0.0\t1.0\t-0.4586744\t1.0\t0.0\t0.0\t0.0\t-1.1928625\t-0.32204872\t\n",
      "0.8266247\t0.0\t1.0\t-0.4586744\t1.0\t0.0\t0.0\t0.0\t-1.1928625\t-0.32204872\t\n",
      "-0.37138212\t0.0\t1.0\t0.41618142\t1.0\t0.0\t0.0\t0.0\t0.5824821\t-0.32204872\t\n",
      "0.8266247\t0.0\t1.0\t-0.4586744\t0.0\t0.0\t1.0\t0.0\t-1.1928625\t-0.32204872\t\n",
      "0.8266247\t0.0\t1.0\t-0.4586744\t1.0\t0.0\t0.0\t0.0\t0.5824821\t-0.32204872\t\n",
      "0.8266247\t0.0\t1.0\t-0.4586744\t1.0\t0.0\t0.0\t0.0\t-0.60108095\t-0.32204872\t\n",
      "0.8266247\t0.0\t1.0\t-0.4586744\t1.0\t0.0\t0.0\t0.0\t-1.1928625\t-0.32204872\t\n",
      "-1.5693889\t0.0\t1.0\t-0.4586744\t1.0\t0.0\t0.0\t0.0\t1.1742636\t-0.32204872\t\n",
      "-1.5693889\t0.0\t1.0\t-0.4586744\t1.0\t0.0\t0.0\t0.0\t-1.1928625\t-0.32204872\t\n",
      "-0.37138212\t0.0\t1.0\t0.41618142\t0.0\t1.0\t0.0\t0.0\t0.5824821\t-0.32204872\t\n",
      "-0.37138212\t0.0\t1.0\t0.41618142\t1.0\t0.0\t0.0\t0.0\t-0.009299424\t-0.32204872\t\n",
      "0.8266247\t0.0\t1.0\t-0.4586744\t0.0\t0.0\t1.0\t0.0\t-1.1928625\t-0.32204872\t\n",
      "0.8266247\t0.0\t1.0\t-0.4586744\t1.0\t0.0\t0.0\t0.0\t-1.1928625\t-0.32204872\t\n",
      "-1.5693889\t0.0\t1.0\t0.41618142\t1.0\t0.0\t0.0\t0.0\t-0.60108095\t0.8165074\t\n",
      "0.8266247\t0.0\t1.0\t6.540172\t1.0\t0.0\t0.0\t0.0\t-1.1928625\t0.8165074\t\n",
      "0.8266247\t0.0\t1.0\t-0.4586744\t1.0\t0.0\t0.0\t0.0\t-0.60108095\t-0.32204872\t\n",
      "0.8266247\t0.0\t1.0\t-0.4586744\t1.0\t0.0\t0.0\t0.0\t-1.1928625\t-0.32204872\t\n",
      "-0.37138212\t0.0\t1.0\t1.2910372\t1.0\t0.0\t0.0\t0.0\t-0.009299424\t0.8165074\t\n",
      "-1.5693889\t0.0\t1.0\t-0.4586744\t1.0\t0.0\t0.0\t0.0\t1.7660451\t0.8165074\t\n",
      "0.8266247\t0.0\t1.0\t-0.4586744\t1.0\t0.0\t0.0\t0.0\t-0.009299424\t-0.32204872\t\n",
      "0.8266247\t1.0\t0.0\t6.540172\t1.0\t0.0\t0.0\t0.0\t-1.1928625\t0.8165074\t\n",
      "-1.5693889\t0.0\t1.0\t-0.4586744\t1.0\t0.0\t0.0\t0.0\t1.1742636\t-0.32204872\t\n",
      "-0.37138212\t0.0\t1.0\t0.41618142\t0.0\t1.0\t0.0\t0.0\t-0.009299424\t-0.32204872\t\n",
      "-1.5693889\t0.0\t1.0\t0.41618142\t1.0\t0.0\t0.0\t0.0\t0.5824821\t0.8165074\t\n",
      "0.8266247\t0.0\t1.0\t-0.4586744\t1.0\t0.0\t0.0\t0.0\t-0.009299424\t-0.32204872\t\n",
      "0.8266247\t0.0\t1.0\t-0.4586744\t0.0\t0.0\t1.0\t0.0\t-1.1928625\t-0.32204872\t\n",
      "-0.37138212\t0.0\t1.0\t-0.4586744\t0.0\t1.0\t0.0\t0.0\t0.5824821\t-0.32204872\t\n",
      "0.8266247\t0.0\t1.0\t-0.4586744\t1.0\t0.0\t0.0\t0.0\t-0.009299424\t-0.32204872\t\n",
      "0.8266247\t0.0\t1.0\t-0.4586744\t1.0\t0.0\t0.0\t0.0\t-0.009299424\t-0.32204872\t\n",
      "0.8266247\t0.0\t1.0\t0.41618142\t1.0\t0.0\t0.0\t0.0\t0.5824821\t-0.32204872\t\n",
      "0.8266247\t0.0\t1.0\t2.165893\t1.0\t0.0\t0.0\t0.0\t-0.60108095\t-0.32204872\t\n",
      "0.8266247\t0.0\t1.0\t0.41618142\t1.0\t0.0\t0.0\t0.0\t-1.1928625\t-0.32204872\t\n",
      "0.8266247\t0.0\t1.0\t3.0407488\t1.0\t0.0\t0.0\t0.0\t-1.1928625\t-0.32204872\t\n",
      "0.8266247\t0.0\t1.0\t-0.4586744\t1.0\t0.0\t0.0\t0.0\t-1.1928625\t-0.32204872\t\n",
      "0.8266247\t0.0\t1.0\t-0.4586744\t1.0\t0.0\t0.0\t0.0\t-0.009299424\t-0.32204872\t\n",
      "0.8266247\t0.0\t1.0\t-0.4586744\t1.0\t0.0\t0.0\t0.0\t-0.009299424\t-0.32204872\t\n",
      "0.8266247\t0.0\t1.0\t-0.4586744\t1.0\t0.0\t0.0\t0.0\t0.5824821\t-0.32204872\t\n",
      "-1.5693889\t0.0\t1.0\t-0.4586744\t0.0\t1.0\t0.0\t0.0\t1.7660451\t-0.32204872\t\n",
      "0.8266247\t0.0\t1.0\t-0.4586744\t1.0\t0.0\t0.0\t0.0\t-0.009299424\t-0.32204872\t\n",
      "0.8266247\t0.0\t1.0\t-0.4586744\t1.0\t0.0\t0.0\t0.0\t-1.1928625\t-0.32204872\t\n",
      "0.8266247\t0.0\t1.0\t-0.4586744\t0.0\t0.0\t1.0\t0.0\t-0.60108095\t-0.32204872\t\n",
      "-0.37138212\t0.0\t1.0\t-0.4586744\t1.0\t0.0\t0.0\t0.0\t-0.60108095\t-0.32204872\t\n",
      "0.8266247\t0.0\t1.0\t-0.4586744\t1.0\t0.0\t0.0\t0.0\t-0.009299424\t-0.32204872\t\n",
      "0.8266247\t0.0\t1.0\t-0.4586744\t1.0\t0.0\t0.0\t0.0\t-0.009299424\t-0.32204872\t\n",
      "-0.37138212\t0.0\t1.0\t-0.4586744\t1.0\t0.0\t0.0\t0.0\t0.5824821\t-0.32204872\t\n",
      "0.8266247\t0.0\t1.0\t-0.4586744\t1.0\t0.0\t0.0\t0.0\t-1.1928625\t-0.32204872\t\n",
      "0.8266247\t0.0\t1.0\t-0.4586744\t0.0\t0.0\t1.0\t0.0\t0.5824821\t-0.32204872\t\n",
      "0.8266247\t0.0\t1.0\t-0.4586744\t0.0\t0.0\t1.0\t0.0\t-1.1928625\t-0.32204872\t\n",
      "0.8266247\t0.0\t1.0\t-0.4586744\t1.0\t0.0\t0.0\t0.0\t1.1742636\t-0.32204872\t\n",
      "-0.37138212\t0.0\t1.0\t-0.4586744\t1.0\t0.0\t0.0\t0.0\t1.1742636\t-0.32204872\t\n",
      "0.8266247\t0.0\t1.0\t-0.4586744\t1.0\t0.0\t0.0\t0.0\t0.5824821\t-0.32204872\t\n",
      "0.8266247\t0.0\t1.0\t-0.4586744\t1.0\t0.0\t0.0\t0.0\t1.1742636\t-0.32204872\t\n",
      "0.8266247\t0.0\t1.0\t-0.4586744\t1.0\t0.0\t0.0\t0.0\t-0.009299424\t-0.32204872\t\n",
      "-1.5693889\t0.0\t1.0\t-0.4586744\t1.0\t0.0\t0.0\t0.0\t1.1742636\t-0.32204872\t\n",
      "0.8266247\t0.0\t1.0\t3.0407488\t1.0\t0.0\t0.0\t0.0\t-0.60108095\t-0.32204872\t\n",
      "0.8266247\t1.0\t0.0\t0.41618142\t1.0\t0.0\t0.0\t0.0\t1.1742636\t-0.32204872\t\n",
      "-1.5693889\t0.0\t1.0\t-0.4586744\t0.0\t1.0\t0.0\t0.0\t0.5824821\t-0.32204872\t\n",
      "-1.5693889\t0.0\t1.0\t0.41618142\t1.0\t0.0\t0.0\t0.0\t0.5824821\t0.8165074\t\n",
      "0.8266247\t1.0\t0.0\t0.41618142\t1.0\t0.0\t0.0\t0.0\t1.1742636\t-0.32204872\t\n",
      "-1.5693889\t0.0\t1.0\t-0.4586744\t1.0\t0.0\t0.0\t0.0\t2.3578267\t-0.32204872\t\n",
      "-0.37138212\t0.0\t1.0\t0.41618142\t1.0\t0.0\t0.0\t0.0\t2.3578267\t-0.32204872\t\n",
      "-0.37138212\t0.0\t1.0\t-0.4586744\t1.0\t0.0\t0.0\t0.0\t0.5824821\t-0.32204872\t\n",
      "0.8266247\t0.0\t1.0\t-0.4586744\t0.0\t0.0\t1.0\t0.0\t-1.1928625\t-0.32204872\t\n",
      "-0.37138212\t0.0\t1.0\t-0.4586744\t1.0\t0.0\t0.0\t0.0\t0.5824821\t-0.32204872\t\n",
      "0.8266247\t0.0\t1.0\t-0.4586744\t1.0\t0.0\t0.0\t0.0\t-0.009299424\t-0.32204872\t\n",
      "-1.5693889\t0.0\t1.0\t-0.4586744\t1.0\t0.0\t0.0\t0.0\t1.1742636\t-0.32204872\t\n",
      "0.8266247\t0.0\t1.0\t-0.4586744\t1.0\t0.0\t0.0\t0.0\t-0.009299424\t-0.32204872\t\n",
      "0.8266247\t0.0\t1.0\t0.41618142\t0.0\t1.0\t0.0\t0.0\t-0.009299424\t-0.32204872\t\n",
      "-1.5693889\t0.0\t1.0\t-0.4586744\t1.0\t0.0\t0.0\t0.0\t1.7660451\t0.8165074\t\n",
      "0.8266247\t0.0\t1.0\t-0.4586744\t0.0\t1.0\t0.0\t0.0\t0.5824821\t-0.32204872\t\n",
      "0.8266247\t0.0\t1.0\t0.41618142\t1.0\t0.0\t0.0\t0.0\t-0.60108095\t-0.32204872\t\n",
      "0.8266247\t0.0\t1.0\t-0.4586744\t0.0\t1.0\t0.0\t0.0\t-1.1928625\t-0.32204872\t\n",
      "-0.37138212\t0.0\t1.0\t-0.4586744\t1.0\t0.0\t0.0\t0.0\t1.1742636\t-0.32204872\t\n",
      "0.8266247\t0.0\t1.0\t-0.4586744\t1.0\t0.0\t0.0\t0.0\t-0.009299424\t-0.32204872\t\n",
      "-0.37138212\t0.0\t1.0\t-0.4586744\t1.0\t0.0\t0.0\t0.0\t0.5824821\t-0.32204872\t\n",
      "0.8266247\t0.0\t1.0\t-0.4586744\t1.0\t0.0\t0.0\t0.0\t-1.1928625\t-0.32204872\t\n",
      "0.8266247\t0.0\t1.0\t3.0407488\t1.0\t0.0\t0.0\t0.0\t-1.1928625\t-0.32204872\t\n",
      "0.8266247\t0.0\t1.0\t-0.4586744\t0.0\t1.0\t0.0\t0.0\t-1.1928625\t-0.32204872\t\n",
      "-0.37138212\t0.0\t1.0\t-0.4586744\t1.0\t0.0\t0.0\t0.0\t0.5824821\t-0.32204872\t\n",
      "0.8266247\t0.0\t1.0\t-0.4586744\t1.0\t0.0\t0.0\t0.0\t-0.009299424\t-0.32204872\t\n",
      "--------------------------\n",
      "\n",
      "[false_positives]\n",
      "Shape: (17, 10)\n",
      "\n",
      "0.8266247\t1.0\t0.0\t-0.4586744\t0.0\t0.0\t1.0\t0.0\t-1.1928625\t-0.32204872\t\n",
      "0.8266247\t1.0\t0.0\t-0.4586744\t1.0\t0.0\t0.0\t0.0\t-1.1928625\t-0.32204872\t\n",
      "-1.5693889\t0.0\t1.0\t-0.4586744\t0.0\t1.0\t0.0\t0.0\t-1.1928625\t-0.32204872\t\n",
      "-1.5693889\t0.0\t1.0\t-0.4586744\t1.0\t0.0\t0.0\t0.0\t-1.1928625\t0.8165074\t\n",
      "0.8266247\t1.0\t0.0\t-0.4586744\t1.0\t0.0\t0.0\t0.0\t-0.60108095\t-0.32204872\t\n",
      "0.8266247\t1.0\t0.0\t-0.4586744\t1.0\t0.0\t0.0\t0.0\t0.5824821\t-0.32204872\t\n",
      "0.8266247\t1.0\t0.0\t2.165893\t1.0\t0.0\t0.0\t0.0\t-1.1928625\t-0.32204872\t\n",
      "-1.5693889\t0.0\t1.0\t0.41618142\t0.0\t1.0\t0.0\t0.0\t-0.009299424\t0.8165074\t\n",
      "0.8266247\t1.0\t0.0\t-0.4586744\t1.0\t0.0\t0.0\t0.0\t0.5824821\t-0.32204872\t\n",
      "0.8266247\t1.0\t0.0\t-0.4586744\t0.0\t0.0\t1.0\t0.0\t-1.1928625\t-0.32204872\t\n",
      "-0.37138212\t1.0\t0.0\t-0.4586744\t1.0\t0.0\t0.0\t0.0\t0.5824821\t-0.32204872\t\n",
      "0.8266247\t1.0\t0.0\t0.41618142\t1.0\t0.0\t0.0\t0.0\t-0.009299424\t-0.32204872\t\n",
      "-1.5693889\t0.0\t1.0\t-0.4586744\t0.0\t1.0\t0.0\t0.0\t-0.009299424\t4.232176\t\n",
      "-1.5693889\t0.0\t1.0\t-0.4586744\t0.0\t1.0\t0.0\t0.0\t-1.1928625\t4.232176\t\n",
      "0.8266247\t1.0\t0.0\t-0.4586744\t1.0\t0.0\t0.0\t0.0\t-0.009299424\t-0.32204872\t\n",
      "0.8266247\t1.0\t0.0\t-0.4586744\t1.0\t0.0\t0.0\t0.0\t-0.009299424\t-0.32204872\t\n",
      "0.8266247\t1.0\t0.0\t0.41618142\t1.0\t0.0\t0.0\t0.0\t-0.009299424\t-0.32204872\t\n",
      "--------------------------\n",
      "\n",
      "[false_negatives]\n",
      "Shape: (25, 10)\n",
      "\n",
      "-0.37138212\t0.0\t1.0\t-0.4586744\t1.0\t0.0\t0.0\t0.0\t2.3578267\t-0.32204872\t\n",
      "-1.5693889\t0.0\t1.0\t-0.4586744\t1.0\t0.0\t0.0\t0.0\t-0.009299424\t-0.32204872\t\n",
      "-0.37138212\t0.0\t1.0\t0.41618142\t1.0\t0.0\t0.0\t0.0\t-1.1928625\t-0.32204872\t\n",
      "-1.5693889\t0.0\t1.0\t-0.4586744\t1.0\t0.0\t0.0\t0.0\t0.5824821\t-0.32204872\t\n",
      "-1.5693889\t0.0\t1.0\t-0.4586744\t1.0\t0.0\t0.0\t0.0\t-1.1928625\t-0.32204872\t\n",
      "0.8266247\t0.0\t1.0\t-0.4586744\t0.0\t1.0\t0.0\t0.0\t-0.009299424\t-0.32204872\t\n",
      "0.8266247\t0.0\t1.0\t-0.4586744\t1.0\t0.0\t0.0\t0.0\t-1.1928625\t-0.32204872\t\n",
      "-0.37138212\t0.0\t1.0\t0.41618142\t1.0\t0.0\t0.0\t0.0\t-1.1928625\t-0.32204872\t\n",
      "0.8266247\t1.0\t0.0\t3.0407488\t1.0\t0.0\t0.0\t0.0\t-1.1928625\t-0.32204872\t\n",
      "0.8266247\t0.0\t1.0\t-0.4586744\t1.0\t0.0\t0.0\t0.0\t-1.1928625\t0.8165074\t\n",
      "0.8266247\t0.0\t1.0\t-0.4586744\t1.0\t0.0\t0.0\t0.0\t-0.009299424\t0.8165074\t\n",
      "0.8266247\t0.0\t1.0\t-0.4586744\t1.0\t0.0\t0.0\t0.0\t0.5824821\t0.8165074\t\n",
      "0.8266247\t0.0\t1.0\t-0.4586744\t1.0\t0.0\t0.0\t0.0\t0.5824821\t-0.32204872\t\n",
      "-1.5693889\t0.0\t1.0\t-0.4586744\t1.0\t0.0\t0.0\t0.0\t3.5413897\t-0.32204872\t\n",
      "0.8266247\t0.0\t1.0\t-0.4586744\t0.0\t1.0\t0.0\t0.0\t-0.009299424\t-0.32204872\t\n",
      "-1.5693889\t0.0\t1.0\t-0.4586744\t1.0\t0.0\t0.0\t0.0\t-0.009299424\t-0.32204872\t\n",
      "0.8266247\t0.0\t1.0\t-0.4586744\t1.0\t0.0\t0.0\t0.0\t-0.009299424\t-0.32204872\t\n",
      "-1.5693889\t0.0\t1.0\t-0.4586744\t0.0\t1.0\t0.0\t0.0\t1.7660451\t-0.32204872\t\n",
      "-1.5693889\t0.0\t1.0\t-0.4586744\t1.0\t0.0\t0.0\t0.0\t0.5824821\t-0.32204872\t\n",
      "0.8266247\t0.0\t1.0\t-0.4586744\t1.0\t0.0\t0.0\t0.0\t-0.60108095\t-0.32204872\t\n",
      "-0.37138212\t0.0\t1.0\t0.41618142\t1.0\t0.0\t0.0\t0.0\t-1.1928625\t-0.32204872\t\n",
      "-0.37138212\t0.0\t1.0\t-0.4586744\t0.0\t1.0\t0.0\t0.0\t-1.1928625\t-0.32204872\t\n",
      "-0.37138212\t0.0\t1.0\t0.41618142\t1.0\t0.0\t0.0\t0.0\t0.5824821\t-0.32204872\t\n",
      "0.8266247\t0.0\t1.0\t-0.4586744\t1.0\t0.0\t0.0\t0.0\t0.5824821\t0.8165074\t\n",
      "-1.5693889\t0.0\t1.0\t-0.4586744\t1.0\t0.0\t0.0\t0.0\t1.1742636\t-0.32204872\t\n",
      "--------------------------\n",
      "\n"
     ]
    }
   ],
   "source": [
    "CHECKPOINT_TO_ANALYZE = '1_0.001_120_32_'\n",
    "\n",
    "model = tf.keras.models.load_model(\n",
    "    os.path.join(MODEL_FOLDER, CHECKPOINT_TO_ANALYZE))\n",
    "\n",
    "# If you didn't want to load the whole dataset into memory, you could do this in batches with model.predict_on_batch.\n",
    "validation_input_tensor, validation_label_tensor = datasets.collect_tensors(\n",
    "    validation_data)\n",
    "validation_output_tensor = tf.cast(\n",
    "    model.predict(validation_input_tensor) >= 0.5, tf.int32)\n",
    "\n",
    "error_analysis_matrices = error_analysis.compute_error_analysis_matrices(\n",
    "    validation_input_tensor, validation_label_tensor, validation_output_tensor)\n",
    "error_analysis.print_error_analysis_matrices(error_analysis_matrices)"
   ]
  },
  {
   "attachments": {},
   "cell_type": "markdown",
   "id": "5e2e06e4",
   "metadata": {},
   "source": [
    "## Model Selection\n",
    "\n",
    "After trying dropping Origin and/or Fare Group, I found that the performance did not improve, and the convergence was about the same. In some cases the performance went down slightly. Therefore, I'm going to stick with using the full set of columns.\n",
    "\n",
    "I originally selected logistic regression, but after redoing error analysis and trying deeper models, I have revised my checkpoint selection to **100,100,100,100,100,100,100,100,100,100,100,100,100,100,1*5e-05_70_64***. I will also try **100,100,100,100,100,100,100,100,100,100,100,100,100,100,1_5e-05_70_64_no_validation_set** which is the same architecture but using the whole training set instead of an 80/20 split.\n"
   ]
  },
  {
   "attachments": {},
   "cell_type": "markdown",
   "id": "d6190c0b",
   "metadata": {},
   "source": [
    "# Test Data\n",
    "\n",
    "I put the final output code in a helper function - it will write to my output path (hardcoded in that file). The basic idea is that it will load the base dataset from the test data csv file and then create two parallel datasets, with shuffling off so that the order is consistent between the two. One dataset contains the passenger IDs and the other contains the input data to the model.\n",
    "\n",
    "We run the predictions and output to the CSV in batches, which is not necessary for this small dataset, but I wanted to get my infrastructure in place to do that on bigger datasets.\n",
    "\n",
    "Sometimes I get a warning about retracing - it's most likely because my checkpoints above don't have input layers. I will fix this in my library code going forward but will not redo the models here because I saved a bunch of checkpoints already.\n"
   ]
  },
  {
   "cell_type": "code",
   "execution_count": 118,
   "id": "601df1dc",
   "metadata": {},
   "outputs": [
    {
     "name": "stderr",
     "output_type": "stream",
     "text": [
      "2023-05-18 23:48:39.409700: I tensorflow/core/common_runtime/executor.cc:1197] [/device:CPU:0] (DEBUG INFO) Executor start aborting (this does not indicate an error and you can ignore this message): INVALID_ARGUMENT: You must feed a value for placeholder tensor 'Placeholder/_9' with dtype string and shape [1]\n",
      "\t [[{{node Placeholder/_9}}]]\n",
      "2023-05-18 23:48:39.410188: I tensorflow/core/common_runtime/executor.cc:1197] [/device:CPU:0] (DEBUG INFO) Executor start aborting (this does not indicate an error and you can ignore this message): INVALID_ARGUMENT: You must feed a value for placeholder tensor 'Placeholder/_12' with dtype string and shape [1]\n",
      "\t [[{{node Placeholder/_12}}]]\n",
      "2023-05-18 23:48:39.443716: I tensorflow/core/common_runtime/executor.cc:1197] [/device:CPU:0] (DEBUG INFO) Executor start aborting (this does not indicate an error and you can ignore this message): INVALID_ARGUMENT: You must feed a value for placeholder tensor 'Placeholder/_9' with dtype string and shape [1]\n",
      "\t [[{{node Placeholder/_9}}]]\n",
      "2023-05-18 23:48:39.444196: I tensorflow/core/common_runtime/executor.cc:1197] [/device:CPU:0] (DEBUG INFO) Executor start aborting (this does not indicate an error and you can ignore this message): INVALID_ARGUMENT: You must feed a value for placeholder tensor 'Placeholder/_10' with dtype float and shape [1]\n",
      "\t [[{{node Placeholder/_10}}]]\n",
      "2023-05-18 23:48:39.518723: I tensorflow/core/common_runtime/executor.cc:1197] [/device:CPU:0] (DEBUG INFO) Executor start aborting (this does not indicate an error and you can ignore this message): INVALID_ARGUMENT: You must feed a value for placeholder tensor 'Placeholder/_0' with dtype float and shape [100,10]\n",
      "\t [[{{node Placeholder/_0}}]]\n",
      "2023-05-18 23:48:39.605547: I tensorflow/core/common_runtime/executor.cc:1197] [/device:CPU:0] (DEBUG INFO) Executor start aborting (this does not indicate an error and you can ignore this message): INVALID_ARGUMENT: You must feed a value for placeholder tensor 'Placeholder/_0' with dtype float and shape [100,10]\n",
      "\t [[{{node Placeholder/_0}}]]\n"
     ]
    },
    {
     "name": "stdout",
     "output_type": "stream",
     "text": [
      "WARNING:tensorflow:5 out of the last 16 calls to <function Model.make_predict_function.<locals>.predict_function at 0x7fc2184274c0> triggered tf.function retracing. Tracing is expensive and the excessive number of tracings could be due to (1) creating @tf.function repeatedly in a loop, (2) passing tensors with different shapes, (3) passing Python objects instead of tensors. For (1), please define your @tf.function outside of the loop. For (2), @tf.function has reduce_retracing=True option that can avoid unnecessary retracing. For (3), please refer to https://www.tensorflow.org/guide/function#controlling_retracing and https://www.tensorflow.org/api_docs/python/tf/function for  more details.\n"
     ]
    },
    {
     "name": "stderr",
     "output_type": "stream",
     "text": [
      "2023-05-18 23:48:39.625973: I tensorflow/core/common_runtime/executor.cc:1197] [/device:CPU:0] (DEBUG INFO) Executor start aborting (this does not indicate an error and you can ignore this message): INVALID_ARGUMENT: You must feed a value for placeholder tensor 'Placeholder/_0' with dtype float and shape [100,10]\n",
      "\t [[{{node Placeholder/_0}}]]\n",
      "2023-05-18 23:48:39.693702: I tensorflow/core/common_runtime/executor.cc:1197] [/device:CPU:0] (DEBUG INFO) Executor start aborting (this does not indicate an error and you can ignore this message): INVALID_ARGUMENT: You must feed a value for placeholder tensor 'Placeholder/_0' with dtype float and shape [100,10]\n",
      "\t [[{{node Placeholder/_0}}]]\n",
      "2023-05-18 23:48:39.713035: I tensorflow/core/common_runtime/executor.cc:1197] [/device:CPU:0] (DEBUG INFO) Executor start aborting (this does not indicate an error and you can ignore this message): INVALID_ARGUMENT: You must feed a value for placeholder tensor 'Placeholder/_0' with dtype float and shape [18,10]\n",
      "\t [[{{node Placeholder/_0}}]]\n",
      "WARNING:tensorflow:5 out of the last 16 calls to <function Model.make_predict_function.<locals>.predict_function at 0x7fc2184274c0> triggered tf.function retracing. Tracing is expensive and the excessive number of tracings could be due to (1) creating @tf.function repeatedly in a loop, (2) passing tensors with different shapes, (3) passing Python objects instead of tensors. For (1), please define your @tf.function outside of the loop. For (2), @tf.function has reduce_retracing=True option that can avoid unnecessary retracing. For (3), please refer to https://www.tensorflow.org/guide/function#controlling_retracing and https://www.tensorflow.org/api_docs/python/tf/function for  more details.\n"
     ]
    }
   ],
   "source": [
    "CHECKPOINT_FOR_FINAL_TEST = '100,100,100,100,100,100,100,100,100,100,100,100,100,100,1_5e-05_70_64_no_validation_set'\n",
    "\n",
    "passenger_ids, test_data = preprocessing.prepare_test_data_for_model()\n",
    "model = tf.keras.models.load_model(\n",
    "    os.path.join(MODEL_FOLDER, CHECKPOINT_FOR_FINAL_TEST))\n",
    "\n",
    "preprocessing.test_model_and_create_csv(model, passenger_ids, test_data)"
   ]
  },
  {
   "attachments": {},
   "cell_type": "markdown",
   "id": "a3dff3f4",
   "metadata": {},
   "source": [
    "## Final Results\n",
    "\n",
    "I submitted my chosen checkpoint above and got only 75.8%, a pretty dissapointing result. This put me at position 13,593 on the leaderboard - ouch!\n",
    "\n",
    "I tried again with the checkpoint [5,5,1] w/ no origin or fare and got 76.3%, a leaderboard position of 13,103.\n",
    "\n",
    "I tried again with [5,1,1] w/ all columns and got 75.6%.\n",
    "\n",
    "I tried again with a 15-layer (100 units in the first 14 layers) network. With the 80/20 training/val split, I got 73.2%. With 100% training data, I got 73.4%. I was most dissapointed with this result since the training and validation accuracies were much higher for these models than for the one that did the best for me (76.3%).\n",
    "\n",
    "Overall, it seems my models did not generalize well at all, even while using a cross-validation set to prevent that. Maybe the dataset is so small that I should not have used a validation set and trained on the whole thing instead. I feel that at this point no analysis on the training and validation data will help me on the test data - if I keep trying I'd just be trying random things on the test data to see what happens.\n",
    "\n",
    "The gender-only example submission achieves 76.6%, so I did worse than that.\n",
    "\n",
    "Most of the best submissions are tree-based, but there is a very good neural netowrk based one that has a lot of layers and some cleverly engineered features such as checking if someone's last name is a last name that tended to survive in the training set.\n",
    "\n",
    "If I was doing this for a professional purpose, my next step would be to try a tree-based approach or naive bayes. However, I'd like to see how I do on bigger datasets instead of continuing to try to break my ceiling. I will read other peoples' submissions, tips, and discussion as a postmortem.\n"
   ]
  },
  {
   "cell_type": "code",
   "execution_count": null,
   "id": "90cf62ba",
   "metadata": {},
   "outputs": [],
   "source": []
  }
 ],
 "metadata": {
  "kernelspec": {
   "display_name": "Python 3 (ipykernel)",
   "language": "python",
   "name": "python3"
  },
  "language_info": {
   "codemirror_mode": {
    "name": "ipython",
    "version": 3
   },
   "file_extension": ".py",
   "mimetype": "text/x-python",
   "name": "python",
   "nbconvert_exporter": "python",
   "pygments_lexer": "ipython3",
   "version": "3.11.3"
  }
 },
 "nbformat": 4,
 "nbformat_minor": 5
}
