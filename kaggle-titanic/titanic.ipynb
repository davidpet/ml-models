{
 "cells": [
  {
   "cell_type": "code",
   "execution_count": 3,
   "id": "26a04282",
   "metadata": {},
   "outputs": [],
   "source": [
    "import pandas as pd\n",
    "import matplotlib.pyplot as plt\n",
    "import math\n",
    "import tensorflow as tf\n",
    "import numpy as np\n",
    "import os\n",
    "import importlib\n",
    "import sys\n",
    "\n",
    "import common.checks as checks\n",
    "import common.visualization as visualization\n",
    "import common.datasets as datasets\n",
    "import common.models as models\n",
    "import common.error_analysis as error_analysis\n",
    "\n",
    "import preprocessing"
   ]
  },
  {
   "cell_type": "code",
   "execution_count": 43,
   "id": "1c8f8e2d",
   "metadata": {},
   "outputs": [
    {
     "data": {
      "text/plain": [
       "<module 'preprocessing' from '/mnt/d/LinuxHome/repos/ml-models/kaggle-titanic/preprocessing.py'>"
      ]
     },
     "execution_count": 43,
     "metadata": {},
     "output_type": "execute_result"
    }
   ],
   "source": [
    "importlib.reload(checks)\n",
    "importlib.reload(visualization)\n",
    "importlib.reload(datasets)\n",
    "importlib.reload(models)\n",
    "importlib.reload(error_analysis)\n",
    "\n",
    "importlib.reload(preprocessing)"
   ]
  },
  {
   "cell_type": "markdown",
   "id": "da0e8e65",
   "metadata": {},
   "source": [
    "## Machine-Specific Configuration\n",
    "The defaults are meant for my Windows WSL machine where I store datasets on my P drive and do not commit model checkpoints to GitHub."
   ]
  },
  {
   "cell_type": "code",
   "execution_count": 5,
   "id": "9fdd6df8",
   "metadata": {},
   "outputs": [],
   "source": [
    "INPUT_FOLDER = '/mnt/p/Datasets/titanic'  # This will be different on kaggle\n",
    "\n",
    "TRAINING_DATA = os.path.join(INPUT_FOLDER, 'train.csv')\n",
    "TEST_DATA = os.path.join(INPUT_FOLDER, 'test.csv')\n",
    "\n",
    "MODEL_FOLDER = '/mnt/p/Models/kaggle-titanic'"
   ]
  },
  {
   "cell_type": "markdown",
   "id": "708d7452",
   "metadata": {},
   "source": [
    "## Sanity Checks\n",
    "\n",
    "If any of these fail, you need to manually copy the files or fix a path above."
   ]
  },
  {
   "cell_type": "code",
   "execution_count": 6,
   "id": "c472340a",
   "metadata": {},
   "outputs": [
    {
     "name": "stdout",
     "output_type": "stream",
     "text": [
      "\u001b[2m\u001b[34mTraining file exists\u001b[0m: \u001b[32mPass\u001b[0m\n",
      "\u001b[2m\u001b[34mTest file exists\u001b[0m: \u001b[32mPass\u001b[0m\n"
     ]
    }
   ],
   "source": [
    "checks.check_condition(os.path.exists(TRAINING_DATA), 'Training file exists')\n",
    "checks.check_condition(os.path.exists(TEST_DATA), 'Test file exists')"
   ]
  },
  {
   "cell_type": "markdown",
   "id": "902f4e1c",
   "metadata": {},
   "source": [
    "# Data Analysis"
   ]
  },
  {
   "cell_type": "markdown",
   "id": "f2dfaf78",
   "metadata": {},
   "source": [
    "## Load Data"
   ]
  },
  {
   "cell_type": "code",
   "execution_count": 7,
   "id": "f9e6f015",
   "metadata": {},
   "outputs": [],
   "source": [
    "full_df = pd.read_csv(TRAINING_DATA, index_col=\"PassengerId\")"
   ]
  },
  {
   "cell_type": "markdown",
   "id": "6381e4f1",
   "metadata": {},
   "source": [
    "## Examine Data"
   ]
  },
  {
   "cell_type": "code",
   "execution_count": 8,
   "id": "09e0754b",
   "metadata": {},
   "outputs": [
    {
     "data": {
      "text/html": [
       "<div>\n",
       "<style scoped>\n",
       "    .dataframe tbody tr th:only-of-type {\n",
       "        vertical-align: middle;\n",
       "    }\n",
       "\n",
       "    .dataframe tbody tr th {\n",
       "        vertical-align: top;\n",
       "    }\n",
       "\n",
       "    .dataframe thead th {\n",
       "        text-align: right;\n",
       "    }\n",
       "</style>\n",
       "<table border=\"1\" class=\"dataframe\">\n",
       "  <thead>\n",
       "    <tr style=\"text-align: right;\">\n",
       "      <th></th>\n",
       "      <th>Survived</th>\n",
       "      <th>Pclass</th>\n",
       "      <th>Name</th>\n",
       "      <th>Sex</th>\n",
       "      <th>Age</th>\n",
       "      <th>SibSp</th>\n",
       "      <th>Parch</th>\n",
       "      <th>Ticket</th>\n",
       "      <th>Fare</th>\n",
       "      <th>Cabin</th>\n",
       "      <th>Embarked</th>\n",
       "    </tr>\n",
       "    <tr>\n",
       "      <th>PassengerId</th>\n",
       "      <th></th>\n",
       "      <th></th>\n",
       "      <th></th>\n",
       "      <th></th>\n",
       "      <th></th>\n",
       "      <th></th>\n",
       "      <th></th>\n",
       "      <th></th>\n",
       "      <th></th>\n",
       "      <th></th>\n",
       "      <th></th>\n",
       "    </tr>\n",
       "  </thead>\n",
       "  <tbody>\n",
       "    <tr>\n",
       "      <th>1</th>\n",
       "      <td>0</td>\n",
       "      <td>3</td>\n",
       "      <td>Braund, Mr. Owen Harris</td>\n",
       "      <td>male</td>\n",
       "      <td>22.0</td>\n",
       "      <td>1</td>\n",
       "      <td>0</td>\n",
       "      <td>A/5 21171</td>\n",
       "      <td>7.2500</td>\n",
       "      <td>NaN</td>\n",
       "      <td>S</td>\n",
       "    </tr>\n",
       "    <tr>\n",
       "      <th>2</th>\n",
       "      <td>1</td>\n",
       "      <td>1</td>\n",
       "      <td>Cumings, Mrs. John Bradley (Florence Briggs Th...</td>\n",
       "      <td>female</td>\n",
       "      <td>38.0</td>\n",
       "      <td>1</td>\n",
       "      <td>0</td>\n",
       "      <td>PC 17599</td>\n",
       "      <td>71.2833</td>\n",
       "      <td>C85</td>\n",
       "      <td>C</td>\n",
       "    </tr>\n",
       "    <tr>\n",
       "      <th>3</th>\n",
       "      <td>1</td>\n",
       "      <td>3</td>\n",
       "      <td>Heikkinen, Miss. Laina</td>\n",
       "      <td>female</td>\n",
       "      <td>26.0</td>\n",
       "      <td>0</td>\n",
       "      <td>0</td>\n",
       "      <td>STON/O2. 3101282</td>\n",
       "      <td>7.9250</td>\n",
       "      <td>NaN</td>\n",
       "      <td>S</td>\n",
       "    </tr>\n",
       "    <tr>\n",
       "      <th>4</th>\n",
       "      <td>1</td>\n",
       "      <td>1</td>\n",
       "      <td>Futrelle, Mrs. Jacques Heath (Lily May Peel)</td>\n",
       "      <td>female</td>\n",
       "      <td>35.0</td>\n",
       "      <td>1</td>\n",
       "      <td>0</td>\n",
       "      <td>113803</td>\n",
       "      <td>53.1000</td>\n",
       "      <td>C123</td>\n",
       "      <td>S</td>\n",
       "    </tr>\n",
       "    <tr>\n",
       "      <th>5</th>\n",
       "      <td>0</td>\n",
       "      <td>3</td>\n",
       "      <td>Allen, Mr. William Henry</td>\n",
       "      <td>male</td>\n",
       "      <td>35.0</td>\n",
       "      <td>0</td>\n",
       "      <td>0</td>\n",
       "      <td>373450</td>\n",
       "      <td>8.0500</td>\n",
       "      <td>NaN</td>\n",
       "      <td>S</td>\n",
       "    </tr>\n",
       "    <tr>\n",
       "      <th>...</th>\n",
       "      <td>...</td>\n",
       "      <td>...</td>\n",
       "      <td>...</td>\n",
       "      <td>...</td>\n",
       "      <td>...</td>\n",
       "      <td>...</td>\n",
       "      <td>...</td>\n",
       "      <td>...</td>\n",
       "      <td>...</td>\n",
       "      <td>...</td>\n",
       "      <td>...</td>\n",
       "    </tr>\n",
       "    <tr>\n",
       "      <th>887</th>\n",
       "      <td>0</td>\n",
       "      <td>2</td>\n",
       "      <td>Montvila, Rev. Juozas</td>\n",
       "      <td>male</td>\n",
       "      <td>27.0</td>\n",
       "      <td>0</td>\n",
       "      <td>0</td>\n",
       "      <td>211536</td>\n",
       "      <td>13.0000</td>\n",
       "      <td>NaN</td>\n",
       "      <td>S</td>\n",
       "    </tr>\n",
       "    <tr>\n",
       "      <th>888</th>\n",
       "      <td>1</td>\n",
       "      <td>1</td>\n",
       "      <td>Graham, Miss. Margaret Edith</td>\n",
       "      <td>female</td>\n",
       "      <td>19.0</td>\n",
       "      <td>0</td>\n",
       "      <td>0</td>\n",
       "      <td>112053</td>\n",
       "      <td>30.0000</td>\n",
       "      <td>B42</td>\n",
       "      <td>S</td>\n",
       "    </tr>\n",
       "    <tr>\n",
       "      <th>889</th>\n",
       "      <td>0</td>\n",
       "      <td>3</td>\n",
       "      <td>Johnston, Miss. Catherine Helen \"Carrie\"</td>\n",
       "      <td>female</td>\n",
       "      <td>NaN</td>\n",
       "      <td>1</td>\n",
       "      <td>2</td>\n",
       "      <td>W./C. 6607</td>\n",
       "      <td>23.4500</td>\n",
       "      <td>NaN</td>\n",
       "      <td>S</td>\n",
       "    </tr>\n",
       "    <tr>\n",
       "      <th>890</th>\n",
       "      <td>1</td>\n",
       "      <td>1</td>\n",
       "      <td>Behr, Mr. Karl Howell</td>\n",
       "      <td>male</td>\n",
       "      <td>26.0</td>\n",
       "      <td>0</td>\n",
       "      <td>0</td>\n",
       "      <td>111369</td>\n",
       "      <td>30.0000</td>\n",
       "      <td>C148</td>\n",
       "      <td>C</td>\n",
       "    </tr>\n",
       "    <tr>\n",
       "      <th>891</th>\n",
       "      <td>0</td>\n",
       "      <td>3</td>\n",
       "      <td>Dooley, Mr. Patrick</td>\n",
       "      <td>male</td>\n",
       "      <td>32.0</td>\n",
       "      <td>0</td>\n",
       "      <td>0</td>\n",
       "      <td>370376</td>\n",
       "      <td>7.7500</td>\n",
       "      <td>NaN</td>\n",
       "      <td>Q</td>\n",
       "    </tr>\n",
       "  </tbody>\n",
       "</table>\n",
       "<p>891 rows × 11 columns</p>\n",
       "</div>"
      ],
      "text/plain": [
       "             Survived  Pclass  \\\n",
       "PassengerId                     \n",
       "1                   0       3   \n",
       "2                   1       1   \n",
       "3                   1       3   \n",
       "4                   1       1   \n",
       "5                   0       3   \n",
       "...               ...     ...   \n",
       "887                 0       2   \n",
       "888                 1       1   \n",
       "889                 0       3   \n",
       "890                 1       1   \n",
       "891                 0       3   \n",
       "\n",
       "                                                          Name     Sex   Age  \\\n",
       "PassengerId                                                                    \n",
       "1                                      Braund, Mr. Owen Harris    male  22.0   \n",
       "2            Cumings, Mrs. John Bradley (Florence Briggs Th...  female  38.0   \n",
       "3                                       Heikkinen, Miss. Laina  female  26.0   \n",
       "4                 Futrelle, Mrs. Jacques Heath (Lily May Peel)  female  35.0   \n",
       "5                                     Allen, Mr. William Henry    male  35.0   \n",
       "...                                                        ...     ...   ...   \n",
       "887                                      Montvila, Rev. Juozas    male  27.0   \n",
       "888                               Graham, Miss. Margaret Edith  female  19.0   \n",
       "889                   Johnston, Miss. Catherine Helen \"Carrie\"  female   NaN   \n",
       "890                                      Behr, Mr. Karl Howell    male  26.0   \n",
       "891                                        Dooley, Mr. Patrick    male  32.0   \n",
       "\n",
       "             SibSp  Parch            Ticket     Fare Cabin Embarked  \n",
       "PassengerId                                                          \n",
       "1                1      0         A/5 21171   7.2500   NaN        S  \n",
       "2                1      0          PC 17599  71.2833   C85        C  \n",
       "3                0      0  STON/O2. 3101282   7.9250   NaN        S  \n",
       "4                1      0            113803  53.1000  C123        S  \n",
       "5                0      0            373450   8.0500   NaN        S  \n",
       "...            ...    ...               ...      ...   ...      ...  \n",
       "887              0      0            211536  13.0000   NaN        S  \n",
       "888              0      0            112053  30.0000   B42        S  \n",
       "889              1      2        W./C. 6607  23.4500   NaN        S  \n",
       "890              0      0            111369  30.0000  C148        C  \n",
       "891              0      0            370376   7.7500   NaN        Q  \n",
       "\n",
       "[891 rows x 11 columns]"
      ]
     },
     "execution_count": 8,
     "metadata": {},
     "output_type": "execute_result"
    }
   ],
   "source": [
    "full_df"
   ]
  },
  {
   "cell_type": "code",
   "execution_count": 9,
   "id": "fe1b48dd",
   "metadata": {},
   "outputs": [
    {
     "data": {
      "text/plain": [
       "Survived      int64\n",
       "Pclass        int64\n",
       "Name         object\n",
       "Sex          object\n",
       "Age         float64\n",
       "SibSp         int64\n",
       "Parch         int64\n",
       "Ticket       object\n",
       "Fare        float64\n",
       "Cabin        object\n",
       "Embarked     object\n",
       "dtype: object"
      ]
     },
     "execution_count": 9,
     "metadata": {},
     "output_type": "execute_result"
    }
   ],
   "source": [
    "full_df.dtypes"
   ]
  },
  {
   "cell_type": "markdown",
   "id": "b560604b",
   "metadata": {},
   "source": [
    "The dataset does have some __skew__ to it."
   ]
  },
  {
   "cell_type": "code",
   "execution_count": 10,
   "id": "38dde575",
   "metadata": {},
   "outputs": [
    {
     "name": "stdout",
     "output_type": "stream",
     "text": [
      "38.38% survived\n"
     ]
    }
   ],
   "source": [
    "print(f'{100 * visualization.compute_truth_ratio(full_df, \"Survived\"):.2f}% survived')"
   ]
  },
  {
   "cell_type": "markdown",
   "id": "9088d801",
   "metadata": {},
   "source": [
    "## Visualize Data\n",
    "\n",
    "Because we have only a few columns, we can examine them individually to see which seem to help predict the survival rate."
   ]
  },
  {
   "cell_type": "code",
   "execution_count": 11,
   "id": "c9b1ac81",
   "metadata": {
    "scrolled": false
   },
   "outputs": [
    {
     "data": {
      "image/png": "[encoded data removed]",
      "text/plain": [
       "<Figure size 640x480 with 1 Axes>"
      ]
     },
     "metadata": {},
     "output_type": "display_data"
    },
    {
     "data": {
      "image/png": "[encoded data removed]",
      "text/plain": [
       "<Figure size 640x480 with 1 Axes>"
      ]
     },
     "metadata": {},
     "output_type": "display_data"
    },
    {
     "data": {
      "image/png": "[encoded data removed]",
      "text/plain": [
       "<Figure size 640x480 with 1 Axes>"
      ]
     },
     "metadata": {},
     "output_type": "display_data"
    },
    {
     "data": {
      "image/png": "[encoded data removed]",
      "text/plain": [
       "<Figure size 640x480 with 1 Axes>"
      ]
     },
     "metadata": {},
     "output_type": "display_data"
    },
    {
     "data": {
      "image/png": "[encoded data removed]",
      "text/plain": [
       "<Figure size 640x480 with 1 Axes>"
      ]
     },
     "metadata": {},
     "output_type": "display_data"
    },
    {
     "data": {
      "image/png": "[encoded data removed]",
      "text/plain": [
       "<Figure size 640x480 with 1 Axes>"
      ]
     },
     "metadata": {},
     "output_type": "display_data"
    },
    {
     "data": {
      "image/png": "[encoded data removed]",
      "text/plain": [
       "<Figure size 640x480 with 1 Axes>"
      ]
     },
     "metadata": {},
     "output_type": "display_data"
    },
    {
     "data": {
      "image/png": "[encoded data removed]",
      "text/plain": [
       "<Figure size 640x480 with 1 Axes>"
      ]
     },
     "metadata": {},
     "output_type": "display_data"
    }
   ],
   "source": [
    "visualization.examine_candidate_column(full_df, 'Pclass', \"Passenger Class\", \"Survived\", \"Survived\") # Looks very linear\n",
    "visualization.examine_candidate_column(full_df, 'Sex', 'Sex', \"Survived\", \"Survived\") # Looks very predictive\n",
    "visualization.examine_candidate_column(full_df, 'Age', 'Age', \"Survived\", \"Survived\") # Looks possibly useful but need to BUCKET\n",
    "visualization.examine_candidate_column(full_df, 'SibSp', \"Siblings and Spouses\", \"Survived\", \"Survived\") # It does look like 1-2 is a boost in survival rate\n",
    "visualization.examine_candidate_column(full_df, 'Parch', \"Parents and Children\", \"Survived\", \"Survived\") # Not clear that this is helpful\n",
    "visualization.examine_candidate_column(full_df, 'Fare', 'Fare', \"Survived\", \"Survived\")  # Surprisingly unhelpful but maybe we can BUCKET it\n",
    "visualization.examine_candidate_column(full_df, 'Cabin', 'Cabin', \"Survived\", \"Survived\")  # Surprisingly unhelpful but maybe we can BUCKET it\n",
    "visualization.examine_candidate_column(full_df, 'Embarked', 'Embarked', \"Survived\", \"Survived\") # Looks possibly helpful (exponential decay but with low resolution)"
   ]
  },
  {
   "cell_type": "markdown",
   "id": "0dbcc17f",
   "metadata": {},
   "source": [
    "## Feature Engineering"
   ]
  },
  {
   "cell_type": "markdown",
   "id": "42528aa8",
   "metadata": {},
   "source": [
    "Let's try age groups."
   ]
  },
  {
   "cell_type": "code",
   "execution_count": 13,
   "id": "1fa691a2",
   "metadata": {},
   "outputs": [
    {
     "data": {
      "image/png": "[encoded data removed]",
      "text/plain": [
       "<Figure size 640x480 with 1 Axes>"
      ]
     },
     "metadata": {},
     "output_type": "display_data"
    }
   ],
   "source": [
    "full_df['age_groups'] = pd.cut(full_df['Age'], bins=range(0, int(math.floor(full_df['Age'].max() + 1)), 10))\n",
    "visualization.examine_candidate_column(full_df, 'age_groups', 'Age Group', \"Survived\", \"Survived\")"
   ]
  },
  {
   "cell_type": "markdown",
   "id": "7967bf2d",
   "metadata": {},
   "source": [
    "It makes a big difference how the fare groups are divided, but it seems like very high and very low fares may have been a disadvantage."
   ]
  },
  {
   "cell_type": "code",
   "execution_count": 14,
   "id": "577bd715",
   "metadata": {},
   "outputs": [
    {
     "data": {
      "image/png": "[encoded data removed]",
      "text/plain": [
       "<Figure size 640x480 with 1 Axes>"
      ]
     },
     "metadata": {},
     "output_type": "display_data"
    }
   ],
   "source": [
    "full_df['fare_groups'] = pd.cut(full_df['Fare'], bins=range(0, int(math.floor(full_df['Fare'].max() + 1)), 50))\n",
    "visualization.examine_candidate_column(full_df, 'fare_groups', 'Fare Group', \"Survived\", \"Survived\")"
   ]
  },
  {
   "cell_type": "markdown",
   "id": "a509eb16",
   "metadata": {},
   "source": [
    "## Column Selection"
   ]
  },
  {
   "cell_type": "code",
   "execution_count": 15,
   "id": "6960e6db",
   "metadata": {},
   "outputs": [
    {
     "data": {
      "text/html": [
       "<div>\n",
       "<style scoped>\n",
       "    .dataframe tbody tr th:only-of-type {\n",
       "        vertical-align: middle;\n",
       "    }\n",
       "\n",
       "    .dataframe tbody tr th {\n",
       "        vertical-align: top;\n",
       "    }\n",
       "\n",
       "    .dataframe thead th {\n",
       "        text-align: right;\n",
       "    }\n",
       "</style>\n",
       "<table border=\"1\" class=\"dataframe\">\n",
       "  <thead>\n",
       "    <tr style=\"text-align: right;\">\n",
       "      <th></th>\n",
       "      <th>Pclass</th>\n",
       "      <th>Sex</th>\n",
       "      <th>age_groups</th>\n",
       "      <th>fare_groups</th>\n",
       "      <th>SibSp</th>\n",
       "      <th>Embarked</th>\n",
       "    </tr>\n",
       "    <tr>\n",
       "      <th>PassengerId</th>\n",
       "      <th></th>\n",
       "      <th></th>\n",
       "      <th></th>\n",
       "      <th></th>\n",
       "      <th></th>\n",
       "      <th></th>\n",
       "    </tr>\n",
       "  </thead>\n",
       "  <tbody>\n",
       "    <tr>\n",
       "      <th>1</th>\n",
       "      <td>3</td>\n",
       "      <td>male</td>\n",
       "      <td>(20.0, 30.0]</td>\n",
       "      <td>(0, 50]</td>\n",
       "      <td>1</td>\n",
       "      <td>S</td>\n",
       "    </tr>\n",
       "    <tr>\n",
       "      <th>2</th>\n",
       "      <td>1</td>\n",
       "      <td>female</td>\n",
       "      <td>(30.0, 40.0]</td>\n",
       "      <td>(50, 100]</td>\n",
       "      <td>1</td>\n",
       "      <td>C</td>\n",
       "    </tr>\n",
       "    <tr>\n",
       "      <th>3</th>\n",
       "      <td>3</td>\n",
       "      <td>female</td>\n",
       "      <td>(20.0, 30.0]</td>\n",
       "      <td>(0, 50]</td>\n",
       "      <td>0</td>\n",
       "      <td>S</td>\n",
       "    </tr>\n",
       "    <tr>\n",
       "      <th>4</th>\n",
       "      <td>1</td>\n",
       "      <td>female</td>\n",
       "      <td>(30.0, 40.0]</td>\n",
       "      <td>(50, 100]</td>\n",
       "      <td>1</td>\n",
       "      <td>S</td>\n",
       "    </tr>\n",
       "    <tr>\n",
       "      <th>5</th>\n",
       "      <td>3</td>\n",
       "      <td>male</td>\n",
       "      <td>(30.0, 40.0]</td>\n",
       "      <td>(0, 50]</td>\n",
       "      <td>0</td>\n",
       "      <td>S</td>\n",
       "    </tr>\n",
       "    <tr>\n",
       "      <th>...</th>\n",
       "      <td>...</td>\n",
       "      <td>...</td>\n",
       "      <td>...</td>\n",
       "      <td>...</td>\n",
       "      <td>...</td>\n",
       "      <td>...</td>\n",
       "    </tr>\n",
       "    <tr>\n",
       "      <th>887</th>\n",
       "      <td>2</td>\n",
       "      <td>male</td>\n",
       "      <td>(20.0, 30.0]</td>\n",
       "      <td>(0, 50]</td>\n",
       "      <td>0</td>\n",
       "      <td>S</td>\n",
       "    </tr>\n",
       "    <tr>\n",
       "      <th>888</th>\n",
       "      <td>1</td>\n",
       "      <td>female</td>\n",
       "      <td>(10.0, 20.0]</td>\n",
       "      <td>(0, 50]</td>\n",
       "      <td>0</td>\n",
       "      <td>S</td>\n",
       "    </tr>\n",
       "    <tr>\n",
       "      <th>889</th>\n",
       "      <td>3</td>\n",
       "      <td>female</td>\n",
       "      <td>NaN</td>\n",
       "      <td>(0, 50]</td>\n",
       "      <td>1</td>\n",
       "      <td>S</td>\n",
       "    </tr>\n",
       "    <tr>\n",
       "      <th>890</th>\n",
       "      <td>1</td>\n",
       "      <td>male</td>\n",
       "      <td>(20.0, 30.0]</td>\n",
       "      <td>(0, 50]</td>\n",
       "      <td>0</td>\n",
       "      <td>C</td>\n",
       "    </tr>\n",
       "    <tr>\n",
       "      <th>891</th>\n",
       "      <td>3</td>\n",
       "      <td>male</td>\n",
       "      <td>(30.0, 40.0]</td>\n",
       "      <td>(0, 50]</td>\n",
       "      <td>0</td>\n",
       "      <td>Q</td>\n",
       "    </tr>\n",
       "  </tbody>\n",
       "</table>\n",
       "<p>891 rows × 6 columns</p>\n",
       "</div>"
      ],
      "text/plain": [
       "             Pclass     Sex    age_groups fare_groups  SibSp Embarked\n",
       "PassengerId                                                          \n",
       "1                 3    male  (20.0, 30.0]     (0, 50]      1        S\n",
       "2                 1  female  (30.0, 40.0]   (50, 100]      1        C\n",
       "3                 3  female  (20.0, 30.0]     (0, 50]      0        S\n",
       "4                 1  female  (30.0, 40.0]   (50, 100]      1        S\n",
       "5                 3    male  (30.0, 40.0]     (0, 50]      0        S\n",
       "...             ...     ...           ...         ...    ...      ...\n",
       "887               2    male  (20.0, 30.0]     (0, 50]      0        S\n",
       "888               1  female  (10.0, 20.0]     (0, 50]      0        S\n",
       "889               3  female           NaN     (0, 50]      1        S\n",
       "890               1    male  (20.0, 30.0]     (0, 50]      0        C\n",
       "891               3    male  (30.0, 40.0]     (0, 50]      0        Q\n",
       "\n",
       "[891 rows x 6 columns]"
      ]
     },
     "execution_count": 15,
     "metadata": {},
     "output_type": "execute_result"
    }
   ],
   "source": [
    "columns_to_use = ['Pclass', 'Sex', 'age_groups', 'fare_groups', 'SibSp', 'Embarked']\n",
    "filtered_df = full_df[columns_to_use]\n",
    "filtered_df"
   ]
  },
  {
   "cell_type": "code",
   "execution_count": 16,
   "id": "1f9a91bc",
   "metadata": {},
   "outputs": [
    {
     "data": {
      "text/plain": [
       "Pclass            int64\n",
       "Sex              object\n",
       "age_groups     category\n",
       "fare_groups    category\n",
       "SibSp             int64\n",
       "Embarked         object\n",
       "dtype: object"
      ]
     },
     "execution_count": 16,
     "metadata": {},
     "output_type": "execute_result"
    }
   ],
   "source": [
    "filtered_df.dtypes"
   ]
  },
  {
   "cell_type": "code",
   "execution_count": 17,
   "id": "5e3396b4",
   "metadata": {},
   "outputs": [
    {
     "data": {
      "text/plain": [
       "array(['S', 'C', 'Q', nan], dtype=object)"
      ]
     },
     "execution_count": 17,
     "metadata": {},
     "output_type": "execute_result"
    }
   ],
   "source": [
    "full_df['Embarked'].unique()"
   ]
  },
  {
   "cell_type": "markdown",
   "id": "958b12c2",
   "metadata": {},
   "source": [
    "## Column Formatting"
   ]
  },
  {
   "cell_type": "code",
   "execution_count": 18,
   "id": "df163953",
   "metadata": {},
   "outputs": [
    {
     "name": "stderr",
     "output_type": "stream",
     "text": [
      "\n",
      "A value is trying to be set on a copy of a slice from a DataFrame.\n",
      "Try using .loc[row_indexer,col_indexer] = value instead\n",
      "\n",
      "See the caveats in the documentation: https://pandas.pydata.org/pandas-docs/stable/user_guide/indexing.html#returning-a-view-versus-a-copy\n",
      "\n",
      "A value is trying to be set on a copy of a slice from a DataFrame.\n",
      "Try using .loc[row_indexer,col_indexer] = value instead\n",
      "\n",
      "See the caveats in the documentation: https://pandas.pydata.org/pandas-docs/stable/user_guide/indexing.html#returning-a-view-versus-a-copy\n",
      "\n",
      "A value is trying to be set on a copy of a slice from a DataFrame.\n",
      "Try using .loc[row_indexer,col_indexer] = value instead\n",
      "\n",
      "See the caveats in the documentation: https://pandas.pydata.org/pandas-docs/stable/user_guide/indexing.html#returning-a-view-versus-a-copy\n",
      "\n",
      "A value is trying to be set on a copy of a slice from a DataFrame.\n",
      "Try using .loc[row_indexer,col_indexer] = value instead\n",
      "\n",
      "See the caveats in the documentation: https://pandas.pydata.org/pandas-docs/stable/user_guide/indexing.html#returning-a-view-versus-a-copy\n"
     ]
    },
    {
     "data": {
      "text/html": [
       "<div>\n",
       "<style scoped>\n",
       "    .dataframe tbody tr th:only-of-type {\n",
       "        vertical-align: middle;\n",
       "    }\n",
       "\n",
       "    .dataframe tbody tr th {\n",
       "        vertical-align: top;\n",
       "    }\n",
       "\n",
       "    .dataframe thead th {\n",
       "        text-align: right;\n",
       "    }\n",
       "</style>\n",
       "<table border=\"1\" class=\"dataframe\">\n",
       "  <thead>\n",
       "    <tr style=\"text-align: right;\">\n",
       "      <th></th>\n",
       "      <th>Pclass</th>\n",
       "      <th>Sex</th>\n",
       "      <th>age_groups</th>\n",
       "      <th>fare_groups</th>\n",
       "      <th>SibSp</th>\n",
       "      <th>Embarked</th>\n",
       "    </tr>\n",
       "    <tr>\n",
       "      <th>PassengerId</th>\n",
       "      <th></th>\n",
       "      <th></th>\n",
       "      <th></th>\n",
       "      <th></th>\n",
       "      <th></th>\n",
       "      <th></th>\n",
       "    </tr>\n",
       "  </thead>\n",
       "  <tbody>\n",
       "    <tr>\n",
       "      <th>1</th>\n",
       "      <td>3</td>\n",
       "      <td>1</td>\n",
       "      <td>2</td>\n",
       "      <td>0</td>\n",
       "      <td>1</td>\n",
       "      <td>0</td>\n",
       "    </tr>\n",
       "    <tr>\n",
       "      <th>2</th>\n",
       "      <td>1</td>\n",
       "      <td>0</td>\n",
       "      <td>3</td>\n",
       "      <td>1</td>\n",
       "      <td>1</td>\n",
       "      <td>1</td>\n",
       "    </tr>\n",
       "    <tr>\n",
       "      <th>3</th>\n",
       "      <td>3</td>\n",
       "      <td>0</td>\n",
       "      <td>2</td>\n",
       "      <td>0</td>\n",
       "      <td>0</td>\n",
       "      <td>0</td>\n",
       "    </tr>\n",
       "    <tr>\n",
       "      <th>4</th>\n",
       "      <td>1</td>\n",
       "      <td>0</td>\n",
       "      <td>3</td>\n",
       "      <td>1</td>\n",
       "      <td>1</td>\n",
       "      <td>0</td>\n",
       "    </tr>\n",
       "    <tr>\n",
       "      <th>5</th>\n",
       "      <td>3</td>\n",
       "      <td>1</td>\n",
       "      <td>3</td>\n",
       "      <td>0</td>\n",
       "      <td>0</td>\n",
       "      <td>0</td>\n",
       "    </tr>\n",
       "    <tr>\n",
       "      <th>...</th>\n",
       "      <td>...</td>\n",
       "      <td>...</td>\n",
       "      <td>...</td>\n",
       "      <td>...</td>\n",
       "      <td>...</td>\n",
       "      <td>...</td>\n",
       "    </tr>\n",
       "    <tr>\n",
       "      <th>887</th>\n",
       "      <td>2</td>\n",
       "      <td>1</td>\n",
       "      <td>2</td>\n",
       "      <td>0</td>\n",
       "      <td>0</td>\n",
       "      <td>0</td>\n",
       "    </tr>\n",
       "    <tr>\n",
       "      <th>888</th>\n",
       "      <td>1</td>\n",
       "      <td>0</td>\n",
       "      <td>1</td>\n",
       "      <td>0</td>\n",
       "      <td>0</td>\n",
       "      <td>0</td>\n",
       "    </tr>\n",
       "    <tr>\n",
       "      <th>889</th>\n",
       "      <td>3</td>\n",
       "      <td>0</td>\n",
       "      <td>-1</td>\n",
       "      <td>0</td>\n",
       "      <td>1</td>\n",
       "      <td>0</td>\n",
       "    </tr>\n",
       "    <tr>\n",
       "      <th>890</th>\n",
       "      <td>1</td>\n",
       "      <td>1</td>\n",
       "      <td>2</td>\n",
       "      <td>0</td>\n",
       "      <td>0</td>\n",
       "      <td>1</td>\n",
       "    </tr>\n",
       "    <tr>\n",
       "      <th>891</th>\n",
       "      <td>3</td>\n",
       "      <td>1</td>\n",
       "      <td>3</td>\n",
       "      <td>0</td>\n",
       "      <td>0</td>\n",
       "      <td>2</td>\n",
       "    </tr>\n",
       "  </tbody>\n",
       "</table>\n",
       "<p>891 rows × 6 columns</p>\n",
       "</div>"
      ],
      "text/plain": [
       "             Pclass  Sex  age_groups  fare_groups  SibSp  Embarked\n",
       "PassengerId                                                       \n",
       "1                 3    1           2            0      1         0\n",
       "2                 1    0           3            1      1         1\n",
       "3                 3    0           2            0      0         0\n",
       "4                 1    0           3            1      1         0\n",
       "5                 3    1           3            0      0         0\n",
       "...             ...  ...         ...          ...    ...       ...\n",
       "887               2    1           2            0      0         0\n",
       "888               1    0           1            0      0         0\n",
       "889               3    0          -1            0      1         0\n",
       "890               1    1           2            0      0         1\n",
       "891               3    1           3            0      0         2\n",
       "\n",
       "[891 rows x 6 columns]"
      ]
     },
     "execution_count": 18,
     "metadata": {},
     "output_type": "execute_result"
    }
   ],
   "source": [
    "filtered_df['Sex'] = (full_df['Sex'] == 'male').astype(int)\n",
    "filtered_df['age_groups'] = full_df['age_groups'].cat.codes\n",
    "filtered_df['fare_groups'] = full_df['fare_groups'].cat.codes\n",
    "filtered_df['Embarked'] = pd.Categorical(full_df['Embarked'].fillna('NaN'), categories=full_df['Embarked'].fillna('NaN').unique()).codes\n",
    "filtered_df"
   ]
  },
  {
   "cell_type": "code",
   "execution_count": 19,
   "id": "e9d3d034",
   "metadata": {},
   "outputs": [
    {
     "data": {
      "text/plain": [
       "Pclass         int64\n",
       "Sex            int64\n",
       "age_groups      int8\n",
       "fare_groups     int8\n",
       "SibSp          int64\n",
       "Embarked        int8\n",
       "dtype: object"
      ]
     },
     "execution_count": 19,
     "metadata": {},
     "output_type": "execute_result"
    }
   ],
   "source": [
    "filtered_df.dtypes"
   ]
  },
  {
   "cell_type": "markdown",
   "id": "2903459d",
   "metadata": {},
   "source": [
    "# Input Pipeline\n",
    "\n",
    "Having experimented with the data above, we can now set up the pipeline for our model based on what we found.  Even though this dataset is small and I could just use the sklearn and pandas stuff above, I decided to do a full TF streamed pipeline for practice :-)\n",
    "\n",
    "The file __preprocessing.py__ was developed after doing the above analysis.  Some of it duplicates what's up there, but it is meant to represent more of a production-ization of this project."
   ]
  },
  {
   "cell_type": "markdown",
   "id": "ac9a6973",
   "metadata": {},
   "source": [
    "## Demonstration"
   ]
  },
  {
   "cell_type": "code",
   "execution_count": 20,
   "id": "e8d91d80",
   "metadata": {},
   "outputs": [
    {
     "name": "stderr",
     "output_type": "stream",
     "text": [
      "2023-05-14 21:27:48.393317: I tensorflow/compiler/xla/stream_executor/cuda/cuda_gpu_executor.cc:982] could not open file to read NUMA node: /sys/bus/pci/devices/0000:01:00.0/numa_node\n",
      "Your kernel may have been built without NUMA support.\n",
      "2023-05-14 21:27:48.415632: I tensorflow/compiler/xla/stream_executor/cuda/cuda_gpu_executor.cc:982] could not open file to read NUMA node: /sys/bus/pci/devices/0000:01:00.0/numa_node\n",
      "Your kernel may have been built without NUMA support.\n",
      "2023-05-14 21:27:48.415697: I tensorflow/compiler/xla/stream_executor/cuda/cuda_gpu_executor.cc:982] could not open file to read NUMA node: /sys/bus/pci/devices/0000:01:00.0/numa_node\n",
      "Your kernel may have been built without NUMA support.\n",
      "2023-05-14 21:27:48.422163: I tensorflow/compiler/xla/stream_executor/cuda/cuda_gpu_executor.cc:982] could not open file to read NUMA node: /sys/bus/pci/devices/0000:01:00.0/numa_node\n",
      "Your kernel may have been built without NUMA support.\n",
      "2023-05-14 21:27:48.422237: I tensorflow/compiler/xla/stream_executor/cuda/cuda_gpu_executor.cc:982] could not open file to read NUMA node: /sys/bus/pci/devices/0000:01:00.0/numa_node\n",
      "Your kernel may have been built without NUMA support.\n",
      "2023-05-14 21:27:48.422275: I tensorflow/compiler/xla/stream_executor/cuda/cuda_gpu_executor.cc:982] could not open file to read NUMA node: /sys/bus/pci/devices/0000:01:00.0/numa_node\n",
      "Your kernel may have been built without NUMA support.\n",
      "2023-05-14 21:27:49.020789: I tensorflow/compiler/xla/stream_executor/cuda/cuda_gpu_executor.cc:982] could not open file to read NUMA node: /sys/bus/pci/devices/0000:01:00.0/numa_node\n",
      "Your kernel may have been built without NUMA support.\n",
      "2023-05-14 21:27:49.020871: I tensorflow/compiler/xla/stream_executor/cuda/cuda_gpu_executor.cc:982] could not open file to read NUMA node: /sys/bus/pci/devices/0000:01:00.0/numa_node\n",
      "Your kernel may have been built without NUMA support.\n",
      "2023-05-14 21:27:49.020880: I tensorflow/core/common_runtime/gpu/gpu_device.cc:1722] Could not identify NUMA node of platform GPU id 0, defaulting to 0.  Your kernel may not have been built with NUMA support.\n",
      "2023-05-14 21:27:49.020923: I tensorflow/compiler/xla/stream_executor/cuda/cuda_gpu_executor.cc:982] could not open file to read NUMA node: /sys/bus/pci/devices/0000:01:00.0/numa_node\n",
      "Your kernel may have been built without NUMA support.\n",
      "2023-05-14 21:27:49.021056: I tensorflow/core/common_runtime/gpu/gpu_device.cc:1635] Created device /job:localhost/replica:0/task:0/device:GPU:0 with 8298 MB memory:  -> device: 0, name: NVIDIA GeForce RTX 2080 Ti, pci bus id: 0000:01:00.0, compute capability: 7.5\n"
     ]
    },
    {
     "name": "stdout",
     "output_type": "stream",
     "text": [
      "---Features---\n",
      "{'PassengerId': array([833, 843, 428, 194, 328, 335, 156, 148, 269, 737], dtype=int32), 'Pclass': array([3, 1, 2, 2, 2, 1, 1, 3, 1, 3], dtype=int32), 'Name': array([b'Saad, Mr. Amin', b'Serepeca, Miss. Augusta',\n",
      "       b'Phillips, Miss. Kate Florence (\"Mrs Kate Louise Phillips Marshall\")',\n",
      "       b'Navratil, Master. Michel M', b'Ball, Mrs. (Ada E Hall)',\n",
      "       b'Frauenthal, Mrs. Henry William (Clara Heinsheimer)',\n",
      "       b'Williams, Mr. Charles Duane',\n",
      "       b'Ford, Miss. Robina Maggie \"Ruby\"',\n",
      "       b'Graham, Mrs. William Thompson (Edith Junkins)',\n",
      "       b'Ford, Mrs. Edward (Margaret Ann Watson)'], dtype=object), 'Sex': array([b'male', b'female', b'female', b'male', b'female', b'female',\n",
      "       b'male', b'female', b'female', b'female'], dtype=object), 'Age': array([ 0., 30., 19.,  3., 36.,  0., 51.,  9., 58., 48.], dtype=float32), 'SibSp': array([0, 0, 0, 1, 0, 1, 0, 2, 0, 1], dtype=int32), 'Parch': array([0, 0, 0, 1, 0, 0, 1, 2, 1, 3], dtype=int32), 'Ticket': array([b'2671', b'113798', b'250655', b'230080', b'28551', b'PC 17611',\n",
      "       b'PC 17597', b'W./C. 6608', b'PC 17582', b'W./C. 6608'],\n",
      "      dtype=object), 'Fare': array([  7.2292,  31.    ,  26.    ,  26.    ,  13.    , 133.65  ,\n",
      "        61.3792,  34.375 , 153.4625,  34.375 ], dtype=float32), 'Cabin': array([b'', b'', b'', b'F2', b'D', b'', b'', b'', b'C125', b''],\n",
      "      dtype=object), 'Embarked': array([b'C', b'C', b'S', b'S', b'S', b'S', b'C', b'S', b'S', b'S'],\n",
      "      dtype=object)}\n",
      "---Labels---\n",
      "[0 1 1 1 1 1 0 0 1 0]\n"
     ]
    },
    {
     "name": "stderr",
     "output_type": "stream",
     "text": [
      "2023-05-14 21:27:51.008169: I tensorflow/core/common_runtime/executor.cc:1197] [/device:CPU:0] (DEBUG INFO) Executor start aborting (this does not indicate an error and you can ignore this message): INVALID_ARGUMENT: You must feed a value for placeholder tensor 'Placeholder/_0' with dtype string and shape [1]\n",
      "\t [[{{node Placeholder/_0}}]]\n",
      "2023-05-14 21:27:51.008669: I tensorflow/core/common_runtime/executor.cc:1197] [/device:CPU:0] (DEBUG INFO) Executor start aborting (this does not indicate an error and you can ignore this message): INVALID_ARGUMENT: You must feed a value for placeholder tensor 'Placeholder/_11' with dtype string and shape [1]\n",
      "\t [[{{node Placeholder/_11}}]]\n"
     ]
    }
   ],
   "source": [
    "datasets.show_first_batch(preprocessing.load_data())"
   ]
  },
  {
   "cell_type": "code",
   "execution_count": 21,
   "id": "e53cfa35",
   "metadata": {},
   "outputs": [
    {
     "name": "stdout",
     "output_type": "stream",
     "text": [
      "---Features---\n",
      "{'Class': array([3, 1, 2, 2, 2, 1, 1, 3, 1, 3], dtype=int32), 'Sex': array([1, 0, 0, 1, 0, 0, 1, 0, 0, 0], dtype=int32), 'Siblings': array([0, 0, 0, 1, 0, 1, 0, 2, 0, 1], dtype=int32), 'Origin': array([1, 1, 0, 0, 0, 0, 1, 0, 0, 0], dtype=int32), 'AgeGroup': array([0, 3, 1, 0, 3, 0, 5, 0, 5, 4], dtype=int32), 'FareGroup': array([0, 0, 0, 0, 0, 2, 1, 0, 3, 0], dtype=int32)}\n",
      "---Labels---\n",
      "[0 1 1 1 1 1 0 0 1 0]\n"
     ]
    },
    {
     "name": "stderr",
     "output_type": "stream",
     "text": [
      "2023-05-14 21:28:00.163620: I tensorflow/core/common_runtime/executor.cc:1197] [/device:CPU:0] (DEBUG INFO) Executor start aborting (this does not indicate an error and you can ignore this message): INVALID_ARGUMENT: You must feed a value for placeholder tensor 'Placeholder/_11' with dtype string and shape [1]\n",
      "\t [[{{node Placeholder/_11}}]]\n",
      "2023-05-14 21:28:00.164189: I tensorflow/core/common_runtime/executor.cc:1197] [/device:CPU:0] (DEBUG INFO) Executor start aborting (this does not indicate an error and you can ignore this message): INVALID_ARGUMENT: You must feed a value for placeholder tensor 'Placeholder/_15' with dtype string and shape [1]\n",
      "\t [[{{node Placeholder/_15}}]]\n"
     ]
    }
   ],
   "source": [
    "datasets.show_first_batch(preprocessing.load_data().map(preprocessing.transform_columns))"
   ]
  },
  {
   "cell_type": "code",
   "execution_count": 22,
   "id": "f2e24435",
   "metadata": {},
   "outputs": [
    {
     "name": "stdout",
     "output_type": "stream",
     "text": [
      "---Features---\n",
      "{'Class': array([3, 1, 2, 2, 2, 1, 1, 3, 1, 3], dtype=int32), 'Sex': array([[0., 1.],\n",
      "       [1., 0.],\n",
      "       [1., 0.],\n",
      "       [0., 1.],\n",
      "       [1., 0.],\n",
      "       [1., 0.],\n",
      "       [0., 1.],\n",
      "       [1., 0.],\n",
      "       [1., 0.],\n",
      "       [1., 0.]], dtype=float32), 'Siblings': array([0, 0, 0, 1, 0, 1, 0, 2, 0, 1], dtype=int32), 'Origin': array([[0., 1., 0., 0.],\n",
      "       [0., 1., 0., 0.],\n",
      "       [1., 0., 0., 0.],\n",
      "       [1., 0., 0., 0.],\n",
      "       [1., 0., 0., 0.],\n",
      "       [1., 0., 0., 0.],\n",
      "       [0., 1., 0., 0.],\n",
      "       [1., 0., 0., 0.],\n",
      "       [1., 0., 0., 0.],\n",
      "       [1., 0., 0., 0.]], dtype=float32), 'AgeGroup': array([0, 3, 1, 0, 3, 0, 5, 0, 5, 4], dtype=int32), 'FareGroup': array([0, 0, 0, 0, 0, 2, 1, 0, 3, 0], dtype=int32)}\n",
      "---Labels---\n",
      "[0 1 1 1 1 1 0 0 1 0]\n"
     ]
    },
    {
     "name": "stderr",
     "output_type": "stream",
     "text": [
      "2023-05-14 21:28:07.150469: I tensorflow/core/common_runtime/executor.cc:1197] [/device:CPU:0] (DEBUG INFO) Executor start aborting (this does not indicate an error and you can ignore this message): INVALID_ARGUMENT: You must feed a value for placeholder tensor 'Placeholder/_14' with dtype int32 and shape [1]\n",
      "\t [[{{node Placeholder/_14}}]]\n",
      "2023-05-14 21:28:07.151015: I tensorflow/core/common_runtime/executor.cc:1197] [/device:CPU:0] (DEBUG INFO) Executor start aborting (this does not indicate an error and you can ignore this message): INVALID_ARGUMENT: You must feed a value for placeholder tensor 'Placeholder/_10' with dtype string and shape [1]\n",
      "\t [[{{node Placeholder/_10}}]]\n"
     ]
    }
   ],
   "source": [
    "datasets.show_first_batch(preprocessing.load_data()\\\n",
    "                              .map(preprocessing.transform_columns)\\\n",
    "                              .map(datasets.named_column_oh_expander(preprocessing.ONE_HOT_SPECS)))"
   ]
  },
  {
   "cell_type": "code",
   "execution_count": 23,
   "id": "ecb8638a",
   "metadata": {},
   "outputs": [
    {
     "name": "stdout",
     "output_type": "stream",
     "text": [
      "---Features---\n",
      "[[3. 0. 1. 0. 0. 1. 0. 0. 0. 0.]\n",
      " [1. 1. 0. 0. 0. 1. 0. 0. 3. 0.]\n",
      " [2. 1. 0. 0. 1. 0. 0. 0. 1. 0.]\n",
      " [2. 0. 1. 1. 1. 0. 0. 0. 0. 0.]\n",
      " [2. 1. 0. 0. 1. 0. 0. 0. 3. 0.]\n",
      " [1. 1. 0. 1. 1. 0. 0. 0. 0. 2.]\n",
      " [1. 0. 1. 0. 0. 1. 0. 0. 5. 1.]\n",
      " [3. 1. 0. 2. 1. 0. 0. 0. 0. 0.]\n",
      " [1. 1. 0. 0. 1. 0. 0. 0. 5. 3.]\n",
      " [3. 1. 0. 1. 1. 0. 0. 0. 4. 0.]]\n",
      "---Labels---\n",
      "[0 1 1 1 1 1 0 0 1 0]\n"
     ]
    },
    {
     "name": "stderr",
     "output_type": "stream",
     "text": [
      "2023-05-14 21:28:07.883956: I tensorflow/core/common_runtime/executor.cc:1197] [/device:CPU:0] (DEBUG INFO) Executor start aborting (this does not indicate an error and you can ignore this message): INVALID_ARGUMENT: You must feed a value for placeholder tensor 'Placeholder/_12' with dtype float and shape [1]\n",
      "\t [[{{node Placeholder/_12}}]]\n",
      "2023-05-14 21:28:07.884466: I tensorflow/core/common_runtime/executor.cc:1197] [/device:CPU:0] (DEBUG INFO) Executor start aborting (this does not indicate an error and you can ignore this message): INVALID_ARGUMENT: You must feed a value for placeholder tensor 'Placeholder/_11' with dtype string and shape [1]\n",
      "\t [[{{node Placeholder/_11}}]]\n"
     ]
    }
   ],
   "source": [
    "dataset = preprocessing.load_data()\\\n",
    "                .map(preprocessing.transform_columns)\\\n",
    "                .map(datasets.named_column_oh_expander(preprocessing.ONE_HOT_SPECS))\\\n",
    "                .map(datasets.to_matrix())\n",
    "datasets.show_first_batch(dataset)"
   ]
  },
  {
   "cell_type": "code",
   "execution_count": 24,
   "id": "8a5564a4",
   "metadata": {},
   "outputs": [
    {
     "name": "stderr",
     "output_type": "stream",
     "text": [
      "2023-05-14 21:28:08.424117: I tensorflow/core/common_runtime/executor.cc:1197] [/device:CPU:0] (DEBUG INFO) Executor start aborting (this does not indicate an error and you can ignore this message): INVALID_ARGUMENT: You must feed a value for placeholder tensor 'Placeholder/_0' with dtype string and shape [1]\n",
      "\t [[{{node Placeholder/_0}}]]\n",
      "2023-05-14 21:28:08.424678: I tensorflow/core/common_runtime/executor.cc:1197] [/device:CPU:0] (DEBUG INFO) Executor start aborting (this does not indicate an error and you can ignore this message): INVALID_ARGUMENT: You must feed a value for placeholder tensor 'Placeholder/_12' with dtype float and shape [1]\n",
      "\t [[{{node Placeholder/_12}}]]\n",
      "2023-05-14 21:28:08.497586: I tensorflow/core/common_runtime/executor.cc:1197] [/device:CPU:0] (DEBUG INFO) Executor start aborting (this does not indicate an error and you can ignore this message): INVALID_ARGUMENT: You must feed a value for placeholder tensor 'Placeholder/_0' with dtype string and shape [1]\n",
      "\t [[{{node Placeholder/_0}}]]\n",
      "2023-05-14 21:28:08.498268: I tensorflow/core/common_runtime/executor.cc:1197] [/device:CPU:0] (DEBUG INFO) Executor start aborting (this does not indicate an error and you can ignore this message): INVALID_ARGUMENT: You must feed a value for placeholder tensor 'Placeholder/_13' with dtype int32 and shape [1]\n",
      "\t [[{{node Placeholder/_13}}]]\n",
      "2023-05-14 21:28:08.573891: I tensorflow/core/common_runtime/executor.cc:1197] [/device:CPU:0] (DEBUG INFO) Executor start aborting (this does not indicate an error and you can ignore this message): INVALID_ARGUMENT: You must feed a value for placeholder tensor 'Placeholder/_12' with dtype float and shape [1]\n",
      "\t [[{{node Placeholder/_12}}]]\n",
      "2023-05-14 21:28:08.574435: I tensorflow/core/common_runtime/executor.cc:1197] [/device:CPU:0] (DEBUG INFO) Executor start aborting (this does not indicate an error and you can ignore this message): INVALID_ARGUMENT: You must feed a value for placeholder tensor 'Placeholder/_11' with dtype string and shape [1]\n",
      "\t [[{{node Placeholder/_11}}]]\n"
     ]
    },
    {
     "name": "stdout",
     "output_type": "stream",
     "text": [
      "---Features---\n",
      "{'Class': array([3, 1, 2, 2, 2, 1, 1, 3, 1, 3], dtype=int32), 'Sex': array([1, 0, 0, 1, 0, 0, 1, 0, 0, 0], dtype=int32), 'Siblings': array([0, 0, 0, 1, 0, 1, 0, 2, 0, 1], dtype=int32), 'Origin': array([1, 1, 0, 0, 0, 0, 1, 0, 0, 0], dtype=int32), 'AgeGroup': array([0, 3, 1, 0, 3, 0, 5, 0, 5, 4], dtype=int32), 'FareGroup': array([0, 0, 0, 0, 0, 2, 1, 0, 3, 0], dtype=int32)}\n",
      "---Labels---\n",
      "[0 1 1 1 1 1 0 0 1 0]\n",
      "Training Batches: 71\n",
      "\n",
      "---Features---\n",
      "{'Class': array([1, 2, 3, 1, 1, 2, 3, 3, 2, 3], dtype=int32), 'Sex': array([1, 0, 1, 1, 1, 1, 1, 1, 0, 0], dtype=int32), 'Siblings': array([0, 1, 1, 1, 0, 0, 0, 0, 0, 0], dtype=int32), 'Origin': array([0, 0, 1, 1, 1, 0, 0, 0, 0, 2], dtype=int32), 'AgeGroup': array([8, 4, 0, 4, 5, 0, 1, 2, 5, 0], dtype=int32), 'FareGroup': array([0, 0, 0, 1, 2, 0, 0, 0, 0, 0], dtype=int32)}\n",
      "---Labels---\n",
      "[1 0 1 1 0 0 1 0 1 1]\n",
      "Validation Batches: 19\n"
     ]
    },
    {
     "name": "stderr",
     "output_type": "stream",
     "text": [
      "2023-05-14 21:28:08.663583: I tensorflow/core/common_runtime/executor.cc:1197] [/device:CPU:0] (DEBUG INFO) Executor start aborting (this does not indicate an error and you can ignore this message): INVALID_ARGUMENT: You must feed a value for placeholder tensor 'Placeholder/_17' with dtype string and shape [1]\n",
      "\t [[{{node Placeholder/_17}}]]\n",
      "2023-05-14 21:28:08.664177: I tensorflow/core/common_runtime/executor.cc:1197] [/device:CPU:0] (DEBUG INFO) Executor start aborting (this does not indicate an error and you can ignore this message): INVALID_ARGUMENT: You must feed a value for placeholder tensor 'Placeholder/_0' with dtype string and shape [1]\n",
      "\t [[{{node Placeholder/_0}}]]\n"
     ]
    }
   ],
   "source": [
    "temp_train, temp_val = (\n",
    "    datasets.split(preprocessing.load_data(batch_size=10).map(preprocessing.transform_columns), num_batches=preprocessing.DATASET_SIZE / 10))\n",
    "\n",
    "datasets.show_first_batch(temp_train)\n",
    "print(f'Training Batches: {datasets.count_batches(temp_train)}')\n",
    "print()\n",
    "datasets.show_first_batch(temp_val)\n",
    "print(f'Validation Batches: {datasets.count_batches(temp_val)}')"
   ]
  },
  {
   "cell_type": "markdown",
   "id": "268882b5",
   "metadata": {},
   "source": [
    "## Training: Feature Scalers\n",
    "\n",
    "Run this cell to create the scalers file on disk to be used for feature scaling in the actual model.\n",
    "\n",
    "Used default training/validation split and only trained based on the train part because using the validation seems like cheating."
   ]
  },
  {
   "cell_type": "code",
   "execution_count": 25,
   "id": "e50f2956",
   "metadata": {},
   "outputs": [
    {
     "name": "stderr",
     "output_type": "stream",
     "text": [
      "2023-05-14 21:28:12.926466: I tensorflow/core/common_runtime/executor.cc:1197] [/device:CPU:0] (DEBUG INFO) Executor start aborting (this does not indicate an error and you can ignore this message): INVALID_ARGUMENT: You must feed a value for placeholder tensor 'Placeholder/_13' with dtype int32 and shape [1]\n",
      "\t [[{{node Placeholder/_13}}]]\n",
      "2023-05-14 21:28:12.927034: I tensorflow/core/common_runtime/executor.cc:1197] [/device:CPU:0] (DEBUG INFO) Executor start aborting (this does not indicate an error and you can ignore this message): INVALID_ARGUMENT: You must feed a value for placeholder tensor 'Placeholder/_18' with dtype string and shape [1]\n",
      "\t [[{{node Placeholder/_18}}]]\n"
     ]
    },
    {
     "name": "stdout",
     "output_type": "stream",
     "text": [
      "Class: mean=[2.31], std=0.834719799008711\n",
      "Siblings: mean=[0.52428571], std=1.1430455201891523\n",
      "AgeGroup: mean=[2.01571429], std=1.689812814171669\n",
      "FareGroup: mean=[0.28285714], std=0.8783054184981813\n",
      "\n",
      "---Features---\n",
      "{'Class': array([ 0.8266247 , -1.56938892, -0.37138211, -0.37138211, -0.37138211,\n",
      "       -1.56938892, -1.56938892,  0.8266247 , -1.56938892,  0.8266247 ]), 'Sex': array([1, 0, 0, 1, 0, 0, 1, 0, 0, 0], dtype=int32), 'Siblings': array([-0.4586744, -0.4586744, -0.4586744,  0.4161814, -0.4586744,\n",
      "        0.4161814, -0.4586744,  1.2910372, -0.4586744,  0.4161814]), 'Origin': array([1, 1, 0, 0, 0, 0, 1, 0, 0, 0], dtype=int32), 'AgeGroup': array([-1.19286247,  0.5824821 , -0.60108095, -1.19286247,  0.5824821 ,\n",
      "       -1.19286247,  1.76604514, -1.19286247,  1.76604514,  1.17426362]), 'FareGroup': array([-0.32204873, -0.32204873, -0.32204873, -0.32204873, -0.32204873,\n",
      "        1.95506349,  0.81650738, -0.32204873,  3.0936196 , -0.32204873])}\n",
      "---Labels---\n",
      "[0 1 1 1 1 1 0 0 1 0]\n"
     ]
    },
    {
     "name": "stderr",
     "output_type": "stream",
     "text": [
      "2023-05-14 21:28:13.145084: I tensorflow/core/common_runtime/executor.cc:1197] [/device:CPU:0] (DEBUG INFO) Executor start aborting (this does not indicate an error and you can ignore this message): INVALID_ARGUMENT: You must feed a value for placeholder tensor 'Placeholder/_18' with dtype string and shape [1]\n",
      "\t [[{{node Placeholder/_18}}]]\n",
      "2023-05-14 21:28:13.145680: I tensorflow/core/common_runtime/executor.cc:1197] [/device:CPU:0] (DEBUG INFO) Executor start aborting (this does not indicate an error and you can ignore this message): INVALID_ARGUMENT: You must feed a value for placeholder tensor 'Placeholder/_0' with dtype string and shape [1]\n",
      "\t [[{{node Placeholder/_0}}]]\n"
     ]
    }
   ],
   "source": [
    "scalers = datasets.create_named_scalers(preprocessing.SCALED_COLUMNS)\n",
    "datasets.train_named_scalers(scalers, \n",
    "                             datasets.split(preprocessing.load_data(batch_size=preprocessing.BIGGER_BATCH_SIZE)\\\n",
    "                                                         .map(preprocessing.transform_columns), \n",
    "                                            num_batches=preprocessing.DATASET_SIZE / preprocessing.BIGGER_BATCH_SIZE)[0])\n",
    "preprocessing.save_scalers(scalers)\n",
    "scalers = preprocessing.load_scalers() # Pretend this is a different session\n",
    "\n",
    "for column in scalers:\n",
    "    print(f'{column}: mean={scalers[column].mean_}, std={math.sqrt(scalers[column].var_)}')\n",
    "\n",
    "print()\n",
    "datasets.show_first_batch(preprocessing.load_data().map(preprocessing.transform_columns).map(datasets.named_column_scaler(scalers)))"
   ]
  },
  {
   "cell_type": "markdown",
   "id": "5236b770",
   "metadata": {},
   "source": [
    "# Deep Learning"
   ]
  },
  {
   "cell_type": "markdown",
   "id": "aafd430d",
   "metadata": {},
   "source": [
    "Unlike the general approach above, the cells in this section are meant to all be run in order instead of cherrypicked."
   ]
  },
  {
   "cell_type": "markdown",
   "id": "0c2753f4",
   "metadata": {},
   "source": [
    "## Hyperparameters"
   ]
  },
  {
   "cell_type": "code",
   "execution_count": 35,
   "id": "49495c51",
   "metadata": {},
   "outputs": [],
   "source": [
    "LAYER_UNITS = [1]\n",
    "LEARNING_RATE = 0.001\n",
    "EPOCHS = 120\n",
    "BATCH_SIZE = 32\n",
    "FILE_MODS = ''"
   ]
  },
  {
   "cell_type": "markdown",
   "id": "665788d5",
   "metadata": {},
   "source": [
    "## Load the datasets for real."
   ]
  },
  {
   "cell_type": "code",
   "execution_count": 36,
   "id": "df6a0261",
   "metadata": {},
   "outputs": [
    {
     "name": "stderr",
     "output_type": "stream",
     "text": [
      "2023-05-14 21:30:40.934510: I tensorflow/core/common_runtime/executor.cc:1197] [/device:CPU:0] (DEBUG INFO) Executor start aborting (this does not indicate an error and you can ignore this message): INVALID_ARGUMENT: You must feed a value for placeholder tensor 'Placeholder/_18' with dtype string and shape [1]\n",
      "\t [[{{node Placeholder/_18}}]]\n",
      "2023-05-14 21:30:40.935108: I tensorflow/core/common_runtime/executor.cc:1197] [/device:CPU:0] (DEBUG INFO) Executor start aborting (this does not indicate an error and you can ignore this message): INVALID_ARGUMENT: You must feed a value for placeholder tensor 'Placeholder/_13' with dtype int32 and shape [1]\n",
      "\t [[{{node Placeholder/_13}}]]\n",
      "2023-05-14 21:30:41.050426: I tensorflow/core/common_runtime/executor.cc:1197] [/device:CPU:0] (DEBUG INFO) Executor start aborting (this does not indicate an error and you can ignore this message): INVALID_ARGUMENT: You must feed a value for placeholder tensor 'Placeholder/_11' with dtype string and shape [1]\n",
      "\t [[{{node Placeholder/_11}}]]\n",
      "2023-05-14 21:30:41.050979: I tensorflow/core/common_runtime/executor.cc:1197] [/device:CPU:0] (DEBUG INFO) Executor start aborting (this does not indicate an error and you can ignore this message): INVALID_ARGUMENT: You must feed a value for placeholder tensor 'Placeholder/_8' with dtype int32 and shape [1]\n",
      "\t [[{{node Placeholder/_8}}]]\n"
     ]
    },
    {
     "name": "stdout",
     "output_type": "stream",
     "text": [
      "Training Batches: 22\n",
      "Validation Bathces: 6\n"
     ]
    }
   ],
   "source": [
    "training_data, validation_data = preprocessing.prepare_training_data_for_model(batch_size=BATCH_SIZE)\n",
    "print('Training Batches: ' + str(datasets.count_batches(training_data).numpy()))\n",
    "print('Validation Bathces: ' + str(datasets.count_batches(validation_data).numpy()))"
   ]
  },
  {
   "cell_type": "markdown",
   "id": "60ed84f6",
   "metadata": {},
   "source": [
    "## Create the Model\n",
    "\n",
    "It might be beneficial to check __F1 score__ as well, but since the competition uses accuracy, I won't bother here.  It's a little bit skewed (67% death rate), but not too horrible."
   ]
  },
  {
   "cell_type": "code",
   "execution_count": 37,
   "id": "b4438a7d",
   "metadata": {},
   "outputs": [],
   "source": [
    "model = models.create_basic_ffn(LAYER_UNITS)\n",
    "model.compile(optimizer=tf.keras.optimizers.Adam(learning_rate=LEARNING_RATE), loss='binary_crossentropy', metrics=['accuracy'])"
   ]
  },
  {
   "cell_type": "markdown",
   "id": "99d5533b",
   "metadata": {},
   "source": [
    "## Train the Model"
   ]
  },
  {
   "cell_type": "code",
   "execution_count": 38,
   "id": "cda3c9ce",
   "metadata": {},
   "outputs": [
    {
     "name": "stdout",
     "output_type": "stream",
     "text": [
      "Epoch 1/120\n"
     ]
    },
    {
     "name": "stderr",
     "output_type": "stream",
     "text": [
      "2023-05-14 21:30:43.331874: I tensorflow/core/common_runtime/executor.cc:1197] [/device:CPU:0] (DEBUG INFO) Executor start aborting (this does not indicate an error and you can ignore this message): INVALID_ARGUMENT: You must feed a value for placeholder tensor 'Placeholder/_13' with dtype int32 and shape [1]\n",
      "\t [[{{node Placeholder/_13}}]]\n",
      "2023-05-14 21:30:43.332477: I tensorflow/core/common_runtime/executor.cc:1197] [/device:CPU:0] (DEBUG INFO) Executor start aborting (this does not indicate an error and you can ignore this message): INVALID_ARGUMENT: You must feed a value for placeholder tensor 'Placeholder/_17' with dtype string and shape [1]\n",
      "\t [[{{node Placeholder/_17}}]]\n"
     ]
    },
    {
     "name": "stdout",
     "output_type": "stream",
     "text": [
      "     20/Unknown - 1s 8ms/step - loss: 0.9487 - accuracy: 0.3516 "
     ]
    },
    {
     "name": "stderr",
     "output_type": "stream",
     "text": [
      "2023-05-14 21:30:44.066052: I tensorflow/core/common_runtime/executor.cc:1197] [/device:CPU:0] (DEBUG INFO) Executor start aborting (this does not indicate an error and you can ignore this message): INVALID_ARGUMENT: You must feed a value for placeholder tensor 'Placeholder/_18' with dtype string and shape [1]\n",
      "\t [[{{node Placeholder/_18}}]]\n",
      "2023-05-14 21:30:44.066644: I tensorflow/core/common_runtime/executor.cc:1197] [/device:CPU:0] (DEBUG INFO) Executor start aborting (this does not indicate an error and you can ignore this message): INVALID_ARGUMENT: You must feed a value for placeholder tensor 'Placeholder/_0' with dtype string and shape [1]\n",
      "\t [[{{node Placeholder/_0}}]]\n"
     ]
    },
    {
     "name": "stdout",
     "output_type": "stream",
     "text": [
      "22/22 [==============================] - 1s 22ms/step - loss: 0.9474 - accuracy: 0.3480 - val_loss: 0.8814 - val_accuracy: 0.3529\n",
      "Epoch 2/120\n",
      "22/22 [==============================] - 0s 14ms/step - loss: 0.9187 - accuracy: 0.3551 - val_loss: 0.9203 - val_accuracy: 0.3262\n",
      "Epoch 3/120\n",
      "22/22 [==============================] - 0s 19ms/step - loss: 0.8837 - accuracy: 0.3679 - val_loss: 0.8367 - val_accuracy: 0.3957\n",
      "Epoch 4/120\n",
      "22/22 [==============================] - 0s 12ms/step - loss: 0.8531 - accuracy: 0.4119 - val_loss: 0.9652 - val_accuracy: 0.3743\n",
      "Epoch 5/120\n",
      "22/22 [==============================] - 0s 12ms/step - loss: 0.8349 - accuracy: 0.4801 - val_loss: 0.8441 - val_accuracy: 0.4225\n",
      "Epoch 6/120\n",
      "22/22 [==============================] - 0s 12ms/step - loss: 0.8344 - accuracy: 0.5241 - val_loss: 0.8014 - val_accuracy: 0.5829\n",
      "Epoch 7/120\n",
      "22/22 [==============================] - 0s 12ms/step - loss: 0.8090 - accuracy: 0.5724 - val_loss: 0.8264 - val_accuracy: 0.6364\n",
      "Epoch 8/120\n",
      "22/22 [==============================] - 0s 12ms/step - loss: 0.7930 - accuracy: 0.6065 - val_loss: 0.8247 - val_accuracy: 0.5455\n",
      "Epoch 9/120\n",
      "22/22 [==============================] - 0s 17ms/step - loss: 0.7663 - accuracy: 0.6236 - val_loss: 0.7972 - val_accuracy: 0.6203\n",
      "Epoch 10/120\n",
      "22/22 [==============================] - 0s 12ms/step - loss: 0.7433 - accuracy: 0.6435 - val_loss: 0.6970 - val_accuracy: 0.6524\n",
      "Epoch 11/120\n",
      "22/22 [==============================] - 0s 12ms/step - loss: 0.7382 - accuracy: 0.6378 - val_loss: 0.7606 - val_accuracy: 0.5989\n",
      "Epoch 12/120\n",
      "22/22 [==============================] - 0s 12ms/step - loss: 0.7192 - accuracy: 0.6307 - val_loss: 0.7122 - val_accuracy: 0.6631\n",
      "Epoch 13/120\n",
      "22/22 [==============================] - 0s 13ms/step - loss: 0.7108 - accuracy: 0.6420 - val_loss: 0.6998 - val_accuracy: 0.6952\n",
      "Epoch 14/120\n",
      "22/22 [==============================] - 0s 13ms/step - loss: 0.6906 - accuracy: 0.6662 - val_loss: 0.7041 - val_accuracy: 0.6578\n",
      "Epoch 15/120\n",
      "22/22 [==============================] - 0s 15ms/step - loss: 0.6870 - accuracy: 0.6733 - val_loss: 0.6734 - val_accuracy: 0.6684\n",
      "Epoch 16/120\n",
      "22/22 [==============================] - 0s 14ms/step - loss: 0.6723 - accuracy: 0.6918 - val_loss: 0.6666 - val_accuracy: 0.7059\n",
      "Epoch 17/120\n",
      "22/22 [==============================] - 0s 15ms/step - loss: 0.6588 - accuracy: 0.7045 - val_loss: 0.6633 - val_accuracy: 0.7166\n",
      "Epoch 18/120\n",
      "22/22 [==============================] - 0s 14ms/step - loss: 0.6372 - accuracy: 0.7159 - val_loss: 0.6937 - val_accuracy: 0.7059\n",
      "Epoch 19/120\n",
      "22/22 [==============================] - 0s 13ms/step - loss: 0.6448 - accuracy: 0.7102 - val_loss: 0.6399 - val_accuracy: 0.6845\n",
      "Epoch 20/120\n",
      "22/22 [==============================] - 0s 13ms/step - loss: 0.6147 - accuracy: 0.7344 - val_loss: 0.6112 - val_accuracy: 0.7754\n",
      "Epoch 21/120\n",
      "22/22 [==============================] - 0s 13ms/step - loss: 0.6081 - accuracy: 0.7457 - val_loss: 0.5990 - val_accuracy: 0.7219\n",
      "Epoch 22/120\n",
      "22/22 [==============================] - 0s 15ms/step - loss: 0.6087 - accuracy: 0.7457 - val_loss: 0.5909 - val_accuracy: 0.7487\n",
      "Epoch 23/120\n",
      "22/22 [==============================] - 0s 14ms/step - loss: 0.5952 - accuracy: 0.7486 - val_loss: 0.5937 - val_accuracy: 0.7326\n",
      "Epoch 24/120\n",
      "22/22 [==============================] - 0s 14ms/step - loss: 0.5853 - accuracy: 0.7543 - val_loss: 0.5696 - val_accuracy: 0.7754\n",
      "Epoch 25/120\n",
      "22/22 [==============================] - 0s 14ms/step - loss: 0.5793 - accuracy: 0.7500 - val_loss: 0.5467 - val_accuracy: 0.7968\n",
      "Epoch 26/120\n",
      "22/22 [==============================] - 0s 14ms/step - loss: 0.5836 - accuracy: 0.7372 - val_loss: 0.5536 - val_accuracy: 0.7594\n",
      "Epoch 27/120\n",
      "22/22 [==============================] - 0s 14ms/step - loss: 0.5744 - accuracy: 0.7557 - val_loss: 0.5760 - val_accuracy: 0.7326\n",
      "Epoch 28/120\n",
      "22/22 [==============================] - 0s 14ms/step - loss: 0.5569 - accuracy: 0.7727 - val_loss: 0.5451 - val_accuracy: 0.7701\n",
      "Epoch 29/120\n",
      "22/22 [==============================] - 0s 14ms/step - loss: 0.5571 - accuracy: 0.7642 - val_loss: 0.5348 - val_accuracy: 0.7914\n",
      "Epoch 30/120\n",
      "22/22 [==============================] - 0s 13ms/step - loss: 0.5564 - accuracy: 0.7543 - val_loss: 0.5252 - val_accuracy: 0.8021\n",
      "Epoch 31/120\n",
      "22/22 [==============================] - 0s 13ms/step - loss: 0.5497 - accuracy: 0.7656 - val_loss: 0.5384 - val_accuracy: 0.7594\n",
      "Epoch 32/120\n",
      "22/22 [==============================] - 0s 13ms/step - loss: 0.5440 - accuracy: 0.7656 - val_loss: 0.5556 - val_accuracy: 0.7326\n",
      "Epoch 33/120\n",
      "22/22 [==============================] - 0s 13ms/step - loss: 0.5449 - accuracy: 0.7656 - val_loss: 0.5334 - val_accuracy: 0.7647\n",
      "Epoch 34/120\n",
      "22/22 [==============================] - 0s 13ms/step - loss: 0.5342 - accuracy: 0.7855 - val_loss: 0.4909 - val_accuracy: 0.8342\n",
      "Epoch 35/120\n",
      "22/22 [==============================] - 0s 13ms/step - loss: 0.5295 - accuracy: 0.7812 - val_loss: 0.5117 - val_accuracy: 0.8075\n",
      "Epoch 36/120\n",
      "22/22 [==============================] - 0s 13ms/step - loss: 0.5191 - accuracy: 0.7841 - val_loss: 0.5127 - val_accuracy: 0.8182\n",
      "Epoch 37/120\n",
      "22/22 [==============================] - 0s 13ms/step - loss: 0.5281 - accuracy: 0.7770 - val_loss: 0.4905 - val_accuracy: 0.8075\n",
      "Epoch 38/120\n",
      "22/22 [==============================] - 0s 13ms/step - loss: 0.5157 - accuracy: 0.7926 - val_loss: 0.5020 - val_accuracy: 0.7807\n",
      "Epoch 39/120\n",
      "22/22 [==============================] - 0s 14ms/step - loss: 0.5176 - accuracy: 0.7898 - val_loss: 0.5076 - val_accuracy: 0.8021\n",
      "Epoch 40/120\n",
      "22/22 [==============================] - 0s 13ms/step - loss: 0.5073 - accuracy: 0.7898 - val_loss: 0.4999 - val_accuracy: 0.8021\n",
      "Epoch 41/120\n",
      "22/22 [==============================] - 0s 14ms/step - loss: 0.5091 - accuracy: 0.7841 - val_loss: 0.5349 - val_accuracy: 0.7540\n",
      "Epoch 42/120\n",
      "22/22 [==============================] - 0s 13ms/step - loss: 0.5125 - accuracy: 0.7898 - val_loss: 0.5302 - val_accuracy: 0.7594\n",
      "Epoch 43/120\n",
      "22/22 [==============================] - 0s 13ms/step - loss: 0.5049 - accuracy: 0.7926 - val_loss: 0.5123 - val_accuracy: 0.7701\n",
      "Epoch 44/120\n",
      "22/22 [==============================] - 0s 13ms/step - loss: 0.5008 - accuracy: 0.7912 - val_loss: 0.5277 - val_accuracy: 0.7701\n",
      "Epoch 45/120\n",
      "22/22 [==============================] - 0s 13ms/step - loss: 0.4902 - accuracy: 0.7969 - val_loss: 0.4614 - val_accuracy: 0.8021\n",
      "Epoch 46/120\n",
      "22/22 [==============================] - 0s 13ms/step - loss: 0.5004 - accuracy: 0.7798 - val_loss: 0.4854 - val_accuracy: 0.8342\n",
      "Epoch 47/120\n",
      "22/22 [==============================] - 0s 13ms/step - loss: 0.5058 - accuracy: 0.7798 - val_loss: 0.4882 - val_accuracy: 0.7701\n",
      "Epoch 48/120\n",
      "22/22 [==============================] - 0s 13ms/step - loss: 0.4915 - accuracy: 0.7898 - val_loss: 0.4836 - val_accuracy: 0.7701\n",
      "Epoch 49/120\n",
      "22/22 [==============================] - 0s 13ms/step - loss: 0.5011 - accuracy: 0.7798 - val_loss: 0.4736 - val_accuracy: 0.7754\n",
      "Epoch 50/120\n",
      "22/22 [==============================] - 0s 13ms/step - loss: 0.4997 - accuracy: 0.7784 - val_loss: 0.4969 - val_accuracy: 0.7701\n",
      "Epoch 51/120\n",
      "22/22 [==============================] - 0s 14ms/step - loss: 0.4915 - accuracy: 0.7770 - val_loss: 0.4830 - val_accuracy: 0.7861\n",
      "Epoch 52/120\n",
      "22/22 [==============================] - 0s 13ms/step - loss: 0.4874 - accuracy: 0.7770 - val_loss: 0.4993 - val_accuracy: 0.7861\n",
      "Epoch 53/120\n",
      "22/22 [==============================] - 0s 13ms/step - loss: 0.4906 - accuracy: 0.7812 - val_loss: 0.5597 - val_accuracy: 0.7219\n",
      "Epoch 54/120\n",
      "22/22 [==============================] - 0s 13ms/step - loss: 0.4826 - accuracy: 0.7912 - val_loss: 0.4848 - val_accuracy: 0.7861\n",
      "Epoch 55/120\n",
      "22/22 [==============================] - 0s 13ms/step - loss: 0.4798 - accuracy: 0.7869 - val_loss: 0.5000 - val_accuracy: 0.7487\n",
      "Epoch 56/120\n",
      "22/22 [==============================] - 0s 16ms/step - loss: 0.4831 - accuracy: 0.7912 - val_loss: 0.4808 - val_accuracy: 0.8128\n",
      "Epoch 57/120\n",
      "22/22 [==============================] - 0s 16ms/step - loss: 0.4830 - accuracy: 0.7841 - val_loss: 0.5147 - val_accuracy: 0.7540\n",
      "Epoch 58/120\n"
     ]
    },
    {
     "name": "stdout",
     "output_type": "stream",
     "text": [
      "22/22 [==============================] - 0s 15ms/step - loss: 0.4785 - accuracy: 0.7869 - val_loss: 0.4296 - val_accuracy: 0.8342\n",
      "Epoch 59/120\n",
      "22/22 [==============================] - 0s 15ms/step - loss: 0.4753 - accuracy: 0.7898 - val_loss: 0.4626 - val_accuracy: 0.7968\n",
      "Epoch 60/120\n",
      "22/22 [==============================] - 0s 13ms/step - loss: 0.4719 - accuracy: 0.7884 - val_loss: 0.4578 - val_accuracy: 0.8021\n",
      "Epoch 61/120\n",
      "22/22 [==============================] - 0s 11ms/step - loss: 0.4707 - accuracy: 0.7940 - val_loss: 0.4567 - val_accuracy: 0.7914\n",
      "Epoch 62/120\n",
      "22/22 [==============================] - 0s 12ms/step - loss: 0.4629 - accuracy: 0.7997 - val_loss: 0.5101 - val_accuracy: 0.7807\n",
      "Epoch 63/120\n",
      "22/22 [==============================] - 0s 12ms/step - loss: 0.4696 - accuracy: 0.7983 - val_loss: 0.4772 - val_accuracy: 0.8021\n",
      "Epoch 64/120\n",
      "22/22 [==============================] - 0s 12ms/step - loss: 0.4641 - accuracy: 0.7997 - val_loss: 0.4516 - val_accuracy: 0.8075\n",
      "Epoch 65/120\n",
      "22/22 [==============================] - 0s 13ms/step - loss: 0.4760 - accuracy: 0.7855 - val_loss: 0.4952 - val_accuracy: 0.7807\n",
      "Epoch 66/120\n",
      "22/22 [==============================] - 0s 12ms/step - loss: 0.4586 - accuracy: 0.7940 - val_loss: 0.5411 - val_accuracy: 0.7433\n",
      "Epoch 67/120\n",
      "22/22 [==============================] - 0s 16ms/step - loss: 0.4575 - accuracy: 0.8111 - val_loss: 0.4819 - val_accuracy: 0.7647\n",
      "Epoch 68/120\n",
      "22/22 [==============================] - 0s 12ms/step - loss: 0.4776 - accuracy: 0.7798 - val_loss: 0.4360 - val_accuracy: 0.8021\n",
      "Epoch 69/120\n",
      "22/22 [==============================] - 0s 13ms/step - loss: 0.4607 - accuracy: 0.7940 - val_loss: 0.4171 - val_accuracy: 0.8182\n",
      "Epoch 70/120\n",
      "22/22 [==============================] - 0s 12ms/step - loss: 0.4710 - accuracy: 0.7827 - val_loss: 0.4365 - val_accuracy: 0.7968\n",
      "Epoch 71/120\n",
      "22/22 [==============================] - 0s 13ms/step - loss: 0.4796 - accuracy: 0.7827 - val_loss: 0.4578 - val_accuracy: 0.8021\n",
      "Epoch 72/120\n",
      "22/22 [==============================] - 0s 12ms/step - loss: 0.4598 - accuracy: 0.7912 - val_loss: 0.4526 - val_accuracy: 0.7968\n",
      "Epoch 73/120\n",
      "22/22 [==============================] - 0s 13ms/step - loss: 0.4620 - accuracy: 0.7898 - val_loss: 0.4508 - val_accuracy: 0.8235\n",
      "Epoch 74/120\n",
      "22/22 [==============================] - 0s 13ms/step - loss: 0.4682 - accuracy: 0.7969 - val_loss: 0.4516 - val_accuracy: 0.7968\n",
      "Epoch 75/120\n",
      "22/22 [==============================] - 0s 13ms/step - loss: 0.4695 - accuracy: 0.7898 - val_loss: 0.4409 - val_accuracy: 0.8235\n",
      "Epoch 76/120\n",
      "22/22 [==============================] - 0s 13ms/step - loss: 0.4715 - accuracy: 0.7827 - val_loss: 0.4656 - val_accuracy: 0.7968\n",
      "Epoch 77/120\n",
      "22/22 [==============================] - 0s 13ms/step - loss: 0.4623 - accuracy: 0.7955 - val_loss: 0.4670 - val_accuracy: 0.7807\n",
      "Epoch 78/120\n",
      "22/22 [==============================] - 0s 13ms/step - loss: 0.4748 - accuracy: 0.7812 - val_loss: 0.4480 - val_accuracy: 0.8182\n",
      "Epoch 79/120\n",
      "22/22 [==============================] - 0s 13ms/step - loss: 0.4632 - accuracy: 0.7955 - val_loss: 0.4534 - val_accuracy: 0.8075\n",
      "Epoch 80/120\n",
      "22/22 [==============================] - 0s 13ms/step - loss: 0.4584 - accuracy: 0.7926 - val_loss: 0.4210 - val_accuracy: 0.8289\n",
      "Epoch 81/120\n",
      "22/22 [==============================] - 0s 13ms/step - loss: 0.4629 - accuracy: 0.7898 - val_loss: 0.4372 - val_accuracy: 0.8182\n",
      "Epoch 82/120\n",
      "22/22 [==============================] - 0s 12ms/step - loss: 0.4653 - accuracy: 0.7869 - val_loss: 0.4066 - val_accuracy: 0.8289\n",
      "Epoch 83/120\n",
      "22/22 [==============================] - 0s 13ms/step - loss: 0.4675 - accuracy: 0.7798 - val_loss: 0.3898 - val_accuracy: 0.8717\n",
      "Epoch 84/120\n",
      "22/22 [==============================] - 0s 13ms/step - loss: 0.4657 - accuracy: 0.7855 - val_loss: 0.4376 - val_accuracy: 0.8021\n",
      "Epoch 85/120\n",
      "22/22 [==============================] - 0s 13ms/step - loss: 0.4619 - accuracy: 0.7926 - val_loss: 0.4618 - val_accuracy: 0.7914\n",
      "Epoch 86/120\n",
      "22/22 [==============================] - 0s 13ms/step - loss: 0.4621 - accuracy: 0.7898 - val_loss: 0.4346 - val_accuracy: 0.8021\n",
      "Epoch 87/120\n",
      "22/22 [==============================] - 0s 13ms/step - loss: 0.4600 - accuracy: 0.7940 - val_loss: 0.4833 - val_accuracy: 0.8021\n",
      "Epoch 88/120\n",
      "22/22 [==============================] - 0s 13ms/step - loss: 0.4538 - accuracy: 0.7983 - val_loss: 0.5140 - val_accuracy: 0.7273\n",
      "Epoch 89/120\n",
      "22/22 [==============================] - 0s 13ms/step - loss: 0.4533 - accuracy: 0.8011 - val_loss: 0.5159 - val_accuracy: 0.7487\n",
      "Epoch 90/120\n",
      "22/22 [==============================] - 0s 12ms/step - loss: 0.4510 - accuracy: 0.7997 - val_loss: 0.4652 - val_accuracy: 0.7968\n",
      "Epoch 91/120\n",
      "22/22 [==============================] - 0s 13ms/step - loss: 0.4462 - accuracy: 0.7969 - val_loss: 0.4548 - val_accuracy: 0.7754\n",
      "Epoch 92/120\n",
      "22/22 [==============================] - 0s 12ms/step - loss: 0.4540 - accuracy: 0.7884 - val_loss: 0.4300 - val_accuracy: 0.8289\n",
      "Epoch 93/120\n",
      "22/22 [==============================] - 0s 13ms/step - loss: 0.4568 - accuracy: 0.7983 - val_loss: 0.4794 - val_accuracy: 0.7807\n",
      "Epoch 94/120\n",
      "22/22 [==============================] - 0s 14ms/step - loss: 0.4512 - accuracy: 0.8011 - val_loss: 0.4300 - val_accuracy: 0.8396\n",
      "Epoch 95/120\n",
      "22/22 [==============================] - 0s 13ms/step - loss: 0.4559 - accuracy: 0.7884 - val_loss: 0.3759 - val_accuracy: 0.8503\n",
      "Epoch 96/120\n",
      "22/22 [==============================] - 0s 13ms/step - loss: 0.4497 - accuracy: 0.8040 - val_loss: 0.4405 - val_accuracy: 0.8128\n",
      "Epoch 97/120\n",
      "22/22 [==============================] - 0s 13ms/step - loss: 0.4551 - accuracy: 0.7955 - val_loss: 0.4355 - val_accuracy: 0.7968\n",
      "Epoch 98/120\n",
      "22/22 [==============================] - 0s 13ms/step - loss: 0.4436 - accuracy: 0.8026 - val_loss: 0.4590 - val_accuracy: 0.7914\n",
      "Epoch 99/120\n",
      "22/22 [==============================] - 0s 13ms/step - loss: 0.4553 - accuracy: 0.7983 - val_loss: 0.4943 - val_accuracy: 0.7487\n",
      "Epoch 100/120\n",
      "22/22 [==============================] - 0s 13ms/step - loss: 0.4620 - accuracy: 0.7869 - val_loss: 0.4361 - val_accuracy: 0.8235\n",
      "Epoch 101/120\n",
      "22/22 [==============================] - 0s 13ms/step - loss: 0.4510 - accuracy: 0.8054 - val_loss: 0.4889 - val_accuracy: 0.7701\n",
      "Epoch 102/120\n",
      "22/22 [==============================] - 0s 14ms/step - loss: 0.4628 - accuracy: 0.7940 - val_loss: 0.4407 - val_accuracy: 0.8075\n",
      "Epoch 103/120\n",
      "22/22 [==============================] - 0s 13ms/step - loss: 0.4562 - accuracy: 0.7955 - val_loss: 0.4432 - val_accuracy: 0.8021\n",
      "Epoch 104/120\n",
      "22/22 [==============================] - 0s 13ms/step - loss: 0.4436 - accuracy: 0.7997 - val_loss: 0.4358 - val_accuracy: 0.7701\n",
      "Epoch 105/120\n",
      "22/22 [==============================] - 0s 14ms/step - loss: 0.4658 - accuracy: 0.7827 - val_loss: 0.4510 - val_accuracy: 0.8075\n",
      "Epoch 106/120\n",
      "22/22 [==============================] - 0s 13ms/step - loss: 0.4645 - accuracy: 0.7869 - val_loss: 0.4324 - val_accuracy: 0.8182\n",
      "Epoch 107/120\n",
      "22/22 [==============================] - 0s 13ms/step - loss: 0.4464 - accuracy: 0.7983 - val_loss: 0.5103 - val_accuracy: 0.7861\n",
      "Epoch 108/120\n",
      "22/22 [==============================] - 0s 22ms/step - loss: 0.4609 - accuracy: 0.7955 - val_loss: 0.4225 - val_accuracy: 0.8075\n",
      "Epoch 109/120\n",
      "22/22 [==============================] - 0s 11ms/step - loss: 0.4646 - accuracy: 0.7855 - val_loss: 0.5054 - val_accuracy: 0.7594\n",
      "Epoch 110/120\n",
      "22/22 [==============================] - 0s 11ms/step - loss: 0.4429 - accuracy: 0.8011 - val_loss: 0.4263 - val_accuracy: 0.8289\n",
      "Epoch 111/120\n",
      "22/22 [==============================] - 0s 11ms/step - loss: 0.4443 - accuracy: 0.7969 - val_loss: 0.3987 - val_accuracy: 0.8396\n",
      "Epoch 112/120\n",
      "22/22 [==============================] - 0s 12ms/step - loss: 0.4530 - accuracy: 0.8026 - val_loss: 0.4959 - val_accuracy: 0.7701\n",
      "Epoch 113/120\n",
      "22/22 [==============================] - 0s 12ms/step - loss: 0.4554 - accuracy: 0.7940 - val_loss: 0.4655 - val_accuracy: 0.7968\n",
      "Epoch 114/120\n",
      "22/22 [==============================] - 0s 12ms/step - loss: 0.4499 - accuracy: 0.7955 - val_loss: 0.4630 - val_accuracy: 0.7861\n",
      "Epoch 115/120\n"
     ]
    },
    {
     "name": "stdout",
     "output_type": "stream",
     "text": [
      "22/22 [==============================] - 0s 12ms/step - loss: 0.4427 - accuracy: 0.7997 - val_loss: 0.4346 - val_accuracy: 0.8182\n",
      "Epoch 116/120\n",
      "22/22 [==============================] - 0s 13ms/step - loss: 0.4533 - accuracy: 0.7912 - val_loss: 0.4030 - val_accuracy: 0.8289\n",
      "Epoch 117/120\n",
      "22/22 [==============================] - 0s 13ms/step - loss: 0.4564 - accuracy: 0.7884 - val_loss: 0.4058 - val_accuracy: 0.8021\n",
      "Epoch 118/120\n",
      "22/22 [==============================] - 0s 12ms/step - loss: 0.4547 - accuracy: 0.7884 - val_loss: 0.3819 - val_accuracy: 0.8396\n",
      "Epoch 119/120\n",
      "22/22 [==============================] - 0s 14ms/step - loss: 0.4466 - accuracy: 0.8026 - val_loss: 0.4038 - val_accuracy: 0.8396\n",
      "Epoch 120/120\n",
      "22/22 [==============================] - 0s 13ms/step - loss: 0.4506 - accuracy: 0.8026 - val_loss: 0.3969 - val_accuracy: 0.8289\n",
      "CPU times: user 49.3 s, sys: 20.4 s, total: 1min 9s\n",
      "Wall time: 44.3 s\n"
     ]
    }
   ],
   "source": [
    "%time history = model.fit(training_data, epochs=EPOCHS, validation_data=validation_data)"
   ]
  },
  {
   "cell_type": "markdown",
   "id": "97a2081c",
   "metadata": {},
   "source": [
    "## Save the checkpoint\n",
    "\n",
    "For now I will just be saving the final training result (instead of using a callback) and using the SavedModel format so that the model can be loaded without rebuilding the architecture."
   ]
  },
  {
   "cell_type": "code",
   "execution_count": 39,
   "id": "84d18895",
   "metadata": {},
   "outputs": [
    {
     "name": "stdout",
     "output_type": "stream",
     "text": [
      "INFO:tensorflow:Unsupported signature for serialization: ((TensorSpec(shape=(10, 1), dtype=tf.float32, name='gradient'), <tensorflow.python.framework.func_graph.UnknownArgument object at 0x7f2f54607bd0>, 139841788341312), {}).\n"
     ]
    },
    {
     "name": "stderr",
     "output_type": "stream",
     "text": [
      "INFO:tensorflow:Unsupported signature for serialization: ((TensorSpec(shape=(10, 1), dtype=tf.float32, name='gradient'), <tensorflow.python.framework.func_graph.UnknownArgument object at 0x7f2f54607bd0>, 139841788341312), {}).\n"
     ]
    },
    {
     "name": "stdout",
     "output_type": "stream",
     "text": [
      "INFO:tensorflow:Unsupported signature for serialization: ((TensorSpec(shape=(1,), dtype=tf.float32, name='gradient'), <tensorflow.python.framework.func_graph.UnknownArgument object at 0x7f2f54611310>, 139841257547264), {}).\n"
     ]
    },
    {
     "name": "stderr",
     "output_type": "stream",
     "text": [
      "INFO:tensorflow:Unsupported signature for serialization: ((TensorSpec(shape=(1,), dtype=tf.float32, name='gradient'), <tensorflow.python.framework.func_graph.UnknownArgument object at 0x7f2f54611310>, 139841257547264), {}).\n"
     ]
    },
    {
     "name": "stdout",
     "output_type": "stream",
     "text": [
      "INFO:tensorflow:Unsupported signature for serialization: ((TensorSpec(shape=(10, 1), dtype=tf.float32, name='gradient'), <tensorflow.python.framework.func_graph.UnknownArgument object at 0x7f2f54607bd0>, 139841788341312), {}).\n"
     ]
    },
    {
     "name": "stderr",
     "output_type": "stream",
     "text": [
      "INFO:tensorflow:Unsupported signature for serialization: ((TensorSpec(shape=(10, 1), dtype=tf.float32, name='gradient'), <tensorflow.python.framework.func_graph.UnknownArgument object at 0x7f2f54607bd0>, 139841788341312), {}).\n"
     ]
    },
    {
     "name": "stdout",
     "output_type": "stream",
     "text": [
      "INFO:tensorflow:Unsupported signature for serialization: ((TensorSpec(shape=(1,), dtype=tf.float32, name='gradient'), <tensorflow.python.framework.func_graph.UnknownArgument object at 0x7f2f54611310>, 139841257547264), {}).\n"
     ]
    },
    {
     "name": "stderr",
     "output_type": "stream",
     "text": [
      "INFO:tensorflow:Unsupported signature for serialization: ((TensorSpec(shape=(1,), dtype=tf.float32, name='gradient'), <tensorflow.python.framework.func_graph.UnknownArgument object at 0x7f2f54611310>, 139841257547264), {}).\n",
      "WARNING:absl:Found untraced functions such as _update_step_xla while saving (showing 1 of 1). These functions will not be directly callable after loading.\n"
     ]
    },
    {
     "name": "stdout",
     "output_type": "stream",
     "text": [
      "INFO:tensorflow:Assets written to: /mnt/p/Models/kaggle-titanic/1_0.001_120_32_/assets\n"
     ]
    },
    {
     "name": "stderr",
     "output_type": "stream",
     "text": [
      "INFO:tensorflow:Assets written to: /mnt/p/Models/kaggle-titanic/1_0.001_120_32_/assets\n"
     ]
    },
    {
     "data": {
      "text/plain": [
       "True"
      ]
     },
     "execution_count": 39,
     "metadata": {},
     "output_type": "execute_result"
    }
   ],
   "source": [
    "layer_units_chunk = ','.join([str(unit) for unit in LAYER_UNITS])\n",
    "hyperparameters = [layer_units_chunk, LEARNING_RATE, EPOCHS, BATCH_SIZE, FILE_MODS]\n",
    "checkpoint_chunks = [str(hyperparameter) for hyperparameter in hyperparameters]\n",
    "checkpoint_name = '_'.join(checkpoint_chunks)\n",
    "checkpoint_path = os.path.join(MODEL_FOLDER, checkpoint_name)\n",
    "\n",
    "model.save(checkpoint_path) # automatically overwrites and uses SavedModel format w/ optimizer\n",
    "\n",
    "os.path.exists(checkpoint_path)  # This is a folder containing a bunch of stuff inside (not a single file)"
   ]
  },
  {
   "cell_type": "markdown",
   "id": "a11938f1",
   "metadata": {},
   "source": [
    "## Analyze the Learning Curve"
   ]
  },
  {
   "cell_type": "code",
   "execution_count": 40,
   "id": "d6fc59db",
   "metadata": {},
   "outputs": [
    {
     "data": {
      "image/png": "[encoded data removed]",
      "text/plain": [
       "<Figure size 1000x1200 with 3 Axes>"
      ]
     },
     "metadata": {},
     "output_type": "display_data"
    },
    {
     "name": "stdout",
     "output_type": "stream",
     "text": [
      "Model: \"sequential_1\"\n",
      "_________________________________________________________________\n",
      " Layer (type)                Output Shape              Param #   \n",
      "=================================================================\n",
      " dense_1 (Dense)             (None, 1)                 11        \n",
      "                                                                 \n",
      "=================================================================\n",
      "Total params: 11\n",
      "Trainable params: 11\n",
      "Non-trainable params: 0\n",
      "_________________________________________________________________\n"
     ]
    }
   ],
   "source": [
    "visualization.graph_training_stats(history)\n",
    "model.summary()"
   ]
  },
  {
   "cell_type": "markdown",
   "id": "8eb889d9",
   "metadata": {},
   "source": [
    "## Aggregate Stats for Model Selection\n",
    "\n",
    "Rather than show all the plots and stats in this notebook for all the models I tried, I'm just going to hardcode a table.  Also, if I go in one direction (eg. try changing the batch size) and it performs worse than the best, I will tend to try other things to fix it or make it better than the best so far - I don't spend the time to document all the combinations here.\n",
    "\n",
    "Note that the first row is entirely equivalent to __logistic regression__.\n",
    "\n",
    "Also, only training runs that looked to be leveling off at the end are included.  If not, then I added epochs and tried again.  If the graph shows I included too many epochs, I do it again with just enough so that things are better comparable.\n",
    "\n",
    "With the larger batch sizes, validation accuracy became extremely noisy, so even though the larger batch sizes appear to have much larger validation accuracies, it's not gauranteed this will generalize well to the test set."
   ]
  },
  {
   "cell_type": "markdown",
   "id": "03bad339",
   "metadata": {},
   "source": [
    "| Architecture | Learning Rate | Batch Size | Epochs |     | Training Accuracy (%) | Validation Accuracy (%) | Wall Time (s) |\n",
    "| :-----------:|:-------------:|:----------:|:------:|:---:| :--------------------:|:-----------------------:|:-------------:|\n",
    "| *[1]*        | *0.001*       | *32*       | *120*  |  -  | 81.8%                 | 82.9%                   | 43.4          |\n",
    "| *[5,1]*      | *0.001*       | *32*       | *50*   |  -  | 80.0%                 | 76.5%                   | 19.8          |\n",
    "| *[5,5,1]*    | *0.001*       | *32*       | *40*   |  -  | 83.4%                 | 77.5%                   | 17.1          |\n",
    "| *[10,5,1]*   | *0.001*       | *32*       | *40*   |  -  | 82.5%                 | 78.6%                   | 17.0          |\n",
    "| *[100,100,1]*| *0.001*       | *32*       | *40*   |  -  | 85.5%                 | 78.6%                   | 16.3          |\n",
    "| *[1]*        | *0.010*       | *100*      | *25*   |  -  | 80.0%                 | 85.9%                   | 7.4           |\n",
    "| *[5,5,1]*    | *0.010*       | *100*      | *20*   |  -  | 83.1%                 | 85.9%                   | 6.6           |"
   ]
  },
  {
   "cell_type": "markdown",
   "id": "38cb4703",
   "metadata": {},
   "source": [
    "## Trying Dropout and BatchNorm\n",
    "\n",
    "This does not appear to have helped in this case."
   ]
  },
  {
   "cell_type": "code",
   "execution_count": 265,
   "id": "699e082a",
   "metadata": {},
   "outputs": [
    {
     "name": "stdout",
     "output_type": "stream",
     "text": [
      "Epoch 1/100\n",
      "22/22 [==============================] - 2s 28ms/step - loss: 0.7703 - accuracy: 0.5142 - val_loss: 0.6437 - val_accuracy: 0.6043\n",
      "Epoch 2/100\n",
      "22/22 [==============================] - 1s 25ms/step - loss: 0.6862 - accuracy: 0.5966 - val_loss: 0.6170 - val_accuracy: 0.6471\n",
      "Epoch 3/100\n",
      "22/22 [==============================] - 0s 17ms/step - loss: 0.6474 - accuracy: 0.6307 - val_loss: 0.6365 - val_accuracy: 0.5936\n",
      "Epoch 4/100\n",
      "22/22 [==============================] - 0s 17ms/step - loss: 0.6488 - accuracy: 0.6278 - val_loss: 0.5966 - val_accuracy: 0.6310\n",
      "Epoch 5/100\n",
      "22/22 [==============================] - 0s 17ms/step - loss: 0.6419 - accuracy: 0.6307 - val_loss: 0.6041 - val_accuracy: 0.6096\n",
      "Epoch 6/100\n",
      "22/22 [==============================] - 0s 18ms/step - loss: 0.6053 - accuracy: 0.6960 - val_loss: 0.5788 - val_accuracy: 0.7807\n",
      "Epoch 7/100\n",
      "22/22 [==============================] - 0s 20ms/step - loss: 0.6050 - accuracy: 0.6946 - val_loss: 0.5423 - val_accuracy: 0.7807\n",
      "Epoch 8/100\n",
      "22/22 [==============================] - 0s 21ms/step - loss: 0.6372 - accuracy: 0.6591 - val_loss: 0.5704 - val_accuracy: 0.7594\n",
      "Epoch 9/100\n",
      "22/22 [==============================] - 0s 20ms/step - loss: 0.6086 - accuracy: 0.6832 - val_loss: 0.5469 - val_accuracy: 0.7807\n",
      "Epoch 10/100\n",
      "22/22 [==============================] - 0s 21ms/step - loss: 0.6136 - accuracy: 0.6761 - val_loss: 0.5373 - val_accuracy: 0.7968\n",
      "Epoch 11/100\n",
      "22/22 [==============================] - 0s 18ms/step - loss: 0.5946 - accuracy: 0.6861 - val_loss: 0.5498 - val_accuracy: 0.7914\n",
      "Epoch 12/100\n",
      "22/22 [==============================] - 0s 18ms/step - loss: 0.5705 - accuracy: 0.7159 - val_loss: 0.5042 - val_accuracy: 0.8235\n",
      "Epoch 13/100\n",
      "22/22 [==============================] - 0s 18ms/step - loss: 0.5903 - accuracy: 0.7074 - val_loss: 0.5297 - val_accuracy: 0.7861\n",
      "Epoch 14/100\n",
      "22/22 [==============================] - 0s 20ms/step - loss: 0.5640 - accuracy: 0.7230 - val_loss: 0.4922 - val_accuracy: 0.8235\n",
      "Epoch 15/100\n",
      "22/22 [==============================] - 1s 22ms/step - loss: 0.5631 - accuracy: 0.7259 - val_loss: 0.4766 - val_accuracy: 0.8396\n",
      "Epoch 16/100\n",
      "22/22 [==============================] - 0s 21ms/step - loss: 0.5624 - accuracy: 0.7358 - val_loss: 0.5165 - val_accuracy: 0.7754\n",
      "Epoch 17/100\n",
      "22/22 [==============================] - 0s 21ms/step - loss: 0.5547 - accuracy: 0.7358 - val_loss: 0.4797 - val_accuracy: 0.8075\n",
      "Epoch 18/100\n",
      "22/22 [==============================] - 0s 21ms/step - loss: 0.5359 - accuracy: 0.7401 - val_loss: 0.5096 - val_accuracy: 0.7861\n",
      "Epoch 19/100\n",
      "22/22 [==============================] - 0s 21ms/step - loss: 0.5598 - accuracy: 0.7415 - val_loss: 0.5344 - val_accuracy: 0.7487\n",
      "Epoch 20/100\n",
      "22/22 [==============================] - 0s 21ms/step - loss: 0.5729 - accuracy: 0.7230 - val_loss: 0.4940 - val_accuracy: 0.7914\n",
      "Epoch 21/100\n",
      "22/22 [==============================] - 0s 20ms/step - loss: 0.5638 - accuracy: 0.7344 - val_loss: 0.4609 - val_accuracy: 0.8342\n",
      "Epoch 22/100\n",
      "22/22 [==============================] - 0s 19ms/step - loss: 0.5592 - accuracy: 0.7344 - val_loss: 0.5129 - val_accuracy: 0.7701\n",
      "Epoch 23/100\n",
      "22/22 [==============================] - 0s 20ms/step - loss: 0.5281 - accuracy: 0.7429 - val_loss: 0.4607 - val_accuracy: 0.8289\n",
      "Epoch 24/100\n",
      "22/22 [==============================] - 0s 20ms/step - loss: 0.5411 - accuracy: 0.7472 - val_loss: 0.4895 - val_accuracy: 0.8075\n",
      "Epoch 25/100\n",
      "22/22 [==============================] - 1s 22ms/step - loss: 0.5480 - accuracy: 0.7599 - val_loss: 0.4763 - val_accuracy: 0.7914\n",
      "Epoch 26/100\n",
      "22/22 [==============================] - 0s 19ms/step - loss: 0.5817 - accuracy: 0.7088 - val_loss: 0.4941 - val_accuracy: 0.7968\n",
      "Epoch 27/100\n",
      "22/22 [==============================] - 0s 17ms/step - loss: 0.5756 - accuracy: 0.7259 - val_loss: 0.4935 - val_accuracy: 0.7807\n",
      "Epoch 28/100\n",
      "22/22 [==============================] - 0s 18ms/step - loss: 0.5753 - accuracy: 0.7259 - val_loss: 0.4810 - val_accuracy: 0.8128\n",
      "Epoch 29/100\n",
      "22/22 [==============================] - 0s 19ms/step - loss: 0.5562 - accuracy: 0.7330 - val_loss: 0.4705 - val_accuracy: 0.8235\n",
      "Epoch 30/100\n",
      "22/22 [==============================] - 0s 21ms/step - loss: 0.5245 - accuracy: 0.7685 - val_loss: 0.4708 - val_accuracy: 0.8021\n",
      "Epoch 31/100\n",
      "22/22 [==============================] - 0s 20ms/step - loss: 0.5469 - accuracy: 0.7443 - val_loss: 0.4746 - val_accuracy: 0.8021\n",
      "Epoch 32/100\n",
      "22/22 [==============================] - 0s 17ms/step - loss: 0.5262 - accuracy: 0.7685 - val_loss: 0.4693 - val_accuracy: 0.8289\n",
      "Epoch 33/100\n",
      "22/22 [==============================] - 0s 18ms/step - loss: 0.5535 - accuracy: 0.7571 - val_loss: 0.4996 - val_accuracy: 0.7754\n",
      "Epoch 34/100\n",
      "22/22 [==============================] - 0s 17ms/step - loss: 0.5638 - accuracy: 0.7429 - val_loss: 0.4723 - val_accuracy: 0.8182\n",
      "Epoch 35/100\n",
      "22/22 [==============================] - 0s 18ms/step - loss: 0.5534 - accuracy: 0.7486 - val_loss: 0.4814 - val_accuracy: 0.8021\n",
      "Epoch 36/100\n",
      "22/22 [==============================] - 0s 20ms/step - loss: 0.5444 - accuracy: 0.7486 - val_loss: 0.4666 - val_accuracy: 0.7968\n",
      "Epoch 37/100\n",
      "22/22 [==============================] - 0s 20ms/step - loss: 0.5392 - accuracy: 0.7415 - val_loss: 0.4690 - val_accuracy: 0.8182\n",
      "Epoch 38/100\n",
      "22/22 [==============================] - 0s 21ms/step - loss: 0.5472 - accuracy: 0.7457 - val_loss: 0.4328 - val_accuracy: 0.8396\n",
      "Epoch 39/100\n",
      "22/22 [==============================] - 0s 20ms/step - loss: 0.5474 - accuracy: 0.7486 - val_loss: 0.4560 - val_accuracy: 0.8289\n",
      "Epoch 40/100\n",
      "22/22 [==============================] - 0s 19ms/step - loss: 0.5550 - accuracy: 0.7330 - val_loss: 0.4922 - val_accuracy: 0.7807\n",
      "Epoch 41/100\n",
      "22/22 [==============================] - 0s 21ms/step - loss: 0.5389 - accuracy: 0.7415 - val_loss: 0.4373 - val_accuracy: 0.8128\n",
      "Epoch 42/100\n",
      "22/22 [==============================] - 0s 21ms/step - loss: 0.5434 - accuracy: 0.7415 - val_loss: 0.4869 - val_accuracy: 0.7754\n",
      "Epoch 43/100\n",
      "22/22 [==============================] - 0s 17ms/step - loss: 0.5259 - accuracy: 0.7528 - val_loss: 0.3830 - val_accuracy: 0.8717\n",
      "Epoch 44/100\n",
      "22/22 [==============================] - 0s 17ms/step - loss: 0.5460 - accuracy: 0.7571 - val_loss: 0.4697 - val_accuracy: 0.8182\n",
      "Epoch 45/100\n",
      "22/22 [==============================] - 0s 18ms/step - loss: 0.5222 - accuracy: 0.7642 - val_loss: 0.4292 - val_accuracy: 0.8182\n",
      "Epoch 46/100\n",
      "22/22 [==============================] - 0s 20ms/step - loss: 0.5651 - accuracy: 0.7244 - val_loss: 0.4490 - val_accuracy: 0.8289\n",
      "Epoch 47/100\n",
      "22/22 [==============================] - 0s 21ms/step - loss: 0.5336 - accuracy: 0.7642 - val_loss: 0.4432 - val_accuracy: 0.8128\n",
      "Epoch 48/100\n",
      "22/22 [==============================] - 0s 15ms/step - loss: 0.5328 - accuracy: 0.7500 - val_loss: 0.4759 - val_accuracy: 0.8075\n",
      "Epoch 49/100\n",
      "22/22 [==============================] - 0s 15ms/step - loss: 0.5114 - accuracy: 0.7585 - val_loss: 0.4313 - val_accuracy: 0.8342\n",
      "Epoch 50/100\n",
      "22/22 [==============================] - 0s 15ms/step - loss: 0.5296 - accuracy: 0.7713 - val_loss: 0.4215 - val_accuracy: 0.8503\n",
      "Epoch 51/100\n",
      "22/22 [==============================] - 0s 15ms/step - loss: 0.5212 - accuracy: 0.7841 - val_loss: 0.4896 - val_accuracy: 0.7807\n",
      "Epoch 52/100\n",
      "22/22 [==============================] - 0s 18ms/step - loss: 0.5266 - accuracy: 0.7472 - val_loss: 0.4167 - val_accuracy: 0.8289\n",
      "Epoch 53/100\n",
      "22/22 [==============================] - 0s 19ms/step - loss: 0.5268 - accuracy: 0.7514 - val_loss: 0.4667 - val_accuracy: 0.7914\n",
      "Epoch 54/100\n",
      "22/22 [==============================] - 0s 19ms/step - loss: 0.5254 - accuracy: 0.7741 - val_loss: 0.4582 - val_accuracy: 0.7861\n",
      "Epoch 55/100\n",
      "22/22 [==============================] - 0s 19ms/step - loss: 0.5188 - accuracy: 0.7614 - val_loss: 0.4506 - val_accuracy: 0.8128\n",
      "Epoch 56/100\n",
      "22/22 [==============================] - 0s 21ms/step - loss: 0.5178 - accuracy: 0.7642 - val_loss: 0.4239 - val_accuracy: 0.8235\n",
      "Epoch 57/100\n",
      "22/22 [==============================] - 0s 19ms/step - loss: 0.5353 - accuracy: 0.7528 - val_loss: 0.4851 - val_accuracy: 0.7754\n",
      "Epoch 58/100\n",
      "22/22 [==============================] - 0s 19ms/step - loss: 0.4816 - accuracy: 0.7798 - val_loss: 0.3854 - val_accuracy: 0.8717\n",
      "Epoch 59/100\n",
      "22/22 [==============================] - 0s 19ms/step - loss: 0.5259 - accuracy: 0.7486 - val_loss: 0.5087 - val_accuracy: 0.7594\n",
      "Epoch 60/100\n",
      "22/22 [==============================] - 0s 19ms/step - loss: 0.5500 - accuracy: 0.7273 - val_loss: 0.4298 - val_accuracy: 0.8235\n",
      "Epoch 61/100\n",
      "22/22 [==============================] - 0s 19ms/step - loss: 0.5310 - accuracy: 0.7543 - val_loss: 0.4541 - val_accuracy: 0.8182\n",
      "Epoch 62/100\n",
      "22/22 [==============================] - 0s 22ms/step - loss: 0.5178 - accuracy: 0.7486 - val_loss: 0.4804 - val_accuracy: 0.7807\n",
      "Epoch 63/100\n",
      "22/22 [==============================] - 0s 19ms/step - loss: 0.5374 - accuracy: 0.7656 - val_loss: 0.4532 - val_accuracy: 0.7968\n",
      "Epoch 64/100\n",
      "22/22 [==============================] - 0s 19ms/step - loss: 0.5560 - accuracy: 0.7443 - val_loss: 0.4306 - val_accuracy: 0.8235\n",
      "Epoch 65/100\n",
      "22/22 [==============================] - 0s 20ms/step - loss: 0.5477 - accuracy: 0.7557 - val_loss: 0.4220 - val_accuracy: 0.8342\n",
      "Epoch 66/100\n",
      "22/22 [==============================] - 0s 21ms/step - loss: 0.5175 - accuracy: 0.7614 - val_loss: 0.4402 - val_accuracy: 0.8021\n",
      "Epoch 67/100\n",
      "22/22 [==============================] - 0s 19ms/step - loss: 0.5543 - accuracy: 0.7614 - val_loss: 0.4571 - val_accuracy: 0.8021\n",
      "Epoch 68/100\n",
      "22/22 [==============================] - 0s 19ms/step - loss: 0.5274 - accuracy: 0.7528 - val_loss: 0.4457 - val_accuracy: 0.8182\n",
      "Epoch 69/100\n",
      "22/22 [==============================] - 0s 20ms/step - loss: 0.5474 - accuracy: 0.7500 - val_loss: 0.4421 - val_accuracy: 0.8235\n",
      "Epoch 70/100\n",
      "22/22 [==============================] - 0s 21ms/step - loss: 0.5479 - accuracy: 0.7543 - val_loss: 0.4770 - val_accuracy: 0.7861\n",
      "Epoch 71/100\n",
      "22/22 [==============================] - 0s 20ms/step - loss: 0.5340 - accuracy: 0.7557 - val_loss: 0.4294 - val_accuracy: 0.8182\n",
      "Epoch 72/100\n",
      "22/22 [==============================] - 0s 22ms/step - loss: 0.5408 - accuracy: 0.7514 - val_loss: 0.4770 - val_accuracy: 0.7807\n",
      "Epoch 73/100\n",
      "22/22 [==============================] - 0s 17ms/step - loss: 0.5229 - accuracy: 0.7557 - val_loss: 0.4355 - val_accuracy: 0.8075\n",
      "Epoch 74/100\n",
      "22/22 [==============================] - 0s 17ms/step - loss: 0.5252 - accuracy: 0.7656 - val_loss: 0.4950 - val_accuracy: 0.7861\n",
      "Epoch 75/100\n",
      "22/22 [==============================] - 0s 18ms/step - loss: 0.5068 - accuracy: 0.7642 - val_loss: 0.4461 - val_accuracy: 0.8021\n",
      "Epoch 76/100\n",
      "22/22 [==============================] - 0s 18ms/step - loss: 0.5604 - accuracy: 0.7429 - val_loss: 0.4222 - val_accuracy: 0.7968\n",
      "Epoch 77/100\n",
      "22/22 [==============================] - 1s 24ms/step - loss: 0.5395 - accuracy: 0.7401 - val_loss: 0.4260 - val_accuracy: 0.8396\n",
      "Epoch 78/100\n",
      "22/22 [==============================] - 0s 18ms/step - loss: 0.5224 - accuracy: 0.7628 - val_loss: 0.4234 - val_accuracy: 0.8396\n",
      "Epoch 79/100\n",
      "22/22 [==============================] - 0s 17ms/step - loss: 0.5131 - accuracy: 0.7585 - val_loss: 0.4238 - val_accuracy: 0.8342\n",
      "Epoch 80/100\n",
      "22/22 [==============================] - 0s 17ms/step - loss: 0.5535 - accuracy: 0.7656 - val_loss: 0.4277 - val_accuracy: 0.8289\n",
      "Epoch 81/100\n",
      "22/22 [==============================] - 0s 18ms/step - loss: 0.5322 - accuracy: 0.7557 - val_loss: 0.4897 - val_accuracy: 0.7647\n",
      "Epoch 82/100\n",
      "22/22 [==============================] - 1s 23ms/step - loss: 0.5269 - accuracy: 0.7514 - val_loss: 0.4354 - val_accuracy: 0.8235\n",
      "Epoch 83/100\n",
      "22/22 [==============================] - 0s 18ms/step - loss: 0.5244 - accuracy: 0.7699 - val_loss: 0.4099 - val_accuracy: 0.8396\n",
      "Epoch 84/100\n",
      "22/22 [==============================] - 0s 17ms/step - loss: 0.5363 - accuracy: 0.7685 - val_loss: 0.4583 - val_accuracy: 0.8182\n",
      "Epoch 85/100\n",
      "22/22 [==============================] - 0s 17ms/step - loss: 0.5718 - accuracy: 0.7315 - val_loss: 0.4555 - val_accuracy: 0.8021\n",
      "Epoch 86/100\n",
      "22/22 [==============================] - 0s 19ms/step - loss: 0.5407 - accuracy: 0.7415 - val_loss: 0.4722 - val_accuracy: 0.7914\n",
      "Epoch 87/100\n",
      "22/22 [==============================] - 0s 19ms/step - loss: 0.5175 - accuracy: 0.7656 - val_loss: 0.4411 - val_accuracy: 0.8128\n",
      "Epoch 88/100\n",
      "22/22 [==============================] - 0s 21ms/step - loss: 0.5081 - accuracy: 0.7685 - val_loss: 0.4416 - val_accuracy: 0.7861\n",
      "Epoch 89/100\n",
      "22/22 [==============================] - 1s 24ms/step - loss: 0.5546 - accuracy: 0.7443 - val_loss: 0.4357 - val_accuracy: 0.8182\n",
      "Epoch 90/100\n",
      "22/22 [==============================] - 0s 18ms/step - loss: 0.5547 - accuracy: 0.7358 - val_loss: 0.4442 - val_accuracy: 0.8235\n",
      "Epoch 91/100\n",
      "22/22 [==============================] - 1s 23ms/step - loss: 0.5273 - accuracy: 0.7344 - val_loss: 0.4523 - val_accuracy: 0.8021\n",
      "Epoch 92/100\n",
      "22/22 [==============================] - 0s 15ms/step - loss: 0.5197 - accuracy: 0.7699 - val_loss: 0.4603 - val_accuracy: 0.8182\n",
      "Epoch 93/100\n",
      "22/22 [==============================] - 0s 15ms/step - loss: 0.5510 - accuracy: 0.7401 - val_loss: 0.4567 - val_accuracy: 0.7914\n",
      "Epoch 94/100\n",
      "22/22 [==============================] - 0s 15ms/step - loss: 0.5463 - accuracy: 0.7259 - val_loss: 0.4783 - val_accuracy: 0.8128\n",
      "Epoch 95/100\n",
      "22/22 [==============================] - 0s 15ms/step - loss: 0.5222 - accuracy: 0.7500 - val_loss: 0.4600 - val_accuracy: 0.8235\n",
      "Epoch 96/100\n",
      "22/22 [==============================] - 0s 17ms/step - loss: 0.5513 - accuracy: 0.7571 - val_loss: 0.4272 - val_accuracy: 0.8235\n",
      "Epoch 97/100\n",
      "22/22 [==============================] - 0s 17ms/step - loss: 0.5130 - accuracy: 0.7557 - val_loss: 0.4833 - val_accuracy: 0.7914\n",
      "Epoch 98/100\n",
      "22/22 [==============================] - 0s 17ms/step - loss: 0.5301 - accuracy: 0.7685 - val_loss: 0.4508 - val_accuracy: 0.8075\n",
      "Epoch 99/100\n",
      "22/22 [==============================] - 0s 18ms/step - loss: 0.5215 - accuracy: 0.7713 - val_loss: 0.4564 - val_accuracy: 0.8182\n",
      "Epoch 100/100\n",
      "22/22 [==============================] - 0s 18ms/step - loss: 0.5325 - accuracy: 0.7472 - val_loss: 0.4497 - val_accuracy: 0.8235\n",
      "CPU times: user 52 s, sys: 19.6 s, total: 1min 11s\n",
      "Wall time: 50.6 s\n"
     ]
    },
    {
     "data": {
      "image/png": "[encoded data removed]",
      "text/plain": [
       "<Figure size 1000x1200 with 3 Axes>"
      ]
     },
     "metadata": {},
     "output_type": "display_data"
    }
   ],
   "source": [
    "model = tf.keras.models.Sequential([\n",
    "  tf.keras.layers.Dense(5),\n",
    "  tf.keras.layers.BatchNormalization(),\n",
    "  tf.keras.layers.Activation('relu'),\n",
    "  tf.keras.layers.Dropout(0.5),\n",
    "  tf.keras.layers.Dense(5),\n",
    "  tf.keras.layers.BatchNormalization(),\n",
    "  tf.keras.layers.Activation('relu'),\n",
    "  tf.keras.layers.Dropout(0.5),\n",
    "  tf.keras.layers.Dense(1, activation='sigmoid')\n",
    "])\n",
    "model.compile(optimizer=tf.keras.optimizers.Adam(learning_rate=0.01), loss='binary_crossentropy', metrics=['accuracy'])\n",
    "%time history = model.fit(training_data, epochs=100, validation_data=validation_data)\n",
    "visualization.graph_training_stats(history)"
   ]
  },
  {
   "cell_type": "markdown",
   "id": "9b6d266e",
   "metadata": {},
   "source": [
    "## Error Analysis\n",
    "\n",
    "TODO: This section was botched because I had a major bug in compute_error_analysis_matrices.  I will come back in and redo it, possibly resulting in new checkpoints and maybe even a better score.  All sections below will be affected.  None of the checkpoitns will be affected, but new checkpoints might be created if other column changes are found by more accurate error analysis.\n",
    "\n",
    "Run this after training a model and see how the tables look with that set of hyperparameters.\n",
    "\n",
    "Two weird things I found out while trying to get this to work:\n",
    "\n",
    " * If you use any other load call other than tf.keras.models.load_model, all the keras stuff like model.fit is missing.  See https://github.com/tensorflow/models/issues/8990#issuecomment-1069733488\n",
    " * Your checkpoint name cannot have [] in the name - that will cause it to parse wrong and claim the variables/variables folder doesn't exist even though you can plainly see it there.\n",
    " \n",
    " Observations from analyzing some checkpoints:\n",
    " \n",
    "  * The logistic regression model has overwhelmingly male false positives and female false negatives - if we could take the gender into account better we might get higher accuracy\n",
    "    * Maybe some other columns that aren't contributing enough could be removed to boost this one\n",
    "    * There is a particular fare group that appears in almost all of the false positives & negatives - maybe fare group should be left out. It's probably a bit redundant with class.\n",
    "    * A column that would be good to try leaving out is Origin as well - I wasn't sure about it to begin with.\n",
    "  * A deeper model shows similar behavior"
   ]
  },
  {
   "cell_type": "code",
   "execution_count": 41,
   "id": "fdc2f87f",
   "metadata": {},
   "outputs": [
    {
     "name": "stdout",
     "output_type": "stream",
     "text": [
      "6/6 [==============================] - 0s 2ms/step\n",
      "[true_positives]\n",
      "Shape: (39, 10)\n",
      "\n",
      "-1.5693889\t1.0\t0.0\t0.41618142\t1.0\t0.0\t0.0\t0.0\t1.7660451\t0.8165074\t\n",
      "-1.5693889\t1.0\t0.0\t0.41618142\t0.0\t1.0\t0.0\t0.0\t-1.1928625\t0.8165074\t\n",
      "0.8266247\t1.0\t0.0\t1.2910372\t0.0\t0.0\t1.0\t0.0\t-1.1928625\t-0.32204872\t\n",
      "-1.5693889\t0.0\t1.0\t0.41618142\t0.0\t1.0\t0.0\t0.0\t-0.009299424\t0.8165074\t\n",
      "0.8266247\t1.0\t0.0\t0.41618142\t1.0\t0.0\t0.0\t0.0\t-1.1928625\t-0.32204872\t\n",
      "-1.5693889\t1.0\t0.0\t-0.4586744\t0.0\t1.0\t0.0\t0.0\t-0.60108095\t0.8165074\t\n",
      "-0.37138212\t1.0\t0.0\t-0.4586744\t1.0\t0.0\t0.0\t0.0\t-0.009299424\t-0.32204872\t\n",
      "0.8266247\t1.0\t0.0\t-0.4586744\t0.0\t0.0\t1.0\t0.0\t-0.60108095\t-0.32204872\t\n",
      "0.8266247\t1.0\t0.0\t-0.4586744\t1.0\t0.0\t0.0\t0.0\t-0.009299424\t-0.32204872\t\n",
      "-1.5693889\t0.0\t1.0\t0.41618142\t0.0\t1.0\t0.0\t0.0\t-0.009299424\t0.8165074\t\n",
      "-0.37138212\t1.0\t0.0\t-0.4586744\t1.0\t0.0\t0.0\t0.0\t1.1742636\t-0.32204872\t\n",
      "0.8266247\t1.0\t0.0\t0.41618142\t0.0\t0.0\t1.0\t0.0\t-1.1928625\t-0.32204872\t\n",
      "-1.5693889\t1.0\t0.0\t-0.4586744\t1.0\t0.0\t0.0\t0.0\t0.5824821\t0.8165074\t\n",
      "-0.37138212\t1.0\t0.0\t-0.4586744\t0.0\t0.0\t1.0\t0.0\t0.5824821\t-0.32204872\t\n",
      "0.8266247\t1.0\t0.0\t-0.4586744\t0.0\t1.0\t0.0\t0.0\t-0.60108095\t-0.32204872\t\n",
      "-1.5693889\t0.0\t1.0\t0.41618142\t1.0\t0.0\t0.0\t0.0\t-1.1928625\t3.0936196\t\n",
      "-1.5693889\t1.0\t0.0\t-0.4586744\t0.0\t1.0\t0.0\t0.0\t-1.1928625\t0.8165074\t\n",
      "-0.37138212\t1.0\t0.0\t-0.4586744\t1.0\t0.0\t0.0\t0.0\t0.5824821\t-0.32204872\t\n",
      "0.8266247\t1.0\t0.0\t0.41618142\t1.0\t0.0\t0.0\t0.0\t-1.1928625\t-0.32204872\t\n",
      "-1.5693889\t1.0\t0.0\t-0.4586744\t1.0\t0.0\t0.0\t0.0\t-0.009299424\t3.0936196\t\n",
      "-0.37138212\t1.0\t0.0\t-0.4586744\t1.0\t0.0\t0.0\t0.0\t0.5824821\t-0.32204872\t\n",
      "-1.5693889\t1.0\t0.0\t-0.4586744\t0.0\t1.0\t0.0\t0.0\t1.1742636\t4.232176\t\n",
      "-0.37138212\t1.0\t0.0\t0.41618142\t1.0\t0.0\t0.0\t0.0\t1.1742636\t-0.32204872\t\n",
      "-1.5693889\t1.0\t0.0\t-0.4586744\t1.0\t0.0\t0.0\t0.0\t-0.60108095\t-0.32204872\t\n",
      "0.8266247\t1.0\t0.0\t1.2910372\t0.0\t1.0\t0.0\t0.0\t-1.1928625\t-0.32204872\t\n",
      "-1.5693889\t1.0\t0.0\t0.41618142\t1.0\t0.0\t0.0\t0.0\t-1.1928625\t0.8165074\t\n",
      "0.8266247\t1.0\t0.0\t-0.4586744\t1.0\t0.0\t0.0\t0.0\t-0.60108095\t-0.32204872\t\n",
      "-0.37138212\t1.0\t0.0\t-0.4586744\t1.0\t0.0\t0.0\t0.0\t-0.009299424\t-0.32204872\t\n",
      "0.8266247\t1.0\t0.0\t0.41618142\t1.0\t0.0\t0.0\t0.0\t-0.009299424\t-0.32204872\t\n",
      "-1.5693889\t1.0\t0.0\t-0.4586744\t1.0\t0.0\t0.0\t0.0\t0.5824821\t3.0936196\t\n",
      "-0.37138212\t1.0\t0.0\t-0.4586744\t1.0\t0.0\t0.0\t0.0\t1.7660451\t-0.32204872\t\n",
      "-1.5693889\t1.0\t0.0\t-0.4586744\t0.0\t0.0\t0.0\t1.0\t0.5824821\t0.8165074\t\n",
      "-1.5693889\t1.0\t0.0\t0.41618142\t0.0\t1.0\t0.0\t0.0\t-0.60108095\t4.232176\t\n",
      "-0.37138212\t1.0\t0.0\t-0.4586744\t1.0\t0.0\t0.0\t0.0\t1.1742636\t-0.32204872\t\n",
      "-1.5693889\t0.0\t1.0\t-0.4586744\t0.0\t1.0\t0.0\t0.0\t0.5824821\t11.063513\t\n",
      "-0.37138212\t1.0\t0.0\t-0.4586744\t1.0\t0.0\t0.0\t0.0\t0.5824821\t-0.32204872\t\n",
      "-0.37138212\t1.0\t0.0\t0.41618142\t0.0\t1.0\t0.0\t0.0\t-0.009299424\t-0.32204872\t\n",
      "-1.5693889\t1.0\t0.0\t0.41618142\t1.0\t0.0\t0.0\t0.0\t1.1742636\t0.8165074\t\n",
      "0.8266247\t1.0\t0.0\t-0.4586744\t0.0\t0.0\t1.0\t0.0\t-1.1928625\t-0.32204872\t\n",
      "--------------------------\n",
      "\n",
      "[true_negatives]\n",
      "Shape: (100, 10)\n",
      "\n",
      "0.8266247\t0.0\t1.0\t-0.4586744\t1.0\t0.0\t0.0\t0.0\t-0.009299424\t-0.32204872\t\n",
      "-0.37138212\t0.0\t1.0\t-0.4586744\t1.0\t0.0\t0.0\t0.0\t0.5824821\t-0.32204872\t\n",
      "0.8266247\t0.0\t1.0\t-0.4586744\t1.0\t0.0\t0.0\t0.0\t-0.009299424\t-0.32204872\t\n",
      "0.8266247\t1.0\t0.0\t0.41618142\t1.0\t0.0\t0.0\t0.0\t1.1742636\t-0.32204872\t\n",
      "0.8266247\t0.0\t1.0\t-0.4586744\t1.0\t0.0\t0.0\t0.0\t0.5824821\t-0.32204872\t\n",
      "0.8266247\t0.0\t1.0\t-0.4586744\t1.0\t0.0\t0.0\t0.0\t-0.009299424\t-0.32204872\t\n",
      "0.8266247\t0.0\t1.0\t-0.4586744\t1.0\t0.0\t0.0\t0.0\t-0.60108095\t-0.32204872\t\n",
      "0.8266247\t0.0\t1.0\t-0.4586744\t1.0\t0.0\t0.0\t0.0\t-0.009299424\t-0.32204872\t\n",
      "-0.37138212\t0.0\t1.0\t0.41618142\t0.0\t1.0\t0.0\t0.0\t-0.009299424\t-0.32204872\t\n",
      "-0.37138212\t0.0\t1.0\t-0.4586744\t1.0\t0.0\t0.0\t0.0\t0.5824821\t-0.32204872\t\n",
      "-0.37138212\t0.0\t1.0\t-0.4586744\t1.0\t0.0\t0.0\t0.0\t1.7660451\t-0.32204872\t\n",
      "0.8266247\t0.0\t1.0\t-0.4586744\t1.0\t0.0\t0.0\t0.0\t-0.009299424\t-0.32204872\t\n",
      "0.8266247\t0.0\t1.0\t-0.4586744\t1.0\t0.0\t0.0\t0.0\t-0.60108095\t-0.32204872\t\n",
      "-1.5693889\t0.0\t1.0\t-0.4586744\t1.0\t0.0\t0.0\t0.0\t2.3578267\t-0.32204872\t\n",
      "-0.37138212\t0.0\t1.0\t-0.4586744\t1.0\t0.0\t0.0\t0.0\t-1.1928625\t-0.32204872\t\n",
      "0.8266247\t0.0\t1.0\t-0.4586744\t1.0\t0.0\t0.0\t0.0\t-0.009299424\t-0.32204872\t\n",
      "0.8266247\t0.0\t1.0\t-0.4586744\t1.0\t0.0\t0.0\t0.0\t-0.60108095\t-0.32204872\t\n",
      "0.8266247\t0.0\t1.0\t-0.4586744\t1.0\t0.0\t0.0\t0.0\t0.5824821\t-0.32204872\t\n",
      "0.8266247\t0.0\t1.0\t-0.4586744\t0.0\t0.0\t1.0\t0.0\t2.949608\t-0.32204872\t\n",
      "0.8266247\t0.0\t1.0\t-0.4586744\t1.0\t0.0\t0.0\t0.0\t-0.60108095\t-0.32204872\t\n",
      "-1.5693889\t0.0\t1.0\t-0.4586744\t1.0\t0.0\t0.0\t0.0\t1.7660451\t-0.32204872\t\n",
      "-1.5693889\t0.0\t1.0\t-0.4586744\t1.0\t0.0\t0.0\t0.0\t1.1742636\t-0.32204872\t\n",
      "-1.5693889\t0.0\t1.0\t-0.4586744\t1.0\t0.0\t0.0\t0.0\t-1.1928625\t-0.32204872\t\n",
      "0.8266247\t0.0\t1.0\t-0.4586744\t0.0\t0.0\t1.0\t0.0\t-1.1928625\t-0.32204872\t\n",
      "0.8266247\t0.0\t1.0\t0.41618142\t1.0\t0.0\t0.0\t0.0\t-0.60108095\t-0.32204872\t\n",
      "-0.37138212\t0.0\t1.0\t-0.4586744\t1.0\t0.0\t0.0\t0.0\t0.5824821\t-0.32204872\t\n",
      "0.8266247\t0.0\t1.0\t1.2910372\t1.0\t0.0\t0.0\t0.0\t1.1742636\t-0.32204872\t\n",
      "0.8266247\t0.0\t1.0\t-0.4586744\t1.0\t0.0\t0.0\t0.0\t-0.009299424\t-0.32204872\t\n",
      "0.8266247\t0.0\t1.0\t-0.4586744\t1.0\t0.0\t0.0\t0.0\t-0.009299424\t-0.32204872\t\n",
      "-1.5693889\t0.0\t1.0\t-0.4586744\t1.0\t0.0\t0.0\t0.0\t-1.1928625\t-0.32204872\t\n",
      "0.8266247\t0.0\t1.0\t1.2910372\t1.0\t0.0\t0.0\t0.0\t-0.009299424\t-0.32204872\t\n",
      "-0.37138212\t0.0\t1.0\t-0.4586744\t1.0\t0.0\t0.0\t0.0\t-0.009299424\t-0.32204872\t\n",
      "-1.5693889\t0.0\t1.0\t0.41618142\t1.0\t0.0\t0.0\t0.0\t0.5824821\t0.8165074\t\n",
      "-1.5693889\t0.0\t1.0\t-0.4586744\t1.0\t0.0\t0.0\t0.0\t-0.009299424\t0.8165074\t\n",
      "-0.37138212\t0.0\t1.0\t1.2910372\t1.0\t0.0\t0.0\t0.0\t-0.009299424\t0.8165074\t\n",
      "0.8266247\t1.0\t0.0\t0.41618142\t1.0\t0.0\t0.0\t0.0\t0.5824821\t-0.32204872\t\n",
      "-1.5693889\t0.0\t1.0\t-0.4586744\t0.0\t1.0\t0.0\t0.0\t1.1742636\t0.8165074\t\n",
      "0.8266247\t0.0\t1.0\t-0.4586744\t1.0\t0.0\t0.0\t0.0\t-1.1928625\t-0.32204872\t\n",
      "-0.37138212\t0.0\t1.0\t-0.4586744\t1.0\t0.0\t0.0\t0.0\t0.5824821\t-0.32204872\t\n",
      "0.8266247\t0.0\t1.0\t-0.4586744\t1.0\t0.0\t0.0\t0.0\t-0.009299424\t-0.32204872\t\n",
      "0.8266247\t0.0\t1.0\t-0.4586744\t1.0\t0.0\t0.0\t0.0\t-0.009299424\t-0.32204872\t\n",
      "0.8266247\t0.0\t1.0\t-0.4586744\t1.0\t0.0\t0.0\t0.0\t0.5824821\t-0.32204872\t\n",
      "0.8266247\t0.0\t1.0\t-0.4586744\t0.0\t1.0\t0.0\t0.0\t-1.1928625\t-0.32204872\t\n",
      "-1.5693889\t0.0\t1.0\t0.41618142\t1.0\t0.0\t0.0\t0.0\t0.5824821\t0.8165074\t\n",
      "0.8266247\t0.0\t1.0\t0.41618142\t0.0\t1.0\t0.0\t0.0\t-0.60108095\t-0.32204872\t\n",
      "0.8266247\t0.0\t1.0\t-0.4586744\t1.0\t0.0\t0.0\t0.0\t-0.60108095\t-0.32204872\t\n",
      "0.8266247\t0.0\t1.0\t-0.4586744\t1.0\t0.0\t0.0\t0.0\t-0.009299424\t-0.32204872\t\n",
      "-0.37138212\t0.0\t1.0\t0.41618142\t0.0\t1.0\t0.0\t0.0\t0.5824821\t-0.32204872\t\n",
      "0.8266247\t0.0\t1.0\t-0.4586744\t1.0\t0.0\t0.0\t0.0\t-0.60108095\t-0.32204872\t\n",
      "0.8266247\t0.0\t1.0\t-0.4586744\t1.0\t0.0\t0.0\t0.0\t0.5824821\t-0.32204872\t\n",
      "-0.37138212\t0.0\t1.0\t-0.4586744\t1.0\t0.0\t0.0\t0.0\t-0.60108095\t-0.32204872\t\n",
      "0.8266247\t0.0\t1.0\t3.0407488\t0.0\t0.0\t1.0\t0.0\t-1.1928625\t-0.32204872\t\n",
      "0.8266247\t0.0\t1.0\t0.41618142\t1.0\t0.0\t0.0\t0.0\t-0.60108095\t-0.32204872\t\n",
      "0.8266247\t0.0\t1.0\t0.41618142\t1.0\t0.0\t0.0\t0.0\t-0.009299424\t-0.32204872\t\n",
      "0.8266247\t0.0\t1.0\t2.165893\t1.0\t0.0\t0.0\t0.0\t-1.1928625\t-0.32204872\t\n",
      "-1.5693889\t0.0\t1.0\t1.2910372\t0.0\t0.0\t1.0\t0.0\t1.1742636\t0.8165074\t\n",
      "0.8266247\t0.0\t1.0\t0.41618142\t1.0\t0.0\t0.0\t0.0\t0.5824821\t-0.32204872\t\n",
      "0.8266247\t0.0\t1.0\t-0.4586744\t1.0\t0.0\t0.0\t0.0\t-1.1928625\t-0.32204872\t\n",
      "-1.5693889\t0.0\t1.0\t-0.4586744\t1.0\t0.0\t0.0\t0.0\t1.1742636\t0.8165074\t\n",
      "0.8266247\t0.0\t1.0\t-0.4586744\t1.0\t0.0\t0.0\t0.0\t1.1742636\t-0.32204872\t\n",
      "0.8266247\t0.0\t1.0\t-0.4586744\t1.0\t0.0\t0.0\t0.0\t-0.009299424\t-0.32204872\t\n",
      "0.8266247\t0.0\t1.0\t-0.4586744\t1.0\t0.0\t0.0\t0.0\t-0.60108095\t-0.32204872\t\n",
      "-0.37138212\t0.0\t1.0\t1.2910372\t1.0\t0.0\t0.0\t0.0\t-0.009299424\t-0.32204872\t\n",
      "0.8266247\t0.0\t1.0\t-0.4586744\t1.0\t0.0\t0.0\t0.0\t1.1742636\t-0.32204872\t\n",
      "-0.37138212\t0.0\t1.0\t0.41618142\t1.0\t0.0\t0.0\t0.0\t0.5824821\t-0.32204872\t\n",
      "0.8266247\t0.0\t1.0\t-0.4586744\t1.0\t0.0\t0.0\t0.0\t-0.009299424\t-0.32204872\t\n",
      "0.8266247\t0.0\t1.0\t0.41618142\t1.0\t0.0\t0.0\t0.0\t0.5824821\t-0.32204872\t\n",
      "0.8266247\t0.0\t1.0\t-0.4586744\t1.0\t0.0\t0.0\t0.0\t0.5824821\t-0.32204872\t\n",
      "-1.5693889\t0.0\t1.0\t-0.4586744\t0.0\t1.0\t0.0\t0.0\t0.5824821\t-0.32204872\t\n",
      "0.8266247\t1.0\t0.0\t3.9156046\t1.0\t0.0\t0.0\t0.0\t-0.60108095\t-0.32204872\t\n",
      "0.8266247\t0.0\t1.0\t-0.4586744\t1.0\t0.0\t0.0\t0.0\t-0.009299424\t-0.32204872\t\n",
      "-0.37138212\t0.0\t1.0\t0.41618142\t1.0\t0.0\t0.0\t0.0\t-0.009299424\t-0.32204872\t\n",
      "0.8266247\t0.0\t1.0\t-0.4586744\t0.0\t1.0\t0.0\t0.0\t0.5824821\t-0.32204872\t\n",
      "0.8266247\t0.0\t1.0\t-0.4586744\t1.0\t0.0\t0.0\t0.0\t-0.009299424\t-0.32204872\t\n",
      "0.8266247\t1.0\t0.0\t6.540172\t1.0\t0.0\t0.0\t0.0\t-1.1928625\t0.8165074\t\n",
      "0.8266247\t0.0\t1.0\t1.2910372\t0.0\t1.0\t0.0\t0.0\t-1.1928625\t-0.32204872\t\n",
      "0.8266247\t0.0\t1.0\t-0.4586744\t1.0\t0.0\t0.0\t0.0\t0.5824821\t-0.32204872\t\n",
      "-1.5693889\t0.0\t1.0\t-0.4586744\t1.0\t0.0\t0.0\t0.0\t-0.009299424\t-0.32204872\t\n",
      "0.8266247\t1.0\t0.0\t0.41618142\t1.0\t0.0\t0.0\t0.0\t1.1742636\t-0.32204872\t\n",
      "0.8266247\t0.0\t1.0\t3.0407488\t1.0\t0.0\t0.0\t0.0\t-1.1928625\t-0.32204872\t\n",
      "0.8266247\t0.0\t1.0\t-0.4586744\t1.0\t0.0\t0.0\t0.0\t-1.1928625\t-0.32204872\t\n",
      "0.8266247\t0.0\t1.0\t-0.4586744\t1.0\t0.0\t0.0\t0.0\t-1.1928625\t0.8165074\t\n",
      "0.8266247\t0.0\t1.0\t0.41618142\t1.0\t0.0\t0.0\t0.0\t-1.1928625\t-0.32204872\t\n",
      "-1.5693889\t0.0\t1.0\t-0.4586744\t1.0\t0.0\t0.0\t0.0\t2.3578267\t-0.32204872\t\n",
      "-0.37138212\t0.0\t1.0\t-0.4586744\t1.0\t0.0\t0.0\t0.0\t0.5824821\t-0.32204872\t\n",
      "-0.37138212\t0.0\t1.0\t-0.4586744\t1.0\t0.0\t0.0\t0.0\t0.5824821\t-0.32204872\t\n",
      "-1.5693889\t0.0\t1.0\t-0.4586744\t1.0\t0.0\t0.0\t0.0\t1.7660451\t0.8165074\t\n",
      "0.8266247\t0.0\t1.0\t-0.4586744\t0.0\t1.0\t0.0\t0.0\t-1.1928625\t-0.32204872\t\n",
      "0.8266247\t0.0\t1.0\t-0.4586744\t0.0\t1.0\t0.0\t0.0\t1.1742636\t-0.32204872\t\n",
      "0.8266247\t0.0\t1.0\t0.41618142\t1.0\t0.0\t0.0\t0.0\t0.5824821\t-0.32204872\t\n",
      "-0.37138212\t0.0\t1.0\t0.41618142\t1.0\t0.0\t0.0\t0.0\t1.7660451\t-0.32204872\t\n",
      "0.8266247\t0.0\t1.0\t-0.4586744\t0.0\t0.0\t1.0\t0.0\t-1.1928625\t-0.32204872\t\n",
      "0.8266247\t0.0\t1.0\t-0.4586744\t1.0\t0.0\t0.0\t0.0\t-1.1928625\t-0.32204872\t\n",
      "0.8266247\t0.0\t1.0\t-0.4586744\t1.0\t0.0\t0.0\t0.0\t1.7660451\t-0.32204872\t\n",
      "-0.37138212\t0.0\t1.0\t-0.4586744\t1.0\t0.0\t0.0\t0.0\t1.1742636\t-0.32204872\t\n",
      "0.8266247\t0.0\t1.0\t-0.4586744\t0.0\t0.0\t1.0\t0.0\t-1.1928625\t-0.32204872\t\n",
      "0.8266247\t0.0\t1.0\t-0.4586744\t1.0\t0.0\t0.0\t0.0\t-1.1928625\t-0.32204872\t\n",
      "0.8266247\t0.0\t1.0\t-0.4586744\t1.0\t0.0\t0.0\t0.0\t-0.60108095\t-0.32204872\t\n",
      "0.8266247\t0.0\t1.0\t6.540172\t1.0\t0.0\t0.0\t0.0\t-1.1928625\t0.8165074\t\n",
      "0.8266247\t1.0\t0.0\t0.41618142\t1.0\t0.0\t0.0\t0.0\t1.1742636\t-0.32204872\t\n",
      "--------------------------\n",
      "\n",
      "[false_positives]\n",
      "Shape: (28, 10)\n",
      "\n",
      "0.8266247\t0.0\t1.0\t0.41618142\t1.0\t0.0\t0.0\t0.0\t-0.009299424\t-0.32204872\t\n",
      "-0.37138212\t0.0\t1.0\t-0.4586744\t1.0\t0.0\t0.0\t0.0\t-1.1928625\t-0.32204872\t\n",
      "-1.5693889\t0.0\t1.0\t-0.4586744\t1.0\t0.0\t0.0\t0.0\t-1.1928625\t-0.32204872\t\n",
      "0.8266247\t0.0\t1.0\t-0.4586744\t1.0\t0.0\t0.0\t0.0\t0.5824821\t-0.32204872\t\n",
      "0.8266247\t0.0\t1.0\t0.41618142\t1.0\t0.0\t0.0\t0.0\t-1.1928625\t-0.32204872\t\n",
      "0.8266247\t0.0\t1.0\t-0.4586744\t1.0\t0.0\t0.0\t0.0\t0.5824821\t-0.32204872\t\n",
      "-1.5693889\t0.0\t1.0\t-0.4586744\t0.0\t1.0\t0.0\t0.0\t0.5824821\t-0.32204872\t\n",
      "0.8266247\t1.0\t0.0\t0.41618142\t1.0\t0.0\t0.0\t0.0\t0.5824821\t-0.32204872\t\n",
      "0.8266247\t0.0\t1.0\t-0.4586744\t1.0\t0.0\t0.0\t0.0\t-1.1928625\t0.8165074\t\n",
      "0.8266247\t0.0\t1.0\t-0.4586744\t1.0\t0.0\t0.0\t0.0\t-0.009299424\t-0.32204872\t\n",
      "0.8266247\t0.0\t1.0\t-0.4586744\t0.0\t1.0\t0.0\t0.0\t-1.1928625\t-0.32204872\t\n",
      "0.8266247\t1.0\t0.0\t0.41618142\t1.0\t0.0\t0.0\t0.0\t0.5824821\t-0.32204872\t\n",
      "-1.5693889\t0.0\t1.0\t-0.4586744\t1.0\t0.0\t0.0\t0.0\t1.1742636\t-0.32204872\t\n",
      "-0.37138212\t0.0\t1.0\t-0.4586744\t1.0\t0.0\t0.0\t0.0\t2.3578267\t-0.32204872\t\n",
      "0.8266247\t0.0\t1.0\t0.41618142\t0.0\t1.0\t0.0\t0.0\t-1.1928625\t-0.32204872\t\n",
      "-0.37138212\t0.0\t1.0\t1.2910372\t1.0\t0.0\t0.0\t0.0\t-1.1928625\t-0.32204872\t\n",
      "-0.37138212\t0.0\t1.0\t-0.4586744\t1.0\t0.0\t0.0\t0.0\t0.5824821\t-0.32204872\t\n",
      "0.8266247\t0.0\t1.0\t-0.4586744\t0.0\t0.0\t1.0\t0.0\t-1.1928625\t-0.32204872\t\n",
      "0.8266247\t0.0\t1.0\t-0.4586744\t1.0\t0.0\t0.0\t0.0\t-0.009299424\t-0.32204872\t\n",
      "-1.5693889\t0.0\t1.0\t-0.4586744\t0.0\t1.0\t0.0\t0.0\t1.1742636\t-0.32204872\t\n",
      "-1.5693889\t0.0\t1.0\t0.41618142\t1.0\t0.0\t0.0\t0.0\t-0.009299424\t0.8165074\t\n",
      "-0.37138212\t0.0\t1.0\t0.41618142\t1.0\t0.0\t0.0\t0.0\t-1.1928625\t-0.32204872\t\n",
      "0.8266247\t0.0\t1.0\t-0.4586744\t0.0\t1.0\t0.0\t0.0\t-0.009299424\t-0.32204872\t\n",
      "-1.5693889\t0.0\t1.0\t0.41618142\t0.0\t1.0\t0.0\t0.0\t1.1742636\t0.8165074\t\n",
      "0.8266247\t1.0\t0.0\t0.41618142\t1.0\t0.0\t0.0\t0.0\t0.5824821\t-0.32204872\t\n",
      "0.8266247\t1.0\t0.0\t0.41618142\t1.0\t0.0\t0.0\t0.0\t0.5824821\t-0.32204872\t\n",
      "0.8266247\t0.0\t1.0\t-0.4586744\t1.0\t0.0\t0.0\t0.0\t1.1742636\t-0.32204872\t\n",
      "-1.5693889\t0.0\t1.0\t0.41618142\t1.0\t0.0\t0.0\t0.0\t1.1742636\t0.8165074\t\n",
      "--------------------------\n",
      "\n",
      "[false_negatives]\n",
      "Shape: (20, 10)\n",
      "\n",
      "0.8266247\t1.0\t0.0\t0.41618142\t1.0\t0.0\t0.0\t0.0\t-0.009299424\t-0.32204872\t\n",
      "0.8266247\t1.0\t0.0\t-0.4586744\t0.0\t1.0\t0.0\t0.0\t-0.60108095\t-0.32204872\t\n",
      "-1.5693889\t0.0\t1.0\t-0.4586744\t0.0\t1.0\t0.0\t0.0\t-1.1928625\t-0.32204872\t\n",
      "-1.5693889\t0.0\t1.0\t0.41618142\t0.0\t1.0\t0.0\t0.0\t-0.60108095\t1.9550635\t\n",
      "-1.5693889\t0.0\t1.0\t-0.4586744\t0.0\t1.0\t0.0\t0.0\t-0.009299424\t0.8165074\t\n",
      "0.8266247\t1.0\t0.0\t-0.4586744\t1.0\t0.0\t0.0\t0.0\t-0.60108095\t-0.32204872\t\n",
      "0.8266247\t1.0\t0.0\t2.165893\t1.0\t0.0\t0.0\t0.0\t-1.1928625\t-0.32204872\t\n",
      "0.8266247\t1.0\t0.0\t0.41618142\t0.0\t1.0\t0.0\t0.0\t-1.1928625\t-0.32204872\t\n",
      "0.8266247\t1.0\t0.0\t2.165893\t1.0\t0.0\t0.0\t0.0\t-1.1928625\t-0.32204872\t\n",
      "-1.5693889\t0.0\t1.0\t-0.4586744\t0.0\t1.0\t0.0\t0.0\t-0.009299424\t4.232176\t\n",
      "0.8266247\t1.0\t0.0\t2.165893\t1.0\t0.0\t0.0\t0.0\t-1.1928625\t-0.32204872\t\n",
      "0.8266247\t1.0\t0.0\t0.41618142\t0.0\t1.0\t0.0\t0.0\t-1.1928625\t-0.32204872\t\n",
      "-1.5693889\t0.0\t1.0\t-0.4586744\t0.0\t1.0\t0.0\t0.0\t-0.009299424\t4.232176\t\n",
      "-1.5693889\t0.0\t1.0\t-0.4586744\t0.0\t1.0\t0.0\t0.0\t-1.1928625\t-0.32204872\t\n",
      "0.8266247\t1.0\t0.0\t-0.4586744\t1.0\t0.0\t0.0\t0.0\t-0.009299424\t-0.32204872\t\n",
      "0.8266247\t1.0\t0.0\t-0.4586744\t1.0\t0.0\t0.0\t0.0\t-1.1928625\t-0.32204872\t\n",
      "0.8266247\t1.0\t0.0\t-0.4586744\t1.0\t0.0\t0.0\t0.0\t-1.1928625\t-0.32204872\t\n",
      "-0.37138212\t1.0\t0.0\t-0.4586744\t1.0\t0.0\t0.0\t0.0\t1.7660451\t-0.32204872\t\n",
      "0.8266247\t1.0\t0.0\t-0.4586744\t0.0\t0.0\t1.0\t0.0\t0.5824821\t-0.32204872\t\n",
      "0.8266247\t1.0\t0.0\t1.2910372\t1.0\t0.0\t0.0\t0.0\t-0.60108095\t-0.32204872\t\n",
      "--------------------------\n",
      "\n"
     ]
    }
   ],
   "source": [
    "CHECKPOINT_TO_ANALYZE = '1_0.001_120_32_'\n",
    "\n",
    "model = tf.keras.models.load_model(os.path.join(MODEL_FOLDER, CHECKPOINT_TO_ANALYZE))\n",
    "\n",
    "# If you didn't want to load the whole dataset into memory, you could do this in batches with model.predict_on_batch.\n",
    "validation_input_tensor, validation_label_tensor = datasets.collect_tensors(validation_data)\n",
    "validation_output_tensor = tf.cast(model.predict(validation_input_tensor) >= 0.5, tf.int32)\n",
    "\n",
    "error_analysis_matrices = error_analysis.compute_error_analysis_matrices(validation_input_tensor, \n",
    "                                                                         validation_label_tensor,\n",
    "                                                                         validation_output_tensor)\n",
    "error_analysis.print_error_analysis_matrices(error_analysis_matrices)"
   ]
  },
  {
   "cell_type": "markdown",
   "id": "5e2e06e4",
   "metadata": {},
   "source": [
    "## Model Selection\n",
    "\n",
    "After trying dropping Origin and/or Fare Group, I found that the performance did not improve, and the convergence was about the same. In some cases the performance went down slightly.  Therefore, I'm going to stick with using the full set of columns.\n",
    "\n",
    "Even though some of the deeper models have better scores in my table, those graphs are super noisy and on the test set could easily underperform or overperform.  I would prefer to use the more dependable and pretty high score from the logistic regression model.\n",
    "\n",
    "Thus, I am going to use checkpoint __1_0.001_120_32___, which is logistic regression with a learning rate of 0.001 trained with a batch size of 32 for 120 epochs (all 10 tensor columns)."
   ]
  },
  {
   "cell_type": "markdown",
   "id": "d6190c0b",
   "metadata": {},
   "source": [
    "# Test Data\n",
    "\n",
    "I put the final output code in a helper function - it will write to my output path (hardcoded in that file). The basic idea is that it will load the base dataset from the test data csv file and then create two parallel datasets, with shuffling off so that the order is consistent between the two.  One dataset contains the passenger IDs and the other contains the input data to the model.\n",
    "\n",
    "We run the predictions and output to the CSV in batches, which is not necessary for this small dataset, but I wanted to get my infrastructure in place to do that on bigger datasets.\n",
    "\n",
    "Sometimes I get a warning about retracing - it's most likely because my checkpoints above don't have input layers.  I will fix this in my library code going forward but will not redo the models here because I saved a bunch of checkpoints already."
   ]
  },
  {
   "cell_type": "code",
   "execution_count": 42,
   "id": "601df1dc",
   "metadata": {},
   "outputs": [
    {
     "name": "stderr",
     "output_type": "stream",
     "text": [
      "2023-05-14 21:32:53.592285: I tensorflow/core/common_runtime/executor.cc:1197] [/device:CPU:0] (DEBUG INFO) Executor start aborting (this does not indicate an error and you can ignore this message): INVALID_ARGUMENT: You must feed a value for placeholder tensor 'Placeholder/_9' with dtype string and shape [1]\n",
      "\t [[{{node Placeholder/_9}}]]\n",
      "2023-05-14 21:32:53.592715: I tensorflow/core/common_runtime/executor.cc:1197] [/device:CPU:0] (DEBUG INFO) Executor start aborting (this does not indicate an error and you can ignore this message): INVALID_ARGUMENT: You must feed a value for placeholder tensor 'Placeholder/_4' with dtype string and shape [1]\n",
      "\t [[{{node Placeholder/_4}}]]\n",
      "2023-05-14 21:32:53.626667: I tensorflow/core/common_runtime/executor.cc:1197] [/device:CPU:0] (DEBUG INFO) Executor start aborting (this does not indicate an error and you can ignore this message): INVALID_ARGUMENT: You must feed a value for placeholder tensor 'Placeholder/_10' with dtype float and shape [1]\n",
      "\t [[{{node Placeholder/_10}}]]\n",
      "2023-05-14 21:32:53.627164: I tensorflow/core/common_runtime/executor.cc:1197] [/device:CPU:0] (DEBUG INFO) Executor start aborting (this does not indicate an error and you can ignore this message): INVALID_ARGUMENT: You must feed a value for placeholder tensor 'Placeholder/_5' with dtype string and shape [1]\n",
      "\t [[{{node Placeholder/_5}}]]\n",
      "2023-05-14 21:32:53.702979: I tensorflow/core/common_runtime/executor.cc:1197] [/device:CPU:0] (DEBUG INFO) Executor start aborting (this does not indicate an error and you can ignore this message): INVALID_ARGUMENT: You must feed a value for placeholder tensor 'Placeholder/_0' with dtype float and shape [100,10]\n",
      "\t [[{{node Placeholder/_0}}]]\n",
      "2023-05-14 21:32:53.742757: I tensorflow/core/common_runtime/executor.cc:1197] [/device:CPU:0] (DEBUG INFO) Executor start aborting (this does not indicate an error and you can ignore this message): INVALID_ARGUMENT: You must feed a value for placeholder tensor 'Placeholder/_0' with dtype float and shape [100,10]\n",
      "\t [[{{node Placeholder/_0}}]]\n",
      "2023-05-14 21:32:53.759870: I tensorflow/core/common_runtime/executor.cc:1197] [/device:CPU:0] (DEBUG INFO) Executor start aborting (this does not indicate an error and you can ignore this message): INVALID_ARGUMENT: You must feed a value for placeholder tensor 'Placeholder/_0' with dtype float and shape [100,10]\n",
      "\t [[{{node Placeholder/_0}}]]\n",
      "2023-05-14 21:32:53.776438: I tensorflow/core/common_runtime/executor.cc:1197] [/device:CPU:0] (DEBUG INFO) Executor start aborting (this does not indicate an error and you can ignore this message): INVALID_ARGUMENT: You must feed a value for placeholder tensor 'Placeholder/_0' with dtype float and shape [100,10]\n",
      "\t [[{{node Placeholder/_0}}]]\n",
      "2023-05-14 21:32:53.797069: I tensorflow/core/common_runtime/executor.cc:1197] [/device:CPU:0] (DEBUG INFO) Executor start aborting (this does not indicate an error and you can ignore this message): INVALID_ARGUMENT: You must feed a value for placeholder tensor 'Placeholder/_0' with dtype float and shape [18,10]\n",
      "\t [[{{node Placeholder/_0}}]]\n"
     ]
    }
   ],
   "source": [
    "CHECKPOINT_FOR_FINAL_TEST = '5,5,1_0.001_40_32_'\n",
    "\n",
    "passenger_ids,test_data = preprocessing.prepare_test_data_for_model()\n",
    "model = tf.keras.models.load_model(os.path.join(MODEL_FOLDER, CHECKPOINT_FOR_FINAL_TEST))\n",
    "\n",
    "preprocessing.test_model_and_create_csv(model, passenger_ids, test_data)"
   ]
  },
  {
   "cell_type": "markdown",
   "id": "a3dff3f4",
   "metadata": {},
   "source": [
    "## Final Results\n",
    "\n",
    "I submitted my chosen checkpoint above and got only 75.8%, a pretty dissapointing result.  This put me at position 13,593 on the leaderboard - ouch!\n",
    "\n",
    "I tried again with the checkpoint [5,5,1] w/ no origin or fare and got 76.3%, a leaderboard position of 13,103.\n",
    "\n",
    "I tried again with [5,1,1] w/ all columns and got 75.6%.\n",
    "\n",
    "Overall, it seems my models did not generalize well at all, even while using a cross-validation set to prevent that.  Maybe the dataset is so small that I should not have used a validation set and trained on the whole thing instead.\n",
    "\n",
    "The gender-only example submission achieves 76.6%, so I did worse than that.\n",
    "\n",
    "Most of the best submissions are tree-based, but there is a very good neural netowrk based one that has a lot of layers and some cleverly engineered features such as checking if someone's last name is a last name that tended to survive in the training set."
   ]
  },
  {
   "cell_type": "code",
   "execution_count": null,
   "id": "90cf62ba",
   "metadata": {},
   "outputs": [],
   "source": []
  }
 ],
 "metadata": {
  "kernelspec": {
   "display_name": "Python 3 (ipykernel)",
   "language": "python",
   "name": "python3"
  },
  "language_info": {
   "codemirror_mode": {
    "name": "ipython",
    "version": 3
   },
   "file_extension": ".py",
   "mimetype": "text/x-python",
   "name": "python",
   "nbconvert_exporter": "python",
   "pygments_lexer": "ipython3",
   "version": "3.11.3"
  }
 },
 "nbformat": 4,
 "nbformat_minor": 5
}
